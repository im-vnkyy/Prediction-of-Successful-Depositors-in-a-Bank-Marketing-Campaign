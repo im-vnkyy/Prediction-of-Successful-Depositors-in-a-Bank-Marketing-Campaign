{
 "cells": [
  {
   "cell_type": "markdown",
   "id": "2f6cf7bb",
   "metadata": {},
   "source": [
    "#### 1.Importing Libraries:"
   ]
  },
  {
   "cell_type": "code",
   "execution_count": 413,
   "id": "cc389570",
   "metadata": {},
   "outputs": [],
   "source": [
    "import pandas as pd, numpy as np\n",
    "import matplotlib.pyplot as plt, seaborn as sns\n",
    "import warnings\n",
    "warnings.filterwarnings(\"ignore\")"
   ]
  },
  {
   "cell_type": "code",
   "execution_count": 414,
   "id": "44dbc992",
   "metadata": {},
   "outputs": [],
   "source": [
    "%matplotlib inline"
   ]
  },
  {
   "cell_type": "code",
   "execution_count": 415,
   "id": "36065e70",
   "metadata": {},
   "outputs": [],
   "source": [
    "pd.set_option(\"display.max_columns\", 100)"
   ]
  },
  {
   "cell_type": "markdown",
   "id": "36ef7e18",
   "metadata": {},
   "source": [
    "#### 2. Data Loading:"
   ]
  },
  {
   "cell_type": "code",
   "execution_count": 416,
   "id": "f0c87b1b",
   "metadata": {},
   "outputs": [
    {
     "data": {
      "text/html": [
       "<div>\n",
       "<style scoped>\n",
       "    .dataframe tbody tr th:only-of-type {\n",
       "        vertical-align: middle;\n",
       "    }\n",
       "\n",
       "    .dataframe tbody tr th {\n",
       "        vertical-align: top;\n",
       "    }\n",
       "\n",
       "    .dataframe thead th {\n",
       "        text-align: right;\n",
       "    }\n",
       "</style>\n",
       "<table border=\"1\" class=\"dataframe\">\n",
       "  <thead>\n",
       "    <tr style=\"text-align: right;\">\n",
       "      <th></th>\n",
       "      <th>age</th>\n",
       "      <th>job</th>\n",
       "      <th>marital</th>\n",
       "      <th>education</th>\n",
       "      <th>default</th>\n",
       "      <th>balance</th>\n",
       "      <th>housing</th>\n",
       "      <th>loan</th>\n",
       "      <th>contact</th>\n",
       "      <th>day</th>\n",
       "      <th>month</th>\n",
       "      <th>duration</th>\n",
       "      <th>poutcome</th>\n",
       "      <th>deposit</th>\n",
       "      <th>p_recency</th>\n",
       "    </tr>\n",
       "  </thead>\n",
       "  <tbody>\n",
       "    <tr>\n",
       "      <th>0</th>\n",
       "      <td>59</td>\n",
       "      <td>admin.</td>\n",
       "      <td>married</td>\n",
       "      <td>secondary</td>\n",
       "      <td>no</td>\n",
       "      <td>2343</td>\n",
       "      <td>yes</td>\n",
       "      <td>no</td>\n",
       "      <td>unknown</td>\n",
       "      <td>5</td>\n",
       "      <td>may</td>\n",
       "      <td>1042</td>\n",
       "      <td>unknown</td>\n",
       "      <td>yes</td>\n",
       "      <td>None</td>\n",
       "    </tr>\n",
       "    <tr>\n",
       "      <th>1</th>\n",
       "      <td>56</td>\n",
       "      <td>admin.</td>\n",
       "      <td>married</td>\n",
       "      <td>secondary</td>\n",
       "      <td>no</td>\n",
       "      <td>45</td>\n",
       "      <td>no</td>\n",
       "      <td>no</td>\n",
       "      <td>unknown</td>\n",
       "      <td>5</td>\n",
       "      <td>may</td>\n",
       "      <td>1467</td>\n",
       "      <td>unknown</td>\n",
       "      <td>yes</td>\n",
       "      <td>None</td>\n",
       "    </tr>\n",
       "    <tr>\n",
       "      <th>2</th>\n",
       "      <td>41</td>\n",
       "      <td>technician</td>\n",
       "      <td>married</td>\n",
       "      <td>secondary</td>\n",
       "      <td>no</td>\n",
       "      <td>1270</td>\n",
       "      <td>yes</td>\n",
       "      <td>no</td>\n",
       "      <td>unknown</td>\n",
       "      <td>5</td>\n",
       "      <td>may</td>\n",
       "      <td>1389</td>\n",
       "      <td>unknown</td>\n",
       "      <td>yes</td>\n",
       "      <td>None</td>\n",
       "    </tr>\n",
       "    <tr>\n",
       "      <th>3</th>\n",
       "      <td>55</td>\n",
       "      <td>services</td>\n",
       "      <td>married</td>\n",
       "      <td>secondary</td>\n",
       "      <td>no</td>\n",
       "      <td>2476</td>\n",
       "      <td>yes</td>\n",
       "      <td>no</td>\n",
       "      <td>unknown</td>\n",
       "      <td>5</td>\n",
       "      <td>may</td>\n",
       "      <td>579</td>\n",
       "      <td>unknown</td>\n",
       "      <td>yes</td>\n",
       "      <td>None</td>\n",
       "    </tr>\n",
       "    <tr>\n",
       "      <th>4</th>\n",
       "      <td>54</td>\n",
       "      <td>admin.</td>\n",
       "      <td>married</td>\n",
       "      <td>tertiary</td>\n",
       "      <td>no</td>\n",
       "      <td>184</td>\n",
       "      <td>no</td>\n",
       "      <td>no</td>\n",
       "      <td>unknown</td>\n",
       "      <td>5</td>\n",
       "      <td>may</td>\n",
       "      <td>673</td>\n",
       "      <td>unknown</td>\n",
       "      <td>yes</td>\n",
       "      <td>None</td>\n",
       "    </tr>\n",
       "  </tbody>\n",
       "</table>\n",
       "</div>"
      ],
      "text/plain": [
       "   age         job  marital  education default  balance housing loan  contact  \\\n",
       "0   59      admin.  married  secondary      no     2343     yes   no  unknown   \n",
       "1   56      admin.  married  secondary      no       45      no   no  unknown   \n",
       "2   41  technician  married  secondary      no     1270     yes   no  unknown   \n",
       "3   55    services  married  secondary      no     2476     yes   no  unknown   \n",
       "4   54      admin.  married   tertiary      no      184      no   no  unknown   \n",
       "\n",
       "   day month  duration poutcome deposit p_recency  \n",
       "0    5   may      1042  unknown     yes      None  \n",
       "1    5   may      1467  unknown     yes      None  \n",
       "2    5   may      1389  unknown     yes      None  \n",
       "3    5   may       579  unknown     yes      None  \n",
       "4    5   may       673  unknown     yes      None  "
      ]
     },
     "execution_count": 416,
     "metadata": {},
     "output_type": "execute_result"
    }
   ],
   "source": [
    "df = pd.read_csv(\"bank marketing v2.csv\")\n",
    "df.head()"
   ]
  },
  {
   "cell_type": "markdown",
   "id": "b8f05791",
   "metadata": {},
   "source": [
    "#### 3. Data Checks:"
   ]
  },
  {
   "cell_type": "code",
   "execution_count": 417,
   "id": "fb7e5506",
   "metadata": {},
   "outputs": [
    {
     "data": {
      "text/plain": [
       "(11162, 15)"
      ]
     },
     "execution_count": 417,
     "metadata": {},
     "output_type": "execute_result"
    }
   ],
   "source": [
    "df.shape"
   ]
  },
  {
   "cell_type": "code",
   "execution_count": 418,
   "id": "07d00c14",
   "metadata": {},
   "outputs": [
    {
     "data": {
      "text/plain": [
       "age           int64\n",
       "job          object\n",
       "marital      object\n",
       "education    object\n",
       "default      object\n",
       "balance       int64\n",
       "housing      object\n",
       "loan         object\n",
       "contact      object\n",
       "day           int64\n",
       "month        object\n",
       "duration      int64\n",
       "poutcome     object\n",
       "deposit      object\n",
       "p_recency    object\n",
       "dtype: object"
      ]
     },
     "execution_count": 418,
     "metadata": {},
     "output_type": "execute_result"
    }
   ],
   "source": [
    "df.dtypes"
   ]
  },
  {
   "cell_type": "code",
   "execution_count": 419,
   "id": "c66308a3",
   "metadata": {},
   "outputs": [
    {
     "name": "stdout",
     "output_type": "stream",
     "text": [
      "<class 'pandas.core.frame.DataFrame'>\n",
      "RangeIndex: 11162 entries, 0 to 11161\n",
      "Data columns (total 15 columns):\n",
      " #   Column     Non-Null Count  Dtype \n",
      "---  ------     --------------  ----- \n",
      " 0   age        11162 non-null  int64 \n",
      " 1   job        11162 non-null  object\n",
      " 2   marital    11162 non-null  object\n",
      " 3   education  11162 non-null  object\n",
      " 4   default    11162 non-null  object\n",
      " 5   balance    11162 non-null  int64 \n",
      " 6   housing    11162 non-null  object\n",
      " 7   loan       11162 non-null  object\n",
      " 8   contact    11162 non-null  object\n",
      " 9   day        11162 non-null  int64 \n",
      " 10  month      11162 non-null  object\n",
      " 11  duration   11162 non-null  int64 \n",
      " 12  poutcome   11162 non-null  object\n",
      " 13  deposit    11162 non-null  object\n",
      " 14  p_recency  11162 non-null  object\n",
      "dtypes: int64(4), object(11)\n",
      "memory usage: 1.3+ MB\n"
     ]
    }
   ],
   "source": [
    "df.info()"
   ]
  },
  {
   "cell_type": "code",
   "execution_count": 420,
   "id": "e4a36b69",
   "metadata": {},
   "outputs": [
    {
     "data": {
      "text/plain": [
       "age          0\n",
       "job          0\n",
       "marital      0\n",
       "education    0\n",
       "default      0\n",
       "balance      0\n",
       "housing      0\n",
       "loan         0\n",
       "contact      0\n",
       "day          0\n",
       "month        0\n",
       "duration     0\n",
       "poutcome     0\n",
       "deposit      0\n",
       "p_recency    0\n",
       "dtype: int64"
      ]
     },
     "execution_count": 420,
     "metadata": {},
     "output_type": "execute_result"
    }
   ],
   "source": [
    "df.isnull().sum()"
   ]
  },
  {
   "cell_type": "code",
   "execution_count": 421,
   "id": "e3952edd",
   "metadata": {},
   "outputs": [
    {
     "name": "stdout",
     "output_type": "stream",
     "text": [
      "management       2566\n",
      "blue-collar      1944\n",
      "technician       1823\n",
      "admin.           1334\n",
      "services          923\n",
      "retired           778\n",
      "self-employed     405\n",
      "student           360\n",
      "unemployed        357\n",
      "entrepreneur      328\n",
      "housemaid         274\n",
      "unknown            70\n",
      "Name: job, dtype: int64\n",
      "--------------------------------------------------\n",
      "married     6351\n",
      "single      3518\n",
      "divorced    1293\n",
      "Name: marital, dtype: int64\n",
      "--------------------------------------------------\n",
      "secondary    5476\n",
      "tertiary     3689\n",
      "primary      1500\n",
      "unknown       497\n",
      "Name: education, dtype: int64\n",
      "--------------------------------------------------\n",
      "no     10994\n",
      "yes      168\n",
      "Name: default, dtype: int64\n",
      "--------------------------------------------------\n",
      "no     5881\n",
      "yes    5281\n",
      "Name: housing, dtype: int64\n",
      "--------------------------------------------------\n",
      "no     9702\n",
      "yes    1460\n",
      "Name: loan, dtype: int64\n",
      "--------------------------------------------------\n",
      "cellular     8042\n",
      "unknown      2346\n",
      "telephone     774\n",
      "Name: contact, dtype: int64\n",
      "--------------------------------------------------\n",
      "may    2824\n",
      "aug    1519\n",
      "jul    1514\n",
      "jun    1222\n",
      "nov     943\n",
      "apr     923\n",
      "feb     776\n",
      "oct     392\n",
      "jan     344\n",
      "sep     319\n",
      "mar     276\n",
      "dec     110\n",
      "Name: month, dtype: int64\n",
      "--------------------------------------------------\n",
      "unknown    8326\n",
      "failure    1228\n",
      "success    1071\n",
      "other       537\n",
      "Name: poutcome, dtype: int64\n",
      "--------------------------------------------------\n",
      "no     5873\n",
      "yes    5289\n",
      "Name: deposit, dtype: int64\n",
      "--------------------------------------------------\n",
      "None      8324\n",
      "b_1yr     1307\n",
      "a_6m      1279\n",
      "c_1yr+     252\n",
      "Name: p_recency, dtype: int64\n",
      "--------------------------------------------------\n"
     ]
    }
   ],
   "source": [
    "# Checking Categorical Features:\n",
    "\n",
    "cv = [\"job\",\"marital\",\"education\",\"default\",\"housing\",\"loan\",\"contact\",\"month\",\"poutcome\",\"deposit\",\"p_recency\"]\n",
    "\n",
    "for i in cv:\n",
    "    print(df[i].value_counts())\n",
    "    print(\"-\"*50)\n"
   ]
  },
  {
   "cell_type": "markdown",
   "id": "b1b44b21",
   "metadata": {},
   "source": [
    "#### 4. Exploratory Data Analysis:"
   ]
  },
  {
   "cell_type": "code",
   "execution_count": 422,
   "id": "925dc633",
   "metadata": {},
   "outputs": [],
   "source": [
    "# Binary mapping for Categorical Features:\n",
    "df[\"default\"] = df[\"default\"].map({\"yes\":1,\"no\":0})\n",
    "df[\"housing\"] = df[\"housing\"].map({\"yes\":1,\"no\":0})\n",
    "df[\"loan\"] = df[\"loan\"].map({\"yes\":1,\"no\":0})\n",
    "df[\"deposit\"] = df[\"deposit\"].map({\"yes\":1,\"no\":0})\n",
    "\n"
   ]
  },
  {
   "cell_type": "code",
   "execution_count": 423,
   "id": "0e31bad0",
   "metadata": {},
   "outputs": [
    {
     "data": {
      "text/html": [
       "<div>\n",
       "<style scoped>\n",
       "    .dataframe tbody tr th:only-of-type {\n",
       "        vertical-align: middle;\n",
       "    }\n",
       "\n",
       "    .dataframe tbody tr th {\n",
       "        vertical-align: top;\n",
       "    }\n",
       "\n",
       "    .dataframe thead th {\n",
       "        text-align: right;\n",
       "    }\n",
       "</style>\n",
       "<table border=\"1\" class=\"dataframe\">\n",
       "  <thead>\n",
       "    <tr style=\"text-align: right;\">\n",
       "      <th></th>\n",
       "      <th>age</th>\n",
       "      <th>job</th>\n",
       "      <th>marital</th>\n",
       "      <th>education</th>\n",
       "      <th>default</th>\n",
       "      <th>balance</th>\n",
       "      <th>housing</th>\n",
       "      <th>loan</th>\n",
       "      <th>contact</th>\n",
       "      <th>day</th>\n",
       "      <th>month</th>\n",
       "      <th>duration</th>\n",
       "      <th>poutcome</th>\n",
       "      <th>deposit</th>\n",
       "      <th>p_recency</th>\n",
       "    </tr>\n",
       "  </thead>\n",
       "  <tbody>\n",
       "    <tr>\n",
       "      <th>0</th>\n",
       "      <td>59</td>\n",
       "      <td>admin.</td>\n",
       "      <td>married</td>\n",
       "      <td>secondary</td>\n",
       "      <td>0</td>\n",
       "      <td>2343</td>\n",
       "      <td>1</td>\n",
       "      <td>0</td>\n",
       "      <td>unknown</td>\n",
       "      <td>5</td>\n",
       "      <td>may</td>\n",
       "      <td>1042</td>\n",
       "      <td>unknown</td>\n",
       "      <td>1</td>\n",
       "      <td>None</td>\n",
       "    </tr>\n",
       "    <tr>\n",
       "      <th>1</th>\n",
       "      <td>56</td>\n",
       "      <td>admin.</td>\n",
       "      <td>married</td>\n",
       "      <td>secondary</td>\n",
       "      <td>0</td>\n",
       "      <td>45</td>\n",
       "      <td>0</td>\n",
       "      <td>0</td>\n",
       "      <td>unknown</td>\n",
       "      <td>5</td>\n",
       "      <td>may</td>\n",
       "      <td>1467</td>\n",
       "      <td>unknown</td>\n",
       "      <td>1</td>\n",
       "      <td>None</td>\n",
       "    </tr>\n",
       "    <tr>\n",
       "      <th>2</th>\n",
       "      <td>41</td>\n",
       "      <td>technician</td>\n",
       "      <td>married</td>\n",
       "      <td>secondary</td>\n",
       "      <td>0</td>\n",
       "      <td>1270</td>\n",
       "      <td>1</td>\n",
       "      <td>0</td>\n",
       "      <td>unknown</td>\n",
       "      <td>5</td>\n",
       "      <td>may</td>\n",
       "      <td>1389</td>\n",
       "      <td>unknown</td>\n",
       "      <td>1</td>\n",
       "      <td>None</td>\n",
       "    </tr>\n",
       "    <tr>\n",
       "      <th>3</th>\n",
       "      <td>55</td>\n",
       "      <td>services</td>\n",
       "      <td>married</td>\n",
       "      <td>secondary</td>\n",
       "      <td>0</td>\n",
       "      <td>2476</td>\n",
       "      <td>1</td>\n",
       "      <td>0</td>\n",
       "      <td>unknown</td>\n",
       "      <td>5</td>\n",
       "      <td>may</td>\n",
       "      <td>579</td>\n",
       "      <td>unknown</td>\n",
       "      <td>1</td>\n",
       "      <td>None</td>\n",
       "    </tr>\n",
       "    <tr>\n",
       "      <th>4</th>\n",
       "      <td>54</td>\n",
       "      <td>admin.</td>\n",
       "      <td>married</td>\n",
       "      <td>tertiary</td>\n",
       "      <td>0</td>\n",
       "      <td>184</td>\n",
       "      <td>0</td>\n",
       "      <td>0</td>\n",
       "      <td>unknown</td>\n",
       "      <td>5</td>\n",
       "      <td>may</td>\n",
       "      <td>673</td>\n",
       "      <td>unknown</td>\n",
       "      <td>1</td>\n",
       "      <td>None</td>\n",
       "    </tr>\n",
       "  </tbody>\n",
       "</table>\n",
       "</div>"
      ],
      "text/plain": [
       "   age         job  marital  education  default  balance  housing  loan  \\\n",
       "0   59      admin.  married  secondary        0     2343        1     0   \n",
       "1   56      admin.  married  secondary        0       45        0     0   \n",
       "2   41  technician  married  secondary        0     1270        1     0   \n",
       "3   55    services  married  secondary        0     2476        1     0   \n",
       "4   54      admin.  married   tertiary        0      184        0     0   \n",
       "\n",
       "   contact  day month  duration poutcome  deposit p_recency  \n",
       "0  unknown    5   may      1042  unknown        1      None  \n",
       "1  unknown    5   may      1467  unknown        1      None  \n",
       "2  unknown    5   may      1389  unknown        1      None  \n",
       "3  unknown    5   may       579  unknown        1      None  \n",
       "4  unknown    5   may       673  unknown        1      None  "
      ]
     },
     "execution_count": 423,
     "metadata": {},
     "output_type": "execute_result"
    }
   ],
   "source": [
    "df.head()"
   ]
  },
  {
   "cell_type": "markdown",
   "id": "03b8d313",
   "metadata": {},
   "source": [
    "* Univariate Analysis:"
   ]
  },
  {
   "cell_type": "code",
   "execution_count": 424,
   "id": "f4d58c74",
   "metadata": {},
   "outputs": [
    {
     "data": {
      "image/png": "[encoded data removed]",
      "text/plain": [
       "<Figure size 1080x360 with 3 Axes>"
      ]
     },
     "metadata": {
      "needs_background": "light"
     },
     "output_type": "display_data"
    }
   ],
   "source": [
    "# Distribution plots - Numerical Features:\n",
    "\n",
    "plt.figure(figsize=(15,5))\n",
    "sns.set_theme()\n",
    "\n",
    "plt.subplot(1,3,1)\n",
    "sns.distplot(df[\"age\"])\n",
    "\n",
    "plt.subplot(1,3,2)\n",
    "sns.distplot(df[\"balance\"])\n",
    "\n",
    "plt.subplot(1,3,3)\n",
    "sns.distplot(df[\"duration\"])\n",
    "\n",
    "plt.show()"
   ]
  },
  {
   "cell_type": "code",
   "execution_count": 425,
   "id": "f687a3d9",
   "metadata": {},
   "outputs": [
    {
     "data": {
      "image/png": "[encoded data removed]",
      "text/plain": [
       "<Figure size 1440x360 with 3 Axes>"
      ]
     },
     "metadata": {},
     "output_type": "display_data"
    }
   ],
   "source": [
    "# Box plots - Numerical Features:\n",
    "\n",
    "plt.figure(figsize=(20,5))\n",
    "sns.set_theme()\n",
    "\n",
    "plt.subplot(1,3,1)\n",
    "sns.boxplot(df[\"age\"])\n",
    "\n",
    "plt.subplot(1,3,2)\n",
    "sns.boxplot(df[\"balance\"])\n",
    "\n",
    "plt.subplot(1,3,3)\n",
    "sns.boxplot(df[\"duration\"])\n",
    "\n",
    "plt.show()"
   ]
  },
  {
   "cell_type": "code",
   "execution_count": 426,
   "id": "28e153c3",
   "metadata": {},
   "outputs": [
    {
     "data": {
      "image/png": "[encoded data removed]",
      "text/plain": [
       "<Figure size 1440x1080 with 8 Axes>"
      ]
     },
     "metadata": {},
     "output_type": "display_data"
    }
   ],
   "source": [
    "# Categorical Features:\n",
    "plt.figure(figsize=(20,15))\n",
    "\n",
    "plt.subplot(3,3,1)\n",
    "sns.countplot(df[\"job\"])\n",
    "plt.xticks(rotation = 90)\n",
    "\n",
    "plt.subplot(3,3,2)\n",
    "sns.countplot(df[\"marital\"])\n",
    "plt.xticks(rotation = 90)\n",
    "\n",
    "plt.subplot(3,3,3)\n",
    "sns.countplot(df[\"education\"])\n",
    "plt.xticks(rotation = 90)\n",
    "\n",
    "plt.subplot(3,3,4)\n",
    "sns.countplot(df[\"contact\"])\n",
    "plt.xticks(rotation = 90)\n",
    "                 \n",
    "plt.subplot(3,3,5)\n",
    "sns.countplot(df[\"day\"])\n",
    "plt.xticks(rotation = 90)\n",
    "                 \n",
    "plt.subplot(3,3,6)\n",
    "sns.countplot(df[\"month\"])\n",
    "plt.xticks(rotation = 90)\n",
    "                 \n",
    "plt.subplot(3,3,7)\n",
    "sns.countplot(df[\"poutcome\"])\n",
    "plt.xticks(rotation = 90)\n",
    "\n",
    "                 \n",
    "plt.subplot(3,3,8)\n",
    "sns.countplot(df[\"p_recency\"])\n",
    "plt.xticks(rotation = 90)\n",
    "                 \n",
    "plt.show()"
   ]
  },
  {
   "cell_type": "code",
   "execution_count": 427,
   "id": "65fc902d",
   "metadata": {},
   "outputs": [
    {
     "data": {
      "text/html": [
       "<div>\n",
       "<style scoped>\n",
       "    .dataframe tbody tr th:only-of-type {\n",
       "        vertical-align: middle;\n",
       "    }\n",
       "\n",
       "    .dataframe tbody tr th {\n",
       "        vertical-align: top;\n",
       "    }\n",
       "\n",
       "    .dataframe thead th {\n",
       "        text-align: right;\n",
       "    }\n",
       "</style>\n",
       "<table border=\"1\" class=\"dataframe\">\n",
       "  <thead>\n",
       "    <tr style=\"text-align: right;\">\n",
       "      <th></th>\n",
       "      <th>age</th>\n",
       "      <th>job</th>\n",
       "      <th>marital</th>\n",
       "      <th>education</th>\n",
       "      <th>default</th>\n",
       "      <th>balance</th>\n",
       "      <th>housing</th>\n",
       "      <th>loan</th>\n",
       "      <th>contact</th>\n",
       "      <th>day</th>\n",
       "      <th>month</th>\n",
       "      <th>duration</th>\n",
       "      <th>poutcome</th>\n",
       "      <th>deposit</th>\n",
       "      <th>p_recency</th>\n",
       "    </tr>\n",
       "  </thead>\n",
       "  <tbody>\n",
       "    <tr>\n",
       "      <th>0</th>\n",
       "      <td>59</td>\n",
       "      <td>admin.</td>\n",
       "      <td>married</td>\n",
       "      <td>secondary</td>\n",
       "      <td>0</td>\n",
       "      <td>2343</td>\n",
       "      <td>1</td>\n",
       "      <td>0</td>\n",
       "      <td>unknown</td>\n",
       "      <td>5</td>\n",
       "      <td>may</td>\n",
       "      <td>1042</td>\n",
       "      <td>unknown</td>\n",
       "      <td>1</td>\n",
       "      <td>None</td>\n",
       "    </tr>\n",
       "    <tr>\n",
       "      <th>1</th>\n",
       "      <td>56</td>\n",
       "      <td>admin.</td>\n",
       "      <td>married</td>\n",
       "      <td>secondary</td>\n",
       "      <td>0</td>\n",
       "      <td>45</td>\n",
       "      <td>0</td>\n",
       "      <td>0</td>\n",
       "      <td>unknown</td>\n",
       "      <td>5</td>\n",
       "      <td>may</td>\n",
       "      <td>1467</td>\n",
       "      <td>unknown</td>\n",
       "      <td>1</td>\n",
       "      <td>None</td>\n",
       "    </tr>\n",
       "    <tr>\n",
       "      <th>2</th>\n",
       "      <td>41</td>\n",
       "      <td>technician</td>\n",
       "      <td>married</td>\n",
       "      <td>secondary</td>\n",
       "      <td>0</td>\n",
       "      <td>1270</td>\n",
       "      <td>1</td>\n",
       "      <td>0</td>\n",
       "      <td>unknown</td>\n",
       "      <td>5</td>\n",
       "      <td>may</td>\n",
       "      <td>1389</td>\n",
       "      <td>unknown</td>\n",
       "      <td>1</td>\n",
       "      <td>None</td>\n",
       "    </tr>\n",
       "    <tr>\n",
       "      <th>3</th>\n",
       "      <td>55</td>\n",
       "      <td>services</td>\n",
       "      <td>married</td>\n",
       "      <td>secondary</td>\n",
       "      <td>0</td>\n",
       "      <td>2476</td>\n",
       "      <td>1</td>\n",
       "      <td>0</td>\n",
       "      <td>unknown</td>\n",
       "      <td>5</td>\n",
       "      <td>may</td>\n",
       "      <td>579</td>\n",
       "      <td>unknown</td>\n",
       "      <td>1</td>\n",
       "      <td>None</td>\n",
       "    </tr>\n",
       "    <tr>\n",
       "      <th>4</th>\n",
       "      <td>54</td>\n",
       "      <td>admin.</td>\n",
       "      <td>married</td>\n",
       "      <td>tertiary</td>\n",
       "      <td>0</td>\n",
       "      <td>184</td>\n",
       "      <td>0</td>\n",
       "      <td>0</td>\n",
       "      <td>unknown</td>\n",
       "      <td>5</td>\n",
       "      <td>may</td>\n",
       "      <td>673</td>\n",
       "      <td>unknown</td>\n",
       "      <td>1</td>\n",
       "      <td>None</td>\n",
       "    </tr>\n",
       "  </tbody>\n",
       "</table>\n",
       "</div>"
      ],
      "text/plain": [
       "   age         job  marital  education  default  balance  housing  loan  \\\n",
       "0   59      admin.  married  secondary        0     2343        1     0   \n",
       "1   56      admin.  married  secondary        0       45        0     0   \n",
       "2   41  technician  married  secondary        0     1270        1     0   \n",
       "3   55    services  married  secondary        0     2476        1     0   \n",
       "4   54      admin.  married   tertiary        0      184        0     0   \n",
       "\n",
       "   contact  day month  duration poutcome  deposit p_recency  \n",
       "0  unknown    5   may      1042  unknown        1      None  \n",
       "1  unknown    5   may      1467  unknown        1      None  \n",
       "2  unknown    5   may      1389  unknown        1      None  \n",
       "3  unknown    5   may       579  unknown        1      None  \n",
       "4  unknown    5   may       673  unknown        1      None  "
      ]
     },
     "execution_count": 427,
     "metadata": {},
     "output_type": "execute_result"
    }
   ],
   "source": [
    "df.head()"
   ]
  },
  {
   "cell_type": "code",
   "execution_count": 428,
   "id": "17ca0977",
   "metadata": {},
   "outputs": [
    {
     "data": {
      "text/plain": [
       "<AxesSubplot:xlabel='deposit', ylabel='count'>"
      ]
     },
     "execution_count": 428,
     "metadata": {},
     "output_type": "execute_result"
    },
    {
     "data": {
      "image/png": "[encoded data removed]",
      "text/plain": [
       "<Figure size 1080x360 with 4 Axes>"
      ]
     },
     "metadata": {},
     "output_type": "display_data"
    }
   ],
   "source": [
    "# Binary Categorical Variables:\n",
    "\n",
    "plt.figure(figsize=(15,5))\n",
    "\n",
    "plt.subplot(1,4,1)\n",
    "sns.countplot(df[\"default\"])\n",
    "plt.subplot(1,4,2)\n",
    "sns.countplot(df[\"housing\"])\n",
    "plt.subplot(1,4,3)\n",
    "sns.countplot(df[\"loan\"])\n",
    "plt.subplot(1,4,4)\n",
    "sns.countplot(df[\"deposit\"])\n"
   ]
  },
  {
   "cell_type": "code",
   "execution_count": 429,
   "id": "5314339d",
   "metadata": {},
   "outputs": [
    {
     "data": {
      "text/plain": [
       "0    52.616019\n",
       "1    47.383981\n",
       "Name: deposit, dtype: float64"
      ]
     },
     "execution_count": 429,
     "metadata": {},
     "output_type": "execute_result"
    }
   ],
   "source": [
    "# Class Imbalance:\n",
    "df[\"deposit\"].value_counts(normalize=True)*100"
   ]
  },
  {
   "cell_type": "code",
   "execution_count": 430,
   "id": "5c9b2ccf",
   "metadata": {},
   "outputs": [
    {
     "data": {
      "text/plain": [
       "<AxesSubplot:>"
      ]
     },
     "execution_count": 430,
     "metadata": {},
     "output_type": "execute_result"
    },
    {
     "data": {
      "image/png": "[encoded data removed]",
      "text/plain": [
       "<Figure size 432x288 with 1 Axes>"
      ]
     },
     "metadata": {},
     "output_type": "display_data"
    }
   ],
   "source": [
    "df[\"deposit\"].value_counts(normalize=True).plot.barh()"
   ]
  },
  {
   "cell_type": "markdown",
   "id": "b74bf1bb",
   "metadata": {},
   "source": [
    "* Bi- Variate Analysis:"
   ]
  },
  {
   "cell_type": "code",
   "execution_count": 431,
   "id": "dd1f13fc",
   "metadata": {},
   "outputs": [
    {
     "data": {
      "text/plain": [
       "<AxesSubplot:xlabel='default', ylabel='duration'>"
      ]
     },
     "execution_count": 431,
     "metadata": {},
     "output_type": "execute_result"
    },
    {
     "data": {
      "image/png": "[encoded data removed]",
      "text/plain": [
       "<Figure size 1080x360 with 3 Axes>"
      ]
     },
     "metadata": {},
     "output_type": "display_data"
    }
   ],
   "source": [
    "plt.figure(figsize=(15,5))\n",
    "plt.subplot(1,3,1)\n",
    "sns.boxplot(x=df[\"default\"], y=df[\"age\"], data=df)\n",
    "plt.subplot(1,3,2)\n",
    "sns.boxplot(x=df[\"default\"], y=df[\"balance\"], data=df)\n",
    "plt.subplot(1,3,3)\n",
    "sns.boxplot(x=df[\"default\"], y=df[\"duration\"], data=df)"
   ]
  },
  {
   "cell_type": "code",
   "execution_count": 432,
   "id": "48e19050",
   "metadata": {},
   "outputs": [
    {
     "data": {
      "image/png": "[encoded data removed]",
      "text/plain": [
       "<Figure size 1080x360 with 3 Axes>"
      ]
     },
     "metadata": {},
     "output_type": "display_data"
    }
   ],
   "source": [
    "plt.figure(figsize=(15,5))\n",
    "plt.subplot(1,3,1)\n",
    "sns.boxplot(x=df[\"deposit\"], y=df[\"age\"], data=df)\n",
    "plt.subplot(1,3,2)\n",
    "sns.boxplot(x=df[\"deposit\"], y=df[\"balance\"], data=df)\n",
    "plt.subplot(1,3,3)\n",
    "sns.boxplot(x=df[\"deposit\"], y=df[\"duration\"], data=df)\n",
    "\n",
    "plt.show()"
   ]
  },
  {
   "cell_type": "code",
   "execution_count": 433,
   "id": "8448413c",
   "metadata": {},
   "outputs": [
    {
     "data": {
      "text/plain": [
       "<Figure size 1080x216 with 0 Axes>"
      ]
     },
     "metadata": {},
     "output_type": "display_data"
    },
    {
     "data": {
      "image/png": "[encoded data removed]",
      "text/plain": [
       "<Figure size 540x540 with 12 Axes>"
      ]
     },
     "metadata": {},
     "output_type": "display_data"
    }
   ],
   "source": [
    "plt.figure(figsize=(15,3))\n",
    "sns.pairplot(df[[\"age\",\"balance\",\"duration\"]])\n",
    "plt.show()"
   ]
  },
  {
   "cell_type": "code",
   "execution_count": 434,
   "id": "77609ec8",
   "metadata": {},
   "outputs": [
    {
     "data": {
      "text/plain": [
       "<AxesSubplot:xlabel='job', ylabel='count'>"
      ]
     },
     "execution_count": 434,
     "metadata": {},
     "output_type": "execute_result"
    },
    {
     "data": {
      "image/png": "[encoded data removed]",
      "text/plain": [
       "<Figure size 1080x432 with 1 Axes>"
      ]
     },
     "metadata": {},
     "output_type": "display_data"
    },
    {
     "data": {
      "image/png": "[encoded data removed]",
      "text/plain": [
       "<Figure size 1080x432 with 1 Axes>"
      ]
     },
     "metadata": {},
     "output_type": "display_data"
    },
    {
     "data": {
      "image/png": "[encoded data removed]",
      "text/plain": [
       "<Figure size 1080x432 with 1 Axes>"
      ]
     },
     "metadata": {},
     "output_type": "display_data"
    }
   ],
   "source": [
    "\n",
    "plt.figure(figsize=(15,6))\n",
    "sns.countplot(x=df[\"job\"],hue=df[\"marital\"], data=df)\n",
    "\n",
    "plt.figure(figsize=(15,6))\n",
    "sns.countplot(x=df[\"job\"],hue=df[\"default\"], data=df)\n",
    "\n",
    "plt.figure(figsize=(15,6))\n",
    "sns.countplot(x=df[\"job\"],hue=df[\"education\"], data=df)\n"
   ]
  },
  {
   "cell_type": "code",
   "execution_count": 435,
   "id": "dff15d2a",
   "metadata": {},
   "outputs": [
    {
     "data": {
      "text/plain": [
       "<AxesSubplot:>"
      ]
     },
     "execution_count": 435,
     "metadata": {},
     "output_type": "execute_result"
    },
    {
     "data": {
      "image/png": "[encoded data removed]",
      "text/plain": [
       "<Figure size 1080x576 with 2 Axes>"
      ]
     },
     "metadata": {},
     "output_type": "display_data"
    }
   ],
   "source": [
    "plt.figure(figsize=(15,8))\n",
    "sns.heatmap(df.corr(), annot=True,cmap=\"YlGnBu\")"
   ]
  },
  {
   "cell_type": "markdown",
   "id": "390a8b5d",
   "metadata": {},
   "source": [
    "#### 5. Data Preparation for model Building:"
   ]
  },
  {
   "cell_type": "code",
   "execution_count": 436,
   "id": "fea2b167",
   "metadata": {},
   "outputs": [],
   "source": [
    "# Dropping Day and Duration Features:\n",
    "\n",
    "df = df.drop([\"day\",\"duration\"],axis=1)"
   ]
  },
  {
   "cell_type": "code",
   "execution_count": 437,
   "id": "6607858f",
   "metadata": {},
   "outputs": [
    {
     "data": {
      "text/html": [
       "<div>\n",
       "<style scoped>\n",
       "    .dataframe tbody tr th:only-of-type {\n",
       "        vertical-align: middle;\n",
       "    }\n",
       "\n",
       "    .dataframe tbody tr th {\n",
       "        vertical-align: top;\n",
       "    }\n",
       "\n",
       "    .dataframe thead th {\n",
       "        text-align: right;\n",
       "    }\n",
       "</style>\n",
       "<table border=\"1\" class=\"dataframe\">\n",
       "  <thead>\n",
       "    <tr style=\"text-align: right;\">\n",
       "      <th></th>\n",
       "      <th>age</th>\n",
       "      <th>job</th>\n",
       "      <th>marital</th>\n",
       "      <th>education</th>\n",
       "      <th>default</th>\n",
       "      <th>balance</th>\n",
       "      <th>housing</th>\n",
       "      <th>loan</th>\n",
       "      <th>contact</th>\n",
       "      <th>month</th>\n",
       "      <th>poutcome</th>\n",
       "      <th>deposit</th>\n",
       "      <th>p_recency</th>\n",
       "    </tr>\n",
       "  </thead>\n",
       "  <tbody>\n",
       "    <tr>\n",
       "      <th>0</th>\n",
       "      <td>59</td>\n",
       "      <td>admin.</td>\n",
       "      <td>married</td>\n",
       "      <td>secondary</td>\n",
       "      <td>0</td>\n",
       "      <td>2343</td>\n",
       "      <td>1</td>\n",
       "      <td>0</td>\n",
       "      <td>unknown</td>\n",
       "      <td>may</td>\n",
       "      <td>unknown</td>\n",
       "      <td>1</td>\n",
       "      <td>None</td>\n",
       "    </tr>\n",
       "    <tr>\n",
       "      <th>1</th>\n",
       "      <td>56</td>\n",
       "      <td>admin.</td>\n",
       "      <td>married</td>\n",
       "      <td>secondary</td>\n",
       "      <td>0</td>\n",
       "      <td>45</td>\n",
       "      <td>0</td>\n",
       "      <td>0</td>\n",
       "      <td>unknown</td>\n",
       "      <td>may</td>\n",
       "      <td>unknown</td>\n",
       "      <td>1</td>\n",
       "      <td>None</td>\n",
       "    </tr>\n",
       "    <tr>\n",
       "      <th>2</th>\n",
       "      <td>41</td>\n",
       "      <td>technician</td>\n",
       "      <td>married</td>\n",
       "      <td>secondary</td>\n",
       "      <td>0</td>\n",
       "      <td>1270</td>\n",
       "      <td>1</td>\n",
       "      <td>0</td>\n",
       "      <td>unknown</td>\n",
       "      <td>may</td>\n",
       "      <td>unknown</td>\n",
       "      <td>1</td>\n",
       "      <td>None</td>\n",
       "    </tr>\n",
       "    <tr>\n",
       "      <th>3</th>\n",
       "      <td>55</td>\n",
       "      <td>services</td>\n",
       "      <td>married</td>\n",
       "      <td>secondary</td>\n",
       "      <td>0</td>\n",
       "      <td>2476</td>\n",
       "      <td>1</td>\n",
       "      <td>0</td>\n",
       "      <td>unknown</td>\n",
       "      <td>may</td>\n",
       "      <td>unknown</td>\n",
       "      <td>1</td>\n",
       "      <td>None</td>\n",
       "    </tr>\n",
       "    <tr>\n",
       "      <th>4</th>\n",
       "      <td>54</td>\n",
       "      <td>admin.</td>\n",
       "      <td>married</td>\n",
       "      <td>tertiary</td>\n",
       "      <td>0</td>\n",
       "      <td>184</td>\n",
       "      <td>0</td>\n",
       "      <td>0</td>\n",
       "      <td>unknown</td>\n",
       "      <td>may</td>\n",
       "      <td>unknown</td>\n",
       "      <td>1</td>\n",
       "      <td>None</td>\n",
       "    </tr>\n",
       "  </tbody>\n",
       "</table>\n",
       "</div>"
      ],
      "text/plain": [
       "   age         job  marital  education  default  balance  housing  loan  \\\n",
       "0   59      admin.  married  secondary        0     2343        1     0   \n",
       "1   56      admin.  married  secondary        0       45        0     0   \n",
       "2   41  technician  married  secondary        0     1270        1     0   \n",
       "3   55    services  married  secondary        0     2476        1     0   \n",
       "4   54      admin.  married   tertiary        0      184        0     0   \n",
       "\n",
       "   contact month poutcome  deposit p_recency  \n",
       "0  unknown   may  unknown        1      None  \n",
       "1  unknown   may  unknown        1      None  \n",
       "2  unknown   may  unknown        1      None  \n",
       "3  unknown   may  unknown        1      None  \n",
       "4  unknown   may  unknown        1      None  "
      ]
     },
     "execution_count": 437,
     "metadata": {},
     "output_type": "execute_result"
    }
   ],
   "source": [
    "df.head()"
   ]
  },
  {
   "cell_type": "code",
   "execution_count": 438,
   "id": "13e1f0a2",
   "metadata": {},
   "outputs": [],
   "source": [
    "# Creating Dummy Features for job, marital, education, contact, month, poutcome,  p_recency:\n",
    "\n",
    "df_dummies = [\"job\", \"marital\",\"education\",\"contact\",\"month\",\"poutcome\",\"p_recency\"]"
   ]
  },
  {
   "cell_type": "code",
   "execution_count": 439,
   "id": "43645934",
   "metadata": {},
   "outputs": [
    {
     "data": {
      "text/html": [
       "<div>\n",
       "<style scoped>\n",
       "    .dataframe tbody tr th:only-of-type {\n",
       "        vertical-align: middle;\n",
       "    }\n",
       "\n",
       "    .dataframe tbody tr th {\n",
       "        vertical-align: top;\n",
       "    }\n",
       "\n",
       "    .dataframe thead th {\n",
       "        text-align: right;\n",
       "    }\n",
       "</style>\n",
       "<table border=\"1\" class=\"dataframe\">\n",
       "  <thead>\n",
       "    <tr style=\"text-align: right;\">\n",
       "      <th></th>\n",
       "      <th>job_blue-collar</th>\n",
       "      <th>job_entrepreneur</th>\n",
       "      <th>job_housemaid</th>\n",
       "      <th>job_management</th>\n",
       "      <th>job_retired</th>\n",
       "      <th>job_self-employed</th>\n",
       "      <th>job_services</th>\n",
       "      <th>job_student</th>\n",
       "      <th>job_technician</th>\n",
       "      <th>job_unemployed</th>\n",
       "      <th>job_unknown</th>\n",
       "      <th>marital_married</th>\n",
       "      <th>marital_single</th>\n",
       "      <th>education_secondary</th>\n",
       "      <th>education_tertiary</th>\n",
       "      <th>education_unknown</th>\n",
       "      <th>contact_telephone</th>\n",
       "      <th>contact_unknown</th>\n",
       "      <th>month_aug</th>\n",
       "      <th>month_dec</th>\n",
       "      <th>month_feb</th>\n",
       "      <th>month_jan</th>\n",
       "      <th>month_jul</th>\n",
       "      <th>month_jun</th>\n",
       "      <th>month_mar</th>\n",
       "      <th>month_may</th>\n",
       "      <th>month_nov</th>\n",
       "      <th>month_oct</th>\n",
       "      <th>month_sep</th>\n",
       "      <th>poutcome_other</th>\n",
       "      <th>poutcome_success</th>\n",
       "      <th>poutcome_unknown</th>\n",
       "      <th>p_recency_a_6m</th>\n",
       "      <th>p_recency_b_1yr</th>\n",
       "      <th>p_recency_c_1yr+</th>\n",
       "    </tr>\n",
       "  </thead>\n",
       "  <tbody>\n",
       "    <tr>\n",
       "      <th>0</th>\n",
       "      <td>0</td>\n",
       "      <td>0</td>\n",
       "      <td>0</td>\n",
       "      <td>0</td>\n",
       "      <td>0</td>\n",
       "      <td>0</td>\n",
       "      <td>0</td>\n",
       "      <td>0</td>\n",
       "      <td>0</td>\n",
       "      <td>0</td>\n",
       "      <td>0</td>\n",
       "      <td>1</td>\n",
       "      <td>0</td>\n",
       "      <td>1</td>\n",
       "      <td>0</td>\n",
       "      <td>0</td>\n",
       "      <td>0</td>\n",
       "      <td>1</td>\n",
       "      <td>0</td>\n",
       "      <td>0</td>\n",
       "      <td>0</td>\n",
       "      <td>0</td>\n",
       "      <td>0</td>\n",
       "      <td>0</td>\n",
       "      <td>0</td>\n",
       "      <td>1</td>\n",
       "      <td>0</td>\n",
       "      <td>0</td>\n",
       "      <td>0</td>\n",
       "      <td>0</td>\n",
       "      <td>0</td>\n",
       "      <td>1</td>\n",
       "      <td>0</td>\n",
       "      <td>0</td>\n",
       "      <td>0</td>\n",
       "    </tr>\n",
       "    <tr>\n",
       "      <th>1</th>\n",
       "      <td>0</td>\n",
       "      <td>0</td>\n",
       "      <td>0</td>\n",
       "      <td>0</td>\n",
       "      <td>0</td>\n",
       "      <td>0</td>\n",
       "      <td>0</td>\n",
       "      <td>0</td>\n",
       "      <td>0</td>\n",
       "      <td>0</td>\n",
       "      <td>0</td>\n",
       "      <td>1</td>\n",
       "      <td>0</td>\n",
       "      <td>1</td>\n",
       "      <td>0</td>\n",
       "      <td>0</td>\n",
       "      <td>0</td>\n",
       "      <td>1</td>\n",
       "      <td>0</td>\n",
       "      <td>0</td>\n",
       "      <td>0</td>\n",
       "      <td>0</td>\n",
       "      <td>0</td>\n",
       "      <td>0</td>\n",
       "      <td>0</td>\n",
       "      <td>1</td>\n",
       "      <td>0</td>\n",
       "      <td>0</td>\n",
       "      <td>0</td>\n",
       "      <td>0</td>\n",
       "      <td>0</td>\n",
       "      <td>1</td>\n",
       "      <td>0</td>\n",
       "      <td>0</td>\n",
       "      <td>0</td>\n",
       "    </tr>\n",
       "    <tr>\n",
       "      <th>2</th>\n",
       "      <td>0</td>\n",
       "      <td>0</td>\n",
       "      <td>0</td>\n",
       "      <td>0</td>\n",
       "      <td>0</td>\n",
       "      <td>0</td>\n",
       "      <td>0</td>\n",
       "      <td>0</td>\n",
       "      <td>1</td>\n",
       "      <td>0</td>\n",
       "      <td>0</td>\n",
       "      <td>1</td>\n",
       "      <td>0</td>\n",
       "      <td>1</td>\n",
       "      <td>0</td>\n",
       "      <td>0</td>\n",
       "      <td>0</td>\n",
       "      <td>1</td>\n",
       "      <td>0</td>\n",
       "      <td>0</td>\n",
       "      <td>0</td>\n",
       "      <td>0</td>\n",
       "      <td>0</td>\n",
       "      <td>0</td>\n",
       "      <td>0</td>\n",
       "      <td>1</td>\n",
       "      <td>0</td>\n",
       "      <td>0</td>\n",
       "      <td>0</td>\n",
       "      <td>0</td>\n",
       "      <td>0</td>\n",
       "      <td>1</td>\n",
       "      <td>0</td>\n",
       "      <td>0</td>\n",
       "      <td>0</td>\n",
       "    </tr>\n",
       "    <tr>\n",
       "      <th>3</th>\n",
       "      <td>0</td>\n",
       "      <td>0</td>\n",
       "      <td>0</td>\n",
       "      <td>0</td>\n",
       "      <td>0</td>\n",
       "      <td>0</td>\n",
       "      <td>1</td>\n",
       "      <td>0</td>\n",
       "      <td>0</td>\n",
       "      <td>0</td>\n",
       "      <td>0</td>\n",
       "      <td>1</td>\n",
       "      <td>0</td>\n",
       "      <td>1</td>\n",
       "      <td>0</td>\n",
       "      <td>0</td>\n",
       "      <td>0</td>\n",
       "      <td>1</td>\n",
       "      <td>0</td>\n",
       "      <td>0</td>\n",
       "      <td>0</td>\n",
       "      <td>0</td>\n",
       "      <td>0</td>\n",
       "      <td>0</td>\n",
       "      <td>0</td>\n",
       "      <td>1</td>\n",
       "      <td>0</td>\n",
       "      <td>0</td>\n",
       "      <td>0</td>\n",
       "      <td>0</td>\n",
       "      <td>0</td>\n",
       "      <td>1</td>\n",
       "      <td>0</td>\n",
       "      <td>0</td>\n",
       "      <td>0</td>\n",
       "    </tr>\n",
       "    <tr>\n",
       "      <th>4</th>\n",
       "      <td>0</td>\n",
       "      <td>0</td>\n",
       "      <td>0</td>\n",
       "      <td>0</td>\n",
       "      <td>0</td>\n",
       "      <td>0</td>\n",
       "      <td>0</td>\n",
       "      <td>0</td>\n",
       "      <td>0</td>\n",
       "      <td>0</td>\n",
       "      <td>0</td>\n",
       "      <td>1</td>\n",
       "      <td>0</td>\n",
       "      <td>0</td>\n",
       "      <td>1</td>\n",
       "      <td>0</td>\n",
       "      <td>0</td>\n",
       "      <td>1</td>\n",
       "      <td>0</td>\n",
       "      <td>0</td>\n",
       "      <td>0</td>\n",
       "      <td>0</td>\n",
       "      <td>0</td>\n",
       "      <td>0</td>\n",
       "      <td>0</td>\n",
       "      <td>1</td>\n",
       "      <td>0</td>\n",
       "      <td>0</td>\n",
       "      <td>0</td>\n",
       "      <td>0</td>\n",
       "      <td>0</td>\n",
       "      <td>1</td>\n",
       "      <td>0</td>\n",
       "      <td>0</td>\n",
       "      <td>0</td>\n",
       "    </tr>\n",
       "  </tbody>\n",
       "</table>\n",
       "</div>"
      ],
      "text/plain": [
       "   job_blue-collar  job_entrepreneur  job_housemaid  job_management  \\\n",
       "0                0                 0              0               0   \n",
       "1                0                 0              0               0   \n",
       "2                0                 0              0               0   \n",
       "3                0                 0              0               0   \n",
       "4                0                 0              0               0   \n",
       "\n",
       "   job_retired  job_self-employed  job_services  job_student  job_technician  \\\n",
       "0            0                  0             0            0               0   \n",
       "1            0                  0             0            0               0   \n",
       "2            0                  0             0            0               1   \n",
       "3            0                  0             1            0               0   \n",
       "4            0                  0             0            0               0   \n",
       "\n",
       "   job_unemployed  job_unknown  marital_married  marital_single  \\\n",
       "0               0            0                1               0   \n",
       "1               0            0                1               0   \n",
       "2               0            0                1               0   \n",
       "3               0            0                1               0   \n",
       "4               0            0                1               0   \n",
       "\n",
       "   education_secondary  education_tertiary  education_unknown  \\\n",
       "0                    1                   0                  0   \n",
       "1                    1                   0                  0   \n",
       "2                    1                   0                  0   \n",
       "3                    1                   0                  0   \n",
       "4                    0                   1                  0   \n",
       "\n",
       "   contact_telephone  contact_unknown  month_aug  month_dec  month_feb  \\\n",
       "0                  0                1          0          0          0   \n",
       "1                  0                1          0          0          0   \n",
       "2                  0                1          0          0          0   \n",
       "3                  0                1          0          0          0   \n",
       "4                  0                1          0          0          0   \n",
       "\n",
       "   month_jan  month_jul  month_jun  month_mar  month_may  month_nov  \\\n",
       "0          0          0          0          0          1          0   \n",
       "1          0          0          0          0          1          0   \n",
       "2          0          0          0          0          1          0   \n",
       "3          0          0          0          0          1          0   \n",
       "4          0          0          0          0          1          0   \n",
       "\n",
       "   month_oct  month_sep  poutcome_other  poutcome_success  poutcome_unknown  \\\n",
       "0          0          0               0                 0                 1   \n",
       "1          0          0               0                 0                 1   \n",
       "2          0          0               0                 0                 1   \n",
       "3          0          0               0                 0                 1   \n",
       "4          0          0               0                 0                 1   \n",
       "\n",
       "   p_recency_a_6m  p_recency_b_1yr  p_recency_c_1yr+  \n",
       "0               0                0                 0  \n",
       "1               0                0                 0  \n",
       "2               0                0                 0  \n",
       "3               0                0                 0  \n",
       "4               0                0                 0  "
      ]
     },
     "execution_count": 439,
     "metadata": {},
     "output_type": "execute_result"
    }
   ],
   "source": [
    "df_dummy_frames = pd.get_dummies(df[df_dummies], drop_first=True)\n",
    "df_dummy_frames.head()"
   ]
  },
  {
   "cell_type": "code",
   "execution_count": 440,
   "id": "acfc1a60",
   "metadata": {},
   "outputs": [
    {
     "data": {
      "text/plain": [
       "(11162, 35)"
      ]
     },
     "execution_count": 440,
     "metadata": {},
     "output_type": "execute_result"
    }
   ],
   "source": [
    "df_dummy_frames.shape"
   ]
  },
  {
   "cell_type": "code",
   "execution_count": 441,
   "id": "e05a5f00",
   "metadata": {},
   "outputs": [
    {
     "data": {
      "text/html": [
       "<div>\n",
       "<style scoped>\n",
       "    .dataframe tbody tr th:only-of-type {\n",
       "        vertical-align: middle;\n",
       "    }\n",
       "\n",
       "    .dataframe tbody tr th {\n",
       "        vertical-align: top;\n",
       "    }\n",
       "\n",
       "    .dataframe thead th {\n",
       "        text-align: right;\n",
       "    }\n",
       "</style>\n",
       "<table border=\"1\" class=\"dataframe\">\n",
       "  <thead>\n",
       "    <tr style=\"text-align: right;\">\n",
       "      <th></th>\n",
       "      <th>age</th>\n",
       "      <th>default</th>\n",
       "      <th>balance</th>\n",
       "      <th>housing</th>\n",
       "      <th>loan</th>\n",
       "      <th>deposit</th>\n",
       "    </tr>\n",
       "  </thead>\n",
       "  <tbody>\n",
       "    <tr>\n",
       "      <th>0</th>\n",
       "      <td>59</td>\n",
       "      <td>0</td>\n",
       "      <td>2343</td>\n",
       "      <td>1</td>\n",
       "      <td>0</td>\n",
       "      <td>1</td>\n",
       "    </tr>\n",
       "    <tr>\n",
       "      <th>1</th>\n",
       "      <td>56</td>\n",
       "      <td>0</td>\n",
       "      <td>45</td>\n",
       "      <td>0</td>\n",
       "      <td>0</td>\n",
       "      <td>1</td>\n",
       "    </tr>\n",
       "    <tr>\n",
       "      <th>2</th>\n",
       "      <td>41</td>\n",
       "      <td>0</td>\n",
       "      <td>1270</td>\n",
       "      <td>1</td>\n",
       "      <td>0</td>\n",
       "      <td>1</td>\n",
       "    </tr>\n",
       "    <tr>\n",
       "      <th>3</th>\n",
       "      <td>55</td>\n",
       "      <td>0</td>\n",
       "      <td>2476</td>\n",
       "      <td>1</td>\n",
       "      <td>0</td>\n",
       "      <td>1</td>\n",
       "    </tr>\n",
       "    <tr>\n",
       "      <th>4</th>\n",
       "      <td>54</td>\n",
       "      <td>0</td>\n",
       "      <td>184</td>\n",
       "      <td>0</td>\n",
       "      <td>0</td>\n",
       "      <td>1</td>\n",
       "    </tr>\n",
       "  </tbody>\n",
       "</table>\n",
       "</div>"
      ],
      "text/plain": [
       "   age  default  balance  housing  loan  deposit\n",
       "0   59        0     2343        1     0        1\n",
       "1   56        0       45        0     0        1\n",
       "2   41        0     1270        1     0        1\n",
       "3   55        0     2476        1     0        1\n",
       "4   54        0      184        0     0        1"
      ]
     },
     "execution_count": 441,
     "metadata": {},
     "output_type": "execute_result"
    }
   ],
   "source": [
    "# Dropping Categorical features:\n",
    "df.drop(df_dummies, axis=1, inplace=True)\n",
    "df.head()"
   ]
  },
  {
   "cell_type": "code",
   "execution_count": 442,
   "id": "89687ddb",
   "metadata": {},
   "outputs": [
    {
     "data": {
      "text/html": [
       "<div>\n",
       "<style scoped>\n",
       "    .dataframe tbody tr th:only-of-type {\n",
       "        vertical-align: middle;\n",
       "    }\n",
       "\n",
       "    .dataframe tbody tr th {\n",
       "        vertical-align: top;\n",
       "    }\n",
       "\n",
       "    .dataframe thead th {\n",
       "        text-align: right;\n",
       "    }\n",
       "</style>\n",
       "<table border=\"1\" class=\"dataframe\">\n",
       "  <thead>\n",
       "    <tr style=\"text-align: right;\">\n",
       "      <th></th>\n",
       "      <th>age</th>\n",
       "      <th>default</th>\n",
       "      <th>balance</th>\n",
       "      <th>housing</th>\n",
       "      <th>loan</th>\n",
       "      <th>deposit</th>\n",
       "      <th>job_blue-collar</th>\n",
       "      <th>job_entrepreneur</th>\n",
       "      <th>job_housemaid</th>\n",
       "      <th>job_management</th>\n",
       "      <th>job_retired</th>\n",
       "      <th>job_self-employed</th>\n",
       "      <th>job_services</th>\n",
       "      <th>job_student</th>\n",
       "      <th>job_technician</th>\n",
       "      <th>job_unemployed</th>\n",
       "      <th>job_unknown</th>\n",
       "      <th>marital_married</th>\n",
       "      <th>marital_single</th>\n",
       "      <th>education_secondary</th>\n",
       "      <th>education_tertiary</th>\n",
       "      <th>education_unknown</th>\n",
       "      <th>contact_telephone</th>\n",
       "      <th>contact_unknown</th>\n",
       "      <th>month_aug</th>\n",
       "      <th>month_dec</th>\n",
       "      <th>month_feb</th>\n",
       "      <th>month_jan</th>\n",
       "      <th>month_jul</th>\n",
       "      <th>month_jun</th>\n",
       "      <th>month_mar</th>\n",
       "      <th>month_may</th>\n",
       "      <th>month_nov</th>\n",
       "      <th>month_oct</th>\n",
       "      <th>month_sep</th>\n",
       "      <th>poutcome_other</th>\n",
       "      <th>poutcome_success</th>\n",
       "      <th>poutcome_unknown</th>\n",
       "      <th>p_recency_a_6m</th>\n",
       "      <th>p_recency_b_1yr</th>\n",
       "      <th>p_recency_c_1yr+</th>\n",
       "    </tr>\n",
       "  </thead>\n",
       "  <tbody>\n",
       "    <tr>\n",
       "      <th>0</th>\n",
       "      <td>59</td>\n",
       "      <td>0</td>\n",
       "      <td>2343</td>\n",
       "      <td>1</td>\n",
       "      <td>0</td>\n",
       "      <td>1</td>\n",
       "      <td>0</td>\n",
       "      <td>0</td>\n",
       "      <td>0</td>\n",
       "      <td>0</td>\n",
       "      <td>0</td>\n",
       "      <td>0</td>\n",
       "      <td>0</td>\n",
       "      <td>0</td>\n",
       "      <td>0</td>\n",
       "      <td>0</td>\n",
       "      <td>0</td>\n",
       "      <td>1</td>\n",
       "      <td>0</td>\n",
       "      <td>1</td>\n",
       "      <td>0</td>\n",
       "      <td>0</td>\n",
       "      <td>0</td>\n",
       "      <td>1</td>\n",
       "      <td>0</td>\n",
       "      <td>0</td>\n",
       "      <td>0</td>\n",
       "      <td>0</td>\n",
       "      <td>0</td>\n",
       "      <td>0</td>\n",
       "      <td>0</td>\n",
       "      <td>1</td>\n",
       "      <td>0</td>\n",
       "      <td>0</td>\n",
       "      <td>0</td>\n",
       "      <td>0</td>\n",
       "      <td>0</td>\n",
       "      <td>1</td>\n",
       "      <td>0</td>\n",
       "      <td>0</td>\n",
       "      <td>0</td>\n",
       "    </tr>\n",
       "    <tr>\n",
       "      <th>1</th>\n",
       "      <td>56</td>\n",
       "      <td>0</td>\n",
       "      <td>45</td>\n",
       "      <td>0</td>\n",
       "      <td>0</td>\n",
       "      <td>1</td>\n",
       "      <td>0</td>\n",
       "      <td>0</td>\n",
       "      <td>0</td>\n",
       "      <td>0</td>\n",
       "      <td>0</td>\n",
       "      <td>0</td>\n",
       "      <td>0</td>\n",
       "      <td>0</td>\n",
       "      <td>0</td>\n",
       "      <td>0</td>\n",
       "      <td>0</td>\n",
       "      <td>1</td>\n",
       "      <td>0</td>\n",
       "      <td>1</td>\n",
       "      <td>0</td>\n",
       "      <td>0</td>\n",
       "      <td>0</td>\n",
       "      <td>1</td>\n",
       "      <td>0</td>\n",
       "      <td>0</td>\n",
       "      <td>0</td>\n",
       "      <td>0</td>\n",
       "      <td>0</td>\n",
       "      <td>0</td>\n",
       "      <td>0</td>\n",
       "      <td>1</td>\n",
       "      <td>0</td>\n",
       "      <td>0</td>\n",
       "      <td>0</td>\n",
       "      <td>0</td>\n",
       "      <td>0</td>\n",
       "      <td>1</td>\n",
       "      <td>0</td>\n",
       "      <td>0</td>\n",
       "      <td>0</td>\n",
       "    </tr>\n",
       "    <tr>\n",
       "      <th>2</th>\n",
       "      <td>41</td>\n",
       "      <td>0</td>\n",
       "      <td>1270</td>\n",
       "      <td>1</td>\n",
       "      <td>0</td>\n",
       "      <td>1</td>\n",
       "      <td>0</td>\n",
       "      <td>0</td>\n",
       "      <td>0</td>\n",
       "      <td>0</td>\n",
       "      <td>0</td>\n",
       "      <td>0</td>\n",
       "      <td>0</td>\n",
       "      <td>0</td>\n",
       "      <td>1</td>\n",
       "      <td>0</td>\n",
       "      <td>0</td>\n",
       "      <td>1</td>\n",
       "      <td>0</td>\n",
       "      <td>1</td>\n",
       "      <td>0</td>\n",
       "      <td>0</td>\n",
       "      <td>0</td>\n",
       "      <td>1</td>\n",
       "      <td>0</td>\n",
       "      <td>0</td>\n",
       "      <td>0</td>\n",
       "      <td>0</td>\n",
       "      <td>0</td>\n",
       "      <td>0</td>\n",
       "      <td>0</td>\n",
       "      <td>1</td>\n",
       "      <td>0</td>\n",
       "      <td>0</td>\n",
       "      <td>0</td>\n",
       "      <td>0</td>\n",
       "      <td>0</td>\n",
       "      <td>1</td>\n",
       "      <td>0</td>\n",
       "      <td>0</td>\n",
       "      <td>0</td>\n",
       "    </tr>\n",
       "    <tr>\n",
       "      <th>3</th>\n",
       "      <td>55</td>\n",
       "      <td>0</td>\n",
       "      <td>2476</td>\n",
       "      <td>1</td>\n",
       "      <td>0</td>\n",
       "      <td>1</td>\n",
       "      <td>0</td>\n",
       "      <td>0</td>\n",
       "      <td>0</td>\n",
       "      <td>0</td>\n",
       "      <td>0</td>\n",
       "      <td>0</td>\n",
       "      <td>1</td>\n",
       "      <td>0</td>\n",
       "      <td>0</td>\n",
       "      <td>0</td>\n",
       "      <td>0</td>\n",
       "      <td>1</td>\n",
       "      <td>0</td>\n",
       "      <td>1</td>\n",
       "      <td>0</td>\n",
       "      <td>0</td>\n",
       "      <td>0</td>\n",
       "      <td>1</td>\n",
       "      <td>0</td>\n",
       "      <td>0</td>\n",
       "      <td>0</td>\n",
       "      <td>0</td>\n",
       "      <td>0</td>\n",
       "      <td>0</td>\n",
       "      <td>0</td>\n",
       "      <td>1</td>\n",
       "      <td>0</td>\n",
       "      <td>0</td>\n",
       "      <td>0</td>\n",
       "      <td>0</td>\n",
       "      <td>0</td>\n",
       "      <td>1</td>\n",
       "      <td>0</td>\n",
       "      <td>0</td>\n",
       "      <td>0</td>\n",
       "    </tr>\n",
       "    <tr>\n",
       "      <th>4</th>\n",
       "      <td>54</td>\n",
       "      <td>0</td>\n",
       "      <td>184</td>\n",
       "      <td>0</td>\n",
       "      <td>0</td>\n",
       "      <td>1</td>\n",
       "      <td>0</td>\n",
       "      <td>0</td>\n",
       "      <td>0</td>\n",
       "      <td>0</td>\n",
       "      <td>0</td>\n",
       "      <td>0</td>\n",
       "      <td>0</td>\n",
       "      <td>0</td>\n",
       "      <td>0</td>\n",
       "      <td>0</td>\n",
       "      <td>0</td>\n",
       "      <td>1</td>\n",
       "      <td>0</td>\n",
       "      <td>0</td>\n",
       "      <td>1</td>\n",
       "      <td>0</td>\n",
       "      <td>0</td>\n",
       "      <td>1</td>\n",
       "      <td>0</td>\n",
       "      <td>0</td>\n",
       "      <td>0</td>\n",
       "      <td>0</td>\n",
       "      <td>0</td>\n",
       "      <td>0</td>\n",
       "      <td>0</td>\n",
       "      <td>1</td>\n",
       "      <td>0</td>\n",
       "      <td>0</td>\n",
       "      <td>0</td>\n",
       "      <td>0</td>\n",
       "      <td>0</td>\n",
       "      <td>1</td>\n",
       "      <td>0</td>\n",
       "      <td>0</td>\n",
       "      <td>0</td>\n",
       "    </tr>\n",
       "  </tbody>\n",
       "</table>\n",
       "</div>"
      ],
      "text/plain": [
       "   age  default  balance  housing  loan  deposit  job_blue-collar  \\\n",
       "0   59        0     2343        1     0        1                0   \n",
       "1   56        0       45        0     0        1                0   \n",
       "2   41        0     1270        1     0        1                0   \n",
       "3   55        0     2476        1     0        1                0   \n",
       "4   54        0      184        0     0        1                0   \n",
       "\n",
       "   job_entrepreneur  job_housemaid  job_management  job_retired  \\\n",
       "0                 0              0               0            0   \n",
       "1                 0              0               0            0   \n",
       "2                 0              0               0            0   \n",
       "3                 0              0               0            0   \n",
       "4                 0              0               0            0   \n",
       "\n",
       "   job_self-employed  job_services  job_student  job_technician  \\\n",
       "0                  0             0            0               0   \n",
       "1                  0             0            0               0   \n",
       "2                  0             0            0               1   \n",
       "3                  0             1            0               0   \n",
       "4                  0             0            0               0   \n",
       "\n",
       "   job_unemployed  job_unknown  marital_married  marital_single  \\\n",
       "0               0            0                1               0   \n",
       "1               0            0                1               0   \n",
       "2               0            0                1               0   \n",
       "3               0            0                1               0   \n",
       "4               0            0                1               0   \n",
       "\n",
       "   education_secondary  education_tertiary  education_unknown  \\\n",
       "0                    1                   0                  0   \n",
       "1                    1                   0                  0   \n",
       "2                    1                   0                  0   \n",
       "3                    1                   0                  0   \n",
       "4                    0                   1                  0   \n",
       "\n",
       "   contact_telephone  contact_unknown  month_aug  month_dec  month_feb  \\\n",
       "0                  0                1          0          0          0   \n",
       "1                  0                1          0          0          0   \n",
       "2                  0                1          0          0          0   \n",
       "3                  0                1          0          0          0   \n",
       "4                  0                1          0          0          0   \n",
       "\n",
       "   month_jan  month_jul  month_jun  month_mar  month_may  month_nov  \\\n",
       "0          0          0          0          0          1          0   \n",
       "1          0          0          0          0          1          0   \n",
       "2          0          0          0          0          1          0   \n",
       "3          0          0          0          0          1          0   \n",
       "4          0          0          0          0          1          0   \n",
       "\n",
       "   month_oct  month_sep  poutcome_other  poutcome_success  poutcome_unknown  \\\n",
       "0          0          0               0                 0                 1   \n",
       "1          0          0               0                 0                 1   \n",
       "2          0          0               0                 0                 1   \n",
       "3          0          0               0                 0                 1   \n",
       "4          0          0               0                 0                 1   \n",
       "\n",
       "   p_recency_a_6m  p_recency_b_1yr  p_recency_c_1yr+  \n",
       "0               0                0                 0  \n",
       "1               0                0                 0  \n",
       "2               0                0                 0  \n",
       "3               0                0                 0  \n",
       "4               0                0                 0  "
      ]
     },
     "execution_count": 442,
     "metadata": {},
     "output_type": "execute_result"
    }
   ],
   "source": [
    "# Adding the Data frames:\n",
    "df = pd.concat([df,df_dummy_frames], axis=1)\n",
    "df.head()"
   ]
  },
  {
   "cell_type": "code",
   "execution_count": 443,
   "id": "d90ad981",
   "metadata": {},
   "outputs": [
    {
     "data": {
      "text/plain": [
       "(11162, 41)"
      ]
     },
     "execution_count": 443,
     "metadata": {},
     "output_type": "execute_result"
    }
   ],
   "source": [
    "df.shape"
   ]
  },
  {
   "cell_type": "code",
   "execution_count": 444,
   "id": "7b2f924d",
   "metadata": {},
   "outputs": [
    {
     "data": {
      "text/plain": [
       "Index(['age', 'default', 'balance', 'housing', 'loan', 'deposit',\n",
       "       'job_blue-collar', 'job_entrepreneur', 'job_housemaid',\n",
       "       'job_management', 'job_retired', 'job_self-employed', 'job_services',\n",
       "       'job_student', 'job_technician', 'job_unemployed', 'job_unknown',\n",
       "       'marital_married', 'marital_single', 'education_secondary',\n",
       "       'education_tertiary', 'education_unknown', 'contact_telephone',\n",
       "       'contact_unknown', 'month_aug', 'month_dec', 'month_feb', 'month_jan',\n",
       "       'month_jul', 'month_jun', 'month_mar', 'month_may', 'month_nov',\n",
       "       'month_oct', 'month_sep', 'poutcome_other', 'poutcome_success',\n",
       "       'poutcome_unknown', 'p_recency_a_6m', 'p_recency_b_1yr',\n",
       "       'p_recency_c_1yr+'],\n",
       "      dtype='object')"
      ]
     },
     "execution_count": 444,
     "metadata": {},
     "output_type": "execute_result"
    }
   ],
   "source": [
    "df.columns"
   ]
  },
  {
   "cell_type": "markdown",
   "id": "66bf6c69",
   "metadata": {},
   "source": [
    "#### 6. Splitting Training and Testing Data:"
   ]
  },
  {
   "cell_type": "code",
   "execution_count": 445,
   "id": "f5de75cb",
   "metadata": {},
   "outputs": [],
   "source": [
    "from sklearn.model_selection import train_test_split"
   ]
  },
  {
   "cell_type": "code",
   "execution_count": 446,
   "id": "8a9fd788",
   "metadata": {},
   "outputs": [],
   "source": [
    "# Splitting Train and Test data:\n",
    "\n",
    "df_train , df_test = train_test_split(df, train_size=0.8, random_state=100, stratify=df[\"deposit\"])\n"
   ]
  },
  {
   "cell_type": "code",
   "execution_count": 447,
   "id": "7df86abe",
   "metadata": {},
   "outputs": [
    {
     "name": "stdout",
     "output_type": "stream",
     "text": [
      "(8929, 41)\n",
      "(2233, 41)\n"
     ]
    }
   ],
   "source": [
    "print(df_train.shape)\n",
    "print(df_test.shape)"
   ]
  },
  {
   "cell_type": "code",
   "execution_count": 448,
   "id": "dbdb7286",
   "metadata": {},
   "outputs": [
    {
     "name": "stdout",
     "output_type": "stream",
     "text": [
      "0    0.526151\n",
      "1    0.473849\n",
      "Name: deposit, dtype: float64\n",
      "--------------------\n",
      "0    0.526198\n",
      "1    0.473802\n",
      "Name: deposit, dtype: float64\n"
     ]
    }
   ],
   "source": [
    "print(df_train[\"deposit\"].value_counts(normalize=True))\n",
    "print(\"-\"*20)\n",
    "print(df_test[\"deposit\"].value_counts(normalize=True))\n"
   ]
  },
  {
   "cell_type": "markdown",
   "id": "da3cafc0",
   "metadata": {},
   "source": [
    "#### 7. Feature Scaling:"
   ]
  },
  {
   "cell_type": "code",
   "execution_count": 449,
   "id": "9073b310",
   "metadata": {},
   "outputs": [],
   "source": [
    "from sklearn.preprocessing import MinMaxScaler"
   ]
  },
  {
   "cell_type": "code",
   "execution_count": 450,
   "id": "34039768",
   "metadata": {},
   "outputs": [],
   "source": [
    "scaler = MinMaxScaler()"
   ]
  },
  {
   "cell_type": "code",
   "execution_count": 451,
   "id": "f094e63a",
   "metadata": {},
   "outputs": [
    {
     "data": {
      "text/html": [
       "<div>\n",
       "<style scoped>\n",
       "    .dataframe tbody tr th:only-of-type {\n",
       "        vertical-align: middle;\n",
       "    }\n",
       "\n",
       "    .dataframe tbody tr th {\n",
       "        vertical-align: top;\n",
       "    }\n",
       "\n",
       "    .dataframe thead th {\n",
       "        text-align: right;\n",
       "    }\n",
       "</style>\n",
       "<table border=\"1\" class=\"dataframe\">\n",
       "  <thead>\n",
       "    <tr style=\"text-align: right;\">\n",
       "      <th></th>\n",
       "      <th>age</th>\n",
       "      <th>balance</th>\n",
       "    </tr>\n",
       "  </thead>\n",
       "  <tbody>\n",
       "    <tr>\n",
       "      <th>count</th>\n",
       "      <td>8929.000000</td>\n",
       "      <td>8929.000000</td>\n",
       "    </tr>\n",
       "    <tr>\n",
       "      <th>mean</th>\n",
       "      <td>41.147945</td>\n",
       "      <td>1509.395117</td>\n",
       "    </tr>\n",
       "    <tr>\n",
       "      <th>std</th>\n",
       "      <td>11.848750</td>\n",
       "      <td>3193.242289</td>\n",
       "    </tr>\n",
       "    <tr>\n",
       "      <th>min</th>\n",
       "      <td>18.000000</td>\n",
       "      <td>-6847.000000</td>\n",
       "    </tr>\n",
       "    <tr>\n",
       "      <th>25%</th>\n",
       "      <td>32.000000</td>\n",
       "      <td>116.000000</td>\n",
       "    </tr>\n",
       "    <tr>\n",
       "      <th>50%</th>\n",
       "      <td>39.000000</td>\n",
       "      <td>541.000000</td>\n",
       "    </tr>\n",
       "    <tr>\n",
       "      <th>75%</th>\n",
       "      <td>49.000000</td>\n",
       "      <td>1693.000000</td>\n",
       "    </tr>\n",
       "    <tr>\n",
       "      <th>max</th>\n",
       "      <td>95.000000</td>\n",
       "      <td>81204.000000</td>\n",
       "    </tr>\n",
       "  </tbody>\n",
       "</table>\n",
       "</div>"
      ],
      "text/plain": [
       "               age       balance\n",
       "count  8929.000000   8929.000000\n",
       "mean     41.147945   1509.395117\n",
       "std      11.848750   3193.242289\n",
       "min      18.000000  -6847.000000\n",
       "25%      32.000000    116.000000\n",
       "50%      39.000000    541.000000\n",
       "75%      49.000000   1693.000000\n",
       "max      95.000000  81204.000000"
      ]
     },
     "execution_count": 451,
     "metadata": {},
     "output_type": "execute_result"
    }
   ],
   "source": [
    "df_train[[\"age\",\"balance\"]].describe()"
   ]
  },
  {
   "cell_type": "code",
   "execution_count": 452,
   "id": "a9b4dac2",
   "metadata": {},
   "outputs": [
    {
     "data": {
      "text/html": [
       "<div>\n",
       "<style scoped>\n",
       "    .dataframe tbody tr th:only-of-type {\n",
       "        vertical-align: middle;\n",
       "    }\n",
       "\n",
       "    .dataframe tbody tr th {\n",
       "        vertical-align: top;\n",
       "    }\n",
       "\n",
       "    .dataframe thead th {\n",
       "        text-align: right;\n",
       "    }\n",
       "</style>\n",
       "<table border=\"1\" class=\"dataframe\">\n",
       "  <thead>\n",
       "    <tr style=\"text-align: right;\">\n",
       "      <th></th>\n",
       "      <th>age</th>\n",
       "      <th>default</th>\n",
       "      <th>balance</th>\n",
       "      <th>housing</th>\n",
       "      <th>loan</th>\n",
       "      <th>deposit</th>\n",
       "      <th>job_blue-collar</th>\n",
       "      <th>job_entrepreneur</th>\n",
       "      <th>job_housemaid</th>\n",
       "      <th>job_management</th>\n",
       "      <th>job_retired</th>\n",
       "      <th>job_self-employed</th>\n",
       "      <th>job_services</th>\n",
       "      <th>job_student</th>\n",
       "      <th>job_technician</th>\n",
       "      <th>job_unemployed</th>\n",
       "      <th>job_unknown</th>\n",
       "      <th>marital_married</th>\n",
       "      <th>marital_single</th>\n",
       "      <th>education_secondary</th>\n",
       "      <th>education_tertiary</th>\n",
       "      <th>education_unknown</th>\n",
       "      <th>contact_telephone</th>\n",
       "      <th>contact_unknown</th>\n",
       "      <th>month_aug</th>\n",
       "      <th>month_dec</th>\n",
       "      <th>month_feb</th>\n",
       "      <th>month_jan</th>\n",
       "      <th>month_jul</th>\n",
       "      <th>month_jun</th>\n",
       "      <th>month_mar</th>\n",
       "      <th>month_may</th>\n",
       "      <th>month_nov</th>\n",
       "      <th>month_oct</th>\n",
       "      <th>month_sep</th>\n",
       "      <th>poutcome_other</th>\n",
       "      <th>poutcome_success</th>\n",
       "      <th>poutcome_unknown</th>\n",
       "      <th>p_recency_a_6m</th>\n",
       "      <th>p_recency_b_1yr</th>\n",
       "      <th>p_recency_c_1yr+</th>\n",
       "    </tr>\n",
       "  </thead>\n",
       "  <tbody>\n",
       "    <tr>\n",
       "      <th>7976</th>\n",
       "      <td>0.376623</td>\n",
       "      <td>0</td>\n",
       "      <td>0.101930</td>\n",
       "      <td>1</td>\n",
       "      <td>0</td>\n",
       "      <td>0</td>\n",
       "      <td>1</td>\n",
       "      <td>0</td>\n",
       "      <td>0</td>\n",
       "      <td>0</td>\n",
       "      <td>0</td>\n",
       "      <td>0</td>\n",
       "      <td>0</td>\n",
       "      <td>0</td>\n",
       "      <td>0</td>\n",
       "      <td>0</td>\n",
       "      <td>0</td>\n",
       "      <td>1</td>\n",
       "      <td>0</td>\n",
       "      <td>1</td>\n",
       "      <td>0</td>\n",
       "      <td>0</td>\n",
       "      <td>1</td>\n",
       "      <td>0</td>\n",
       "      <td>0</td>\n",
       "      <td>0</td>\n",
       "      <td>0</td>\n",
       "      <td>0</td>\n",
       "      <td>0</td>\n",
       "      <td>0</td>\n",
       "      <td>0</td>\n",
       "      <td>0</td>\n",
       "      <td>0</td>\n",
       "      <td>0</td>\n",
       "      <td>0</td>\n",
       "      <td>0</td>\n",
       "      <td>0</td>\n",
       "      <td>1</td>\n",
       "      <td>0</td>\n",
       "      <td>0</td>\n",
       "      <td>0</td>\n",
       "    </tr>\n",
       "    <tr>\n",
       "      <th>10101</th>\n",
       "      <td>0.324675</td>\n",
       "      <td>0</td>\n",
       "      <td>0.117716</td>\n",
       "      <td>0</td>\n",
       "      <td>0</td>\n",
       "      <td>1</td>\n",
       "      <td>0</td>\n",
       "      <td>0</td>\n",
       "      <td>0</td>\n",
       "      <td>1</td>\n",
       "      <td>0</td>\n",
       "      <td>0</td>\n",
       "      <td>0</td>\n",
       "      <td>0</td>\n",
       "      <td>0</td>\n",
       "      <td>0</td>\n",
       "      <td>0</td>\n",
       "      <td>1</td>\n",
       "      <td>0</td>\n",
       "      <td>0</td>\n",
       "      <td>1</td>\n",
       "      <td>0</td>\n",
       "      <td>0</td>\n",
       "      <td>0</td>\n",
       "      <td>0</td>\n",
       "      <td>1</td>\n",
       "      <td>0</td>\n",
       "      <td>0</td>\n",
       "      <td>0</td>\n",
       "      <td>0</td>\n",
       "      <td>0</td>\n",
       "      <td>0</td>\n",
       "      <td>0</td>\n",
       "      <td>0</td>\n",
       "      <td>0</td>\n",
       "      <td>0</td>\n",
       "      <td>1</td>\n",
       "      <td>0</td>\n",
       "      <td>0</td>\n",
       "      <td>1</td>\n",
       "      <td>0</td>\n",
       "    </tr>\n",
       "    <tr>\n",
       "      <th>9070</th>\n",
       "      <td>0.194805</td>\n",
       "      <td>0</td>\n",
       "      <td>0.155478</td>\n",
       "      <td>0</td>\n",
       "      <td>0</td>\n",
       "      <td>1</td>\n",
       "      <td>0</td>\n",
       "      <td>0</td>\n",
       "      <td>0</td>\n",
       "      <td>0</td>\n",
       "      <td>0</td>\n",
       "      <td>0</td>\n",
       "      <td>0</td>\n",
       "      <td>0</td>\n",
       "      <td>1</td>\n",
       "      <td>0</td>\n",
       "      <td>0</td>\n",
       "      <td>1</td>\n",
       "      <td>0</td>\n",
       "      <td>0</td>\n",
       "      <td>1</td>\n",
       "      <td>0</td>\n",
       "      <td>0</td>\n",
       "      <td>0</td>\n",
       "      <td>0</td>\n",
       "      <td>0</td>\n",
       "      <td>0</td>\n",
       "      <td>0</td>\n",
       "      <td>0</td>\n",
       "      <td>0</td>\n",
       "      <td>0</td>\n",
       "      <td>0</td>\n",
       "      <td>1</td>\n",
       "      <td>0</td>\n",
       "      <td>0</td>\n",
       "      <td>1</td>\n",
       "      <td>0</td>\n",
       "      <td>0</td>\n",
       "      <td>1</td>\n",
       "      <td>0</td>\n",
       "      <td>0</td>\n",
       "    </tr>\n",
       "    <tr>\n",
       "      <th>3546</th>\n",
       "      <td>0.376623</td>\n",
       "      <td>0</td>\n",
       "      <td>0.106154</td>\n",
       "      <td>0</td>\n",
       "      <td>0</td>\n",
       "      <td>0</td>\n",
       "      <td>0</td>\n",
       "      <td>0</td>\n",
       "      <td>0</td>\n",
       "      <td>0</td>\n",
       "      <td>0</td>\n",
       "      <td>0</td>\n",
       "      <td>0</td>\n",
       "      <td>0</td>\n",
       "      <td>0</td>\n",
       "      <td>1</td>\n",
       "      <td>0</td>\n",
       "      <td>0</td>\n",
       "      <td>1</td>\n",
       "      <td>0</td>\n",
       "      <td>1</td>\n",
       "      <td>0</td>\n",
       "      <td>0</td>\n",
       "      <td>0</td>\n",
       "      <td>0</td>\n",
       "      <td>0</td>\n",
       "      <td>0</td>\n",
       "      <td>1</td>\n",
       "      <td>0</td>\n",
       "      <td>0</td>\n",
       "      <td>0</td>\n",
       "      <td>0</td>\n",
       "      <td>0</td>\n",
       "      <td>0</td>\n",
       "      <td>0</td>\n",
       "      <td>0</td>\n",
       "      <td>0</td>\n",
       "      <td>1</td>\n",
       "      <td>0</td>\n",
       "      <td>0</td>\n",
       "      <td>0</td>\n",
       "    </tr>\n",
       "    <tr>\n",
       "      <th>465</th>\n",
       "      <td>0.142857</td>\n",
       "      <td>0</td>\n",
       "      <td>0.085644</td>\n",
       "      <td>1</td>\n",
       "      <td>1</td>\n",
       "      <td>1</td>\n",
       "      <td>1</td>\n",
       "      <td>0</td>\n",
       "      <td>0</td>\n",
       "      <td>0</td>\n",
       "      <td>0</td>\n",
       "      <td>0</td>\n",
       "      <td>0</td>\n",
       "      <td>0</td>\n",
       "      <td>0</td>\n",
       "      <td>0</td>\n",
       "      <td>0</td>\n",
       "      <td>0</td>\n",
       "      <td>1</td>\n",
       "      <td>0</td>\n",
       "      <td>0</td>\n",
       "      <td>1</td>\n",
       "      <td>0</td>\n",
       "      <td>0</td>\n",
       "      <td>0</td>\n",
       "      <td>0</td>\n",
       "      <td>0</td>\n",
       "      <td>0</td>\n",
       "      <td>1</td>\n",
       "      <td>0</td>\n",
       "      <td>0</td>\n",
       "      <td>0</td>\n",
       "      <td>0</td>\n",
       "      <td>0</td>\n",
       "      <td>0</td>\n",
       "      <td>0</td>\n",
       "      <td>0</td>\n",
       "      <td>1</td>\n",
       "      <td>0</td>\n",
       "      <td>0</td>\n",
       "      <td>0</td>\n",
       "    </tr>\n",
       "  </tbody>\n",
       "</table>\n",
       "</div>"
      ],
      "text/plain": [
       "            age  default   balance  housing  loan  deposit  job_blue-collar  \\\n",
       "7976   0.376623        0  0.101930        1     0        0                1   \n",
       "10101  0.324675        0  0.117716        0     0        1                0   \n",
       "9070   0.194805        0  0.155478        0     0        1                0   \n",
       "3546   0.376623        0  0.106154        0     0        0                0   \n",
       "465    0.142857        0  0.085644        1     1        1                1   \n",
       "\n",
       "       job_entrepreneur  job_housemaid  job_management  job_retired  \\\n",
       "7976                  0              0               0            0   \n",
       "10101                 0              0               1            0   \n",
       "9070                  0              0               0            0   \n",
       "3546                  0              0               0            0   \n",
       "465                   0              0               0            0   \n",
       "\n",
       "       job_self-employed  job_services  job_student  job_technician  \\\n",
       "7976                   0             0            0               0   \n",
       "10101                  0             0            0               0   \n",
       "9070                   0             0            0               1   \n",
       "3546                   0             0            0               0   \n",
       "465                    0             0            0               0   \n",
       "\n",
       "       job_unemployed  job_unknown  marital_married  marital_single  \\\n",
       "7976                0            0                1               0   \n",
       "10101               0            0                1               0   \n",
       "9070                0            0                1               0   \n",
       "3546                1            0                0               1   \n",
       "465                 0            0                0               1   \n",
       "\n",
       "       education_secondary  education_tertiary  education_unknown  \\\n",
       "7976                     1                   0                  0   \n",
       "10101                    0                   1                  0   \n",
       "9070                     0                   1                  0   \n",
       "3546                     0                   1                  0   \n",
       "465                      0                   0                  1   \n",
       "\n",
       "       contact_telephone  contact_unknown  month_aug  month_dec  month_feb  \\\n",
       "7976                   1                0          0          0          0   \n",
       "10101                  0                0          0          1          0   \n",
       "9070                   0                0          0          0          0   \n",
       "3546                   0                0          0          0          0   \n",
       "465                    0                0          0          0          0   \n",
       "\n",
       "       month_jan  month_jul  month_jun  month_mar  month_may  month_nov  \\\n",
       "7976           0          0          0          0          0          0   \n",
       "10101          0          0          0          0          0          0   \n",
       "9070           0          0          0          0          0          1   \n",
       "3546           1          0          0          0          0          0   \n",
       "465            0          1          0          0          0          0   \n",
       "\n",
       "       month_oct  month_sep  poutcome_other  poutcome_success  \\\n",
       "7976           0          0               0                 0   \n",
       "10101          0          0               0                 1   \n",
       "9070           0          0               1                 0   \n",
       "3546           0          0               0                 0   \n",
       "465            0          0               0                 0   \n",
       "\n",
       "       poutcome_unknown  p_recency_a_6m  p_recency_b_1yr  p_recency_c_1yr+  \n",
       "7976                  1               0                0                 0  \n",
       "10101                 0               0                1                 0  \n",
       "9070                  0               1                0                 0  \n",
       "3546                  1               0                0                 0  \n",
       "465                   1               0                0                 0  "
      ]
     },
     "execution_count": 452,
     "metadata": {},
     "output_type": "execute_result"
    }
   ],
   "source": [
    "df_train[[\"age\",\"balance\"]] = scaler.fit_transform(df_train[[\"age\",\"balance\"]])\n",
    "df_train.head()"
   ]
  },
  {
   "cell_type": "code",
   "execution_count": 453,
   "id": "d173a49d",
   "metadata": {},
   "outputs": [
    {
     "data": {
      "text/html": [
       "<div>\n",
       "<style scoped>\n",
       "    .dataframe tbody tr th:only-of-type {\n",
       "        vertical-align: middle;\n",
       "    }\n",
       "\n",
       "    .dataframe tbody tr th {\n",
       "        vertical-align: top;\n",
       "    }\n",
       "\n",
       "    .dataframe thead th {\n",
       "        text-align: right;\n",
       "    }\n",
       "</style>\n",
       "<table border=\"1\" class=\"dataframe\">\n",
       "  <thead>\n",
       "    <tr style=\"text-align: right;\">\n",
       "      <th></th>\n",
       "      <th>age</th>\n",
       "      <th>default</th>\n",
       "      <th>balance</th>\n",
       "      <th>housing</th>\n",
       "      <th>loan</th>\n",
       "      <th>deposit</th>\n",
       "      <th>job_blue-collar</th>\n",
       "      <th>job_entrepreneur</th>\n",
       "      <th>job_housemaid</th>\n",
       "      <th>job_management</th>\n",
       "      <th>job_retired</th>\n",
       "      <th>job_self-employed</th>\n",
       "      <th>job_services</th>\n",
       "      <th>job_student</th>\n",
       "      <th>job_technician</th>\n",
       "      <th>job_unemployed</th>\n",
       "      <th>job_unknown</th>\n",
       "      <th>marital_married</th>\n",
       "      <th>marital_single</th>\n",
       "      <th>education_secondary</th>\n",
       "      <th>education_tertiary</th>\n",
       "      <th>education_unknown</th>\n",
       "      <th>contact_telephone</th>\n",
       "      <th>contact_unknown</th>\n",
       "      <th>month_aug</th>\n",
       "      <th>month_dec</th>\n",
       "      <th>month_feb</th>\n",
       "      <th>month_jan</th>\n",
       "      <th>month_jul</th>\n",
       "      <th>month_jun</th>\n",
       "      <th>month_mar</th>\n",
       "      <th>month_may</th>\n",
       "      <th>month_nov</th>\n",
       "      <th>month_oct</th>\n",
       "      <th>month_sep</th>\n",
       "      <th>poutcome_other</th>\n",
       "      <th>poutcome_success</th>\n",
       "      <th>poutcome_unknown</th>\n",
       "      <th>p_recency_a_6m</th>\n",
       "      <th>p_recency_b_1yr</th>\n",
       "      <th>p_recency_c_1yr+</th>\n",
       "    </tr>\n",
       "  </thead>\n",
       "  <tbody>\n",
       "    <tr>\n",
       "      <th>count</th>\n",
       "      <td>8929.000000</td>\n",
       "      <td>8929.000000</td>\n",
       "      <td>8929.000000</td>\n",
       "      <td>8929.000000</td>\n",
       "      <td>8929.000000</td>\n",
       "      <td>8929.000000</td>\n",
       "      <td>8929.000000</td>\n",
       "      <td>8929.000000</td>\n",
       "      <td>8929.000000</td>\n",
       "      <td>8929.000000</td>\n",
       "      <td>8929.000000</td>\n",
       "      <td>8929.000000</td>\n",
       "      <td>8929.000000</td>\n",
       "      <td>8929.000000</td>\n",
       "      <td>8929.000000</td>\n",
       "      <td>8929.000000</td>\n",
       "      <td>8929.000000</td>\n",
       "      <td>8929.000000</td>\n",
       "      <td>8929.000000</td>\n",
       "      <td>8929.000000</td>\n",
       "      <td>8929.000000</td>\n",
       "      <td>8929.000000</td>\n",
       "      <td>8929.000000</td>\n",
       "      <td>8929.000000</td>\n",
       "      <td>8929.000000</td>\n",
       "      <td>8929.000000</td>\n",
       "      <td>8929.000000</td>\n",
       "      <td>8929.000000</td>\n",
       "      <td>8929.000000</td>\n",
       "      <td>8929.000000</td>\n",
       "      <td>8929.000000</td>\n",
       "      <td>8929.000000</td>\n",
       "      <td>8929.000000</td>\n",
       "      <td>8929.000000</td>\n",
       "      <td>8929.000000</td>\n",
       "      <td>8929.00000</td>\n",
       "      <td>8929.000000</td>\n",
       "      <td>8929.000000</td>\n",
       "      <td>8929.000000</td>\n",
       "      <td>8929.000000</td>\n",
       "      <td>8929.000000</td>\n",
       "    </tr>\n",
       "    <tr>\n",
       "      <th>mean</th>\n",
       "      <td>0.300623</td>\n",
       "      <td>0.016351</td>\n",
       "      <td>0.094904</td>\n",
       "      <td>0.477097</td>\n",
       "      <td>0.130250</td>\n",
       "      <td>0.473849</td>\n",
       "      <td>0.177959</td>\n",
       "      <td>0.028671</td>\n",
       "      <td>0.024415</td>\n",
       "      <td>0.230709</td>\n",
       "      <td>0.068877</td>\n",
       "      <td>0.034942</td>\n",
       "      <td>0.080188</td>\n",
       "      <td>0.032366</td>\n",
       "      <td>0.165640</td>\n",
       "      <td>0.032254</td>\n",
       "      <td>0.006160</td>\n",
       "      <td>0.571733</td>\n",
       "      <td>0.315265</td>\n",
       "      <td>0.488073</td>\n",
       "      <td>0.331616</td>\n",
       "      <td>0.044574</td>\n",
       "      <td>0.069997</td>\n",
       "      <td>0.214694</td>\n",
       "      <td>0.135737</td>\n",
       "      <td>0.009968</td>\n",
       "      <td>0.070109</td>\n",
       "      <td>0.030239</td>\n",
       "      <td>0.134506</td>\n",
       "      <td>0.108971</td>\n",
       "      <td>0.024975</td>\n",
       "      <td>0.255908</td>\n",
       "      <td>0.083660</td>\n",
       "      <td>0.035950</td>\n",
       "      <td>0.028447</td>\n",
       "      <td>0.04659</td>\n",
       "      <td>0.093628</td>\n",
       "      <td>0.750588</td>\n",
       "      <td>0.113675</td>\n",
       "      <td>0.114235</td>\n",
       "      <td>0.021615</td>\n",
       "    </tr>\n",
       "    <tr>\n",
       "      <th>std</th>\n",
       "      <td>0.153880</td>\n",
       "      <td>0.126829</td>\n",
       "      <td>0.036266</td>\n",
       "      <td>0.499503</td>\n",
       "      <td>0.336597</td>\n",
       "      <td>0.499344</td>\n",
       "      <td>0.382500</td>\n",
       "      <td>0.166888</td>\n",
       "      <td>0.154342</td>\n",
       "      <td>0.421310</td>\n",
       "      <td>0.253259</td>\n",
       "      <td>0.183644</td>\n",
       "      <td>0.271599</td>\n",
       "      <td>0.176981</td>\n",
       "      <td>0.371778</td>\n",
       "      <td>0.176685</td>\n",
       "      <td>0.078246</td>\n",
       "      <td>0.494855</td>\n",
       "      <td>0.464647</td>\n",
       "      <td>0.499886</td>\n",
       "      <td>0.470820</td>\n",
       "      <td>0.206378</td>\n",
       "      <td>0.255156</td>\n",
       "      <td>0.410633</td>\n",
       "      <td>0.342529</td>\n",
       "      <td>0.099344</td>\n",
       "      <td>0.255344</td>\n",
       "      <td>0.171253</td>\n",
       "      <td>0.341214</td>\n",
       "      <td>0.311620</td>\n",
       "      <td>0.156057</td>\n",
       "      <td>0.436395</td>\n",
       "      <td>0.276893</td>\n",
       "      <td>0.186177</td>\n",
       "      <td>0.166254</td>\n",
       "      <td>0.21077</td>\n",
       "      <td>0.291326</td>\n",
       "      <td>0.432697</td>\n",
       "      <td>0.317433</td>\n",
       "      <td>0.318114</td>\n",
       "      <td>0.145431</td>\n",
       "    </tr>\n",
       "    <tr>\n",
       "      <th>min</th>\n",
       "      <td>0.000000</td>\n",
       "      <td>0.000000</td>\n",
       "      <td>0.000000</td>\n",
       "      <td>0.000000</td>\n",
       "      <td>0.000000</td>\n",
       "      <td>0.000000</td>\n",
       "      <td>0.000000</td>\n",
       "      <td>0.000000</td>\n",
       "      <td>0.000000</td>\n",
       "      <td>0.000000</td>\n",
       "      <td>0.000000</td>\n",
       "      <td>0.000000</td>\n",
       "      <td>0.000000</td>\n",
       "      <td>0.000000</td>\n",
       "      <td>0.000000</td>\n",
       "      <td>0.000000</td>\n",
       "      <td>0.000000</td>\n",
       "      <td>0.000000</td>\n",
       "      <td>0.000000</td>\n",
       "      <td>0.000000</td>\n",
       "      <td>0.000000</td>\n",
       "      <td>0.000000</td>\n",
       "      <td>0.000000</td>\n",
       "      <td>0.000000</td>\n",
       "      <td>0.000000</td>\n",
       "      <td>0.000000</td>\n",
       "      <td>0.000000</td>\n",
       "      <td>0.000000</td>\n",
       "      <td>0.000000</td>\n",
       "      <td>0.000000</td>\n",
       "      <td>0.000000</td>\n",
       "      <td>0.000000</td>\n",
       "      <td>0.000000</td>\n",
       "      <td>0.000000</td>\n",
       "      <td>0.000000</td>\n",
       "      <td>0.00000</td>\n",
       "      <td>0.000000</td>\n",
       "      <td>0.000000</td>\n",
       "      <td>0.000000</td>\n",
       "      <td>0.000000</td>\n",
       "      <td>0.000000</td>\n",
       "    </tr>\n",
       "    <tr>\n",
       "      <th>25%</th>\n",
       "      <td>0.181818</td>\n",
       "      <td>0.000000</td>\n",
       "      <td>0.079079</td>\n",
       "      <td>0.000000</td>\n",
       "      <td>0.000000</td>\n",
       "      <td>0.000000</td>\n",
       "      <td>0.000000</td>\n",
       "      <td>0.000000</td>\n",
       "      <td>0.000000</td>\n",
       "      <td>0.000000</td>\n",
       "      <td>0.000000</td>\n",
       "      <td>0.000000</td>\n",
       "      <td>0.000000</td>\n",
       "      <td>0.000000</td>\n",
       "      <td>0.000000</td>\n",
       "      <td>0.000000</td>\n",
       "      <td>0.000000</td>\n",
       "      <td>0.000000</td>\n",
       "      <td>0.000000</td>\n",
       "      <td>0.000000</td>\n",
       "      <td>0.000000</td>\n",
       "      <td>0.000000</td>\n",
       "      <td>0.000000</td>\n",
       "      <td>0.000000</td>\n",
       "      <td>0.000000</td>\n",
       "      <td>0.000000</td>\n",
       "      <td>0.000000</td>\n",
       "      <td>0.000000</td>\n",
       "      <td>0.000000</td>\n",
       "      <td>0.000000</td>\n",
       "      <td>0.000000</td>\n",
       "      <td>0.000000</td>\n",
       "      <td>0.000000</td>\n",
       "      <td>0.000000</td>\n",
       "      <td>0.000000</td>\n",
       "      <td>0.00000</td>\n",
       "      <td>0.000000</td>\n",
       "      <td>1.000000</td>\n",
       "      <td>0.000000</td>\n",
       "      <td>0.000000</td>\n",
       "      <td>0.000000</td>\n",
       "    </tr>\n",
       "    <tr>\n",
       "      <th>50%</th>\n",
       "      <td>0.272727</td>\n",
       "      <td>0.000000</td>\n",
       "      <td>0.083906</td>\n",
       "      <td>0.000000</td>\n",
       "      <td>0.000000</td>\n",
       "      <td>0.000000</td>\n",
       "      <td>0.000000</td>\n",
       "      <td>0.000000</td>\n",
       "      <td>0.000000</td>\n",
       "      <td>0.000000</td>\n",
       "      <td>0.000000</td>\n",
       "      <td>0.000000</td>\n",
       "      <td>0.000000</td>\n",
       "      <td>0.000000</td>\n",
       "      <td>0.000000</td>\n",
       "      <td>0.000000</td>\n",
       "      <td>0.000000</td>\n",
       "      <td>1.000000</td>\n",
       "      <td>0.000000</td>\n",
       "      <td>0.000000</td>\n",
       "      <td>0.000000</td>\n",
       "      <td>0.000000</td>\n",
       "      <td>0.000000</td>\n",
       "      <td>0.000000</td>\n",
       "      <td>0.000000</td>\n",
       "      <td>0.000000</td>\n",
       "      <td>0.000000</td>\n",
       "      <td>0.000000</td>\n",
       "      <td>0.000000</td>\n",
       "      <td>0.000000</td>\n",
       "      <td>0.000000</td>\n",
       "      <td>0.000000</td>\n",
       "      <td>0.000000</td>\n",
       "      <td>0.000000</td>\n",
       "      <td>0.000000</td>\n",
       "      <td>0.00000</td>\n",
       "      <td>0.000000</td>\n",
       "      <td>1.000000</td>\n",
       "      <td>0.000000</td>\n",
       "      <td>0.000000</td>\n",
       "      <td>0.000000</td>\n",
       "    </tr>\n",
       "    <tr>\n",
       "      <th>75%</th>\n",
       "      <td>0.402597</td>\n",
       "      <td>0.000000</td>\n",
       "      <td>0.096989</td>\n",
       "      <td>1.000000</td>\n",
       "      <td>0.000000</td>\n",
       "      <td>1.000000</td>\n",
       "      <td>0.000000</td>\n",
       "      <td>0.000000</td>\n",
       "      <td>0.000000</td>\n",
       "      <td>0.000000</td>\n",
       "      <td>0.000000</td>\n",
       "      <td>0.000000</td>\n",
       "      <td>0.000000</td>\n",
       "      <td>0.000000</td>\n",
       "      <td>0.000000</td>\n",
       "      <td>0.000000</td>\n",
       "      <td>0.000000</td>\n",
       "      <td>1.000000</td>\n",
       "      <td>1.000000</td>\n",
       "      <td>1.000000</td>\n",
       "      <td>1.000000</td>\n",
       "      <td>0.000000</td>\n",
       "      <td>0.000000</td>\n",
       "      <td>0.000000</td>\n",
       "      <td>0.000000</td>\n",
       "      <td>0.000000</td>\n",
       "      <td>0.000000</td>\n",
       "      <td>0.000000</td>\n",
       "      <td>0.000000</td>\n",
       "      <td>0.000000</td>\n",
       "      <td>0.000000</td>\n",
       "      <td>1.000000</td>\n",
       "      <td>0.000000</td>\n",
       "      <td>0.000000</td>\n",
       "      <td>0.000000</td>\n",
       "      <td>0.00000</td>\n",
       "      <td>0.000000</td>\n",
       "      <td>1.000000</td>\n",
       "      <td>0.000000</td>\n",
       "      <td>0.000000</td>\n",
       "      <td>0.000000</td>\n",
       "    </tr>\n",
       "    <tr>\n",
       "      <th>max</th>\n",
       "      <td>1.000000</td>\n",
       "      <td>1.000000</td>\n",
       "      <td>1.000000</td>\n",
       "      <td>1.000000</td>\n",
       "      <td>1.000000</td>\n",
       "      <td>1.000000</td>\n",
       "      <td>1.000000</td>\n",
       "      <td>1.000000</td>\n",
       "      <td>1.000000</td>\n",
       "      <td>1.000000</td>\n",
       "      <td>1.000000</td>\n",
       "      <td>1.000000</td>\n",
       "      <td>1.000000</td>\n",
       "      <td>1.000000</td>\n",
       "      <td>1.000000</td>\n",
       "      <td>1.000000</td>\n",
       "      <td>1.000000</td>\n",
       "      <td>1.000000</td>\n",
       "      <td>1.000000</td>\n",
       "      <td>1.000000</td>\n",
       "      <td>1.000000</td>\n",
       "      <td>1.000000</td>\n",
       "      <td>1.000000</td>\n",
       "      <td>1.000000</td>\n",
       "      <td>1.000000</td>\n",
       "      <td>1.000000</td>\n",
       "      <td>1.000000</td>\n",
       "      <td>1.000000</td>\n",
       "      <td>1.000000</td>\n",
       "      <td>1.000000</td>\n",
       "      <td>1.000000</td>\n",
       "      <td>1.000000</td>\n",
       "      <td>1.000000</td>\n",
       "      <td>1.000000</td>\n",
       "      <td>1.000000</td>\n",
       "      <td>1.00000</td>\n",
       "      <td>1.000000</td>\n",
       "      <td>1.000000</td>\n",
       "      <td>1.000000</td>\n",
       "      <td>1.000000</td>\n",
       "      <td>1.000000</td>\n",
       "    </tr>\n",
       "  </tbody>\n",
       "</table>\n",
       "</div>"
      ],
      "text/plain": [
       "               age      default      balance      housing         loan  \\\n",
       "count  8929.000000  8929.000000  8929.000000  8929.000000  8929.000000   \n",
       "mean      0.300623     0.016351     0.094904     0.477097     0.130250   \n",
       "std       0.153880     0.126829     0.036266     0.499503     0.336597   \n",
       "min       0.000000     0.000000     0.000000     0.000000     0.000000   \n",
       "25%       0.181818     0.000000     0.079079     0.000000     0.000000   \n",
       "50%       0.272727     0.000000     0.083906     0.000000     0.000000   \n",
       "75%       0.402597     0.000000     0.096989     1.000000     0.000000   \n",
       "max       1.000000     1.000000     1.000000     1.000000     1.000000   \n",
       "\n",
       "           deposit  job_blue-collar  job_entrepreneur  job_housemaid  \\\n",
       "count  8929.000000      8929.000000       8929.000000    8929.000000   \n",
       "mean      0.473849         0.177959          0.028671       0.024415   \n",
       "std       0.499344         0.382500          0.166888       0.154342   \n",
       "min       0.000000         0.000000          0.000000       0.000000   \n",
       "25%       0.000000         0.000000          0.000000       0.000000   \n",
       "50%       0.000000         0.000000          0.000000       0.000000   \n",
       "75%       1.000000         0.000000          0.000000       0.000000   \n",
       "max       1.000000         1.000000          1.000000       1.000000   \n",
       "\n",
       "       job_management  job_retired  job_self-employed  job_services  \\\n",
       "count     8929.000000  8929.000000        8929.000000   8929.000000   \n",
       "mean         0.230709     0.068877           0.034942      0.080188   \n",
       "std          0.421310     0.253259           0.183644      0.271599   \n",
       "min          0.000000     0.000000           0.000000      0.000000   \n",
       "25%          0.000000     0.000000           0.000000      0.000000   \n",
       "50%          0.000000     0.000000           0.000000      0.000000   \n",
       "75%          0.000000     0.000000           0.000000      0.000000   \n",
       "max          1.000000     1.000000           1.000000      1.000000   \n",
       "\n",
       "       job_student  job_technician  job_unemployed  job_unknown  \\\n",
       "count  8929.000000     8929.000000     8929.000000  8929.000000   \n",
       "mean      0.032366        0.165640        0.032254     0.006160   \n",
       "std       0.176981        0.371778        0.176685     0.078246   \n",
       "min       0.000000        0.000000        0.000000     0.000000   \n",
       "25%       0.000000        0.000000        0.000000     0.000000   \n",
       "50%       0.000000        0.000000        0.000000     0.000000   \n",
       "75%       0.000000        0.000000        0.000000     0.000000   \n",
       "max       1.000000        1.000000        1.000000     1.000000   \n",
       "\n",
       "       marital_married  marital_single  education_secondary  \\\n",
       "count      8929.000000     8929.000000          8929.000000   \n",
       "mean          0.571733        0.315265             0.488073   \n",
       "std           0.494855        0.464647             0.499886   \n",
       "min           0.000000        0.000000             0.000000   \n",
       "25%           0.000000        0.000000             0.000000   \n",
       "50%           1.000000        0.000000             0.000000   \n",
       "75%           1.000000        1.000000             1.000000   \n",
       "max           1.000000        1.000000             1.000000   \n",
       "\n",
       "       education_tertiary  education_unknown  contact_telephone  \\\n",
       "count         8929.000000        8929.000000        8929.000000   \n",
       "mean             0.331616           0.044574           0.069997   \n",
       "std              0.470820           0.206378           0.255156   \n",
       "min              0.000000           0.000000           0.000000   \n",
       "25%              0.000000           0.000000           0.000000   \n",
       "50%              0.000000           0.000000           0.000000   \n",
       "75%              1.000000           0.000000           0.000000   \n",
       "max              1.000000           1.000000           1.000000   \n",
       "\n",
       "       contact_unknown    month_aug    month_dec    month_feb    month_jan  \\\n",
       "count      8929.000000  8929.000000  8929.000000  8929.000000  8929.000000   \n",
       "mean          0.214694     0.135737     0.009968     0.070109     0.030239   \n",
       "std           0.410633     0.342529     0.099344     0.255344     0.171253   \n",
       "min           0.000000     0.000000     0.000000     0.000000     0.000000   \n",
       "25%           0.000000     0.000000     0.000000     0.000000     0.000000   \n",
       "50%           0.000000     0.000000     0.000000     0.000000     0.000000   \n",
       "75%           0.000000     0.000000     0.000000     0.000000     0.000000   \n",
       "max           1.000000     1.000000     1.000000     1.000000     1.000000   \n",
       "\n",
       "         month_jul    month_jun    month_mar    month_may    month_nov  \\\n",
       "count  8929.000000  8929.000000  8929.000000  8929.000000  8929.000000   \n",
       "mean      0.134506     0.108971     0.024975     0.255908     0.083660   \n",
       "std       0.341214     0.311620     0.156057     0.436395     0.276893   \n",
       "min       0.000000     0.000000     0.000000     0.000000     0.000000   \n",
       "25%       0.000000     0.000000     0.000000     0.000000     0.000000   \n",
       "50%       0.000000     0.000000     0.000000     0.000000     0.000000   \n",
       "75%       0.000000     0.000000     0.000000     1.000000     0.000000   \n",
       "max       1.000000     1.000000     1.000000     1.000000     1.000000   \n",
       "\n",
       "         month_oct    month_sep  poutcome_other  poutcome_success  \\\n",
       "count  8929.000000  8929.000000      8929.00000       8929.000000   \n",
       "mean      0.035950     0.028447         0.04659          0.093628   \n",
       "std       0.186177     0.166254         0.21077          0.291326   \n",
       "min       0.000000     0.000000         0.00000          0.000000   \n",
       "25%       0.000000     0.000000         0.00000          0.000000   \n",
       "50%       0.000000     0.000000         0.00000          0.000000   \n",
       "75%       0.000000     0.000000         0.00000          0.000000   \n",
       "max       1.000000     1.000000         1.00000          1.000000   \n",
       "\n",
       "       poutcome_unknown  p_recency_a_6m  p_recency_b_1yr  p_recency_c_1yr+  \n",
       "count       8929.000000     8929.000000      8929.000000       8929.000000  \n",
       "mean           0.750588        0.113675         0.114235          0.021615  \n",
       "std            0.432697        0.317433         0.318114          0.145431  \n",
       "min            0.000000        0.000000         0.000000          0.000000  \n",
       "25%            1.000000        0.000000         0.000000          0.000000  \n",
       "50%            1.000000        0.000000         0.000000          0.000000  \n",
       "75%            1.000000        0.000000         0.000000          0.000000  \n",
       "max            1.000000        1.000000         1.000000          1.000000  "
      ]
     },
     "execution_count": 453,
     "metadata": {},
     "output_type": "execute_result"
    }
   ],
   "source": [
    "df_train.describe()"
   ]
  },
  {
   "cell_type": "code",
   "execution_count": 454,
   "id": "7df32cb8",
   "metadata": {},
   "outputs": [],
   "source": [
    "# for test data:\n",
    "\n",
    "df_test[[\"age\",\"balance\"]] = scaler.transform(df_test[[\"age\",\"balance\"]])"
   ]
  },
  {
   "cell_type": "code",
   "execution_count": 455,
   "id": "61f82e31",
   "metadata": {},
   "outputs": [
    {
     "data": {
      "text/html": [
       "<div>\n",
       "<style scoped>\n",
       "    .dataframe tbody tr th:only-of-type {\n",
       "        vertical-align: middle;\n",
       "    }\n",
       "\n",
       "    .dataframe tbody tr th {\n",
       "        vertical-align: top;\n",
       "    }\n",
       "\n",
       "    .dataframe thead th {\n",
       "        text-align: right;\n",
       "    }\n",
       "</style>\n",
       "<table border=\"1\" class=\"dataframe\">\n",
       "  <thead>\n",
       "    <tr style=\"text-align: right;\">\n",
       "      <th></th>\n",
       "      <th>age</th>\n",
       "      <th>default</th>\n",
       "      <th>balance</th>\n",
       "      <th>housing</th>\n",
       "      <th>loan</th>\n",
       "      <th>deposit</th>\n",
       "      <th>job_blue-collar</th>\n",
       "      <th>job_entrepreneur</th>\n",
       "      <th>job_housemaid</th>\n",
       "      <th>job_management</th>\n",
       "      <th>job_retired</th>\n",
       "      <th>job_self-employed</th>\n",
       "      <th>job_services</th>\n",
       "      <th>job_student</th>\n",
       "      <th>job_technician</th>\n",
       "      <th>job_unemployed</th>\n",
       "      <th>job_unknown</th>\n",
       "      <th>marital_married</th>\n",
       "      <th>marital_single</th>\n",
       "      <th>education_secondary</th>\n",
       "      <th>education_tertiary</th>\n",
       "      <th>education_unknown</th>\n",
       "      <th>contact_telephone</th>\n",
       "      <th>contact_unknown</th>\n",
       "      <th>month_aug</th>\n",
       "      <th>month_dec</th>\n",
       "      <th>month_feb</th>\n",
       "      <th>month_jan</th>\n",
       "      <th>month_jul</th>\n",
       "      <th>month_jun</th>\n",
       "      <th>month_mar</th>\n",
       "      <th>month_may</th>\n",
       "      <th>month_nov</th>\n",
       "      <th>month_oct</th>\n",
       "      <th>month_sep</th>\n",
       "      <th>poutcome_other</th>\n",
       "      <th>poutcome_success</th>\n",
       "      <th>poutcome_unknown</th>\n",
       "      <th>p_recency_a_6m</th>\n",
       "      <th>p_recency_b_1yr</th>\n",
       "      <th>p_recency_c_1yr+</th>\n",
       "    </tr>\n",
       "  </thead>\n",
       "  <tbody>\n",
       "    <tr>\n",
       "      <th>count</th>\n",
       "      <td>2233.000000</td>\n",
       "      <td>2233.000000</td>\n",
       "      <td>2233.000000</td>\n",
       "      <td>2233.000000</td>\n",
       "      <td>2233.000000</td>\n",
       "      <td>2233.000000</td>\n",
       "      <td>2233.000000</td>\n",
       "      <td>2233.000000</td>\n",
       "      <td>2233.000000</td>\n",
       "      <td>2233.000000</td>\n",
       "      <td>2233.000000</td>\n",
       "      <td>2233.000000</td>\n",
       "      <td>2233.000000</td>\n",
       "      <td>2233.000000</td>\n",
       "      <td>2233.000000</td>\n",
       "      <td>2233.000000</td>\n",
       "      <td>2233.000000</td>\n",
       "      <td>2233.000000</td>\n",
       "      <td>2233.000000</td>\n",
       "      <td>2233.000000</td>\n",
       "      <td>2233.000000</td>\n",
       "      <td>2233.000000</td>\n",
       "      <td>2233.000000</td>\n",
       "      <td>2233.000000</td>\n",
       "      <td>2233.000000</td>\n",
       "      <td>2233.000000</td>\n",
       "      <td>2233.000000</td>\n",
       "      <td>2233.000000</td>\n",
       "      <td>2233.000000</td>\n",
       "      <td>2233.000000</td>\n",
       "      <td>2233.000000</td>\n",
       "      <td>2233.000000</td>\n",
       "      <td>2233.000000</td>\n",
       "      <td>2233.000000</td>\n",
       "      <td>2233.000000</td>\n",
       "      <td>2233.000000</td>\n",
       "      <td>2233.000000</td>\n",
       "      <td>2233.000000</td>\n",
       "      <td>2233.000000</td>\n",
       "      <td>2233.000000</td>\n",
       "      <td>2233.000000</td>\n",
       "    </tr>\n",
       "    <tr>\n",
       "      <th>mean</th>\n",
       "      <td>0.306076</td>\n",
       "      <td>0.009852</td>\n",
       "      <td>0.095991</td>\n",
       "      <td>0.457232</td>\n",
       "      <td>0.133005</td>\n",
       "      <td>0.473802</td>\n",
       "      <td>0.158979</td>\n",
       "      <td>0.032244</td>\n",
       "      <td>0.025078</td>\n",
       "      <td>0.226601</td>\n",
       "      <td>0.072996</td>\n",
       "      <td>0.041648</td>\n",
       "      <td>0.092700</td>\n",
       "      <td>0.031796</td>\n",
       "      <td>0.154053</td>\n",
       "      <td>0.030900</td>\n",
       "      <td>0.006717</td>\n",
       "      <td>0.557994</td>\n",
       "      <td>0.314823</td>\n",
       "      <td>0.500672</td>\n",
       "      <td>0.326019</td>\n",
       "      <td>0.044335</td>\n",
       "      <td>0.066726</td>\n",
       "      <td>0.192118</td>\n",
       "      <td>0.137483</td>\n",
       "      <td>0.009404</td>\n",
       "      <td>0.067174</td>\n",
       "      <td>0.033139</td>\n",
       "      <td>0.140170</td>\n",
       "      <td>0.111509</td>\n",
       "      <td>0.023735</td>\n",
       "      <td>0.241379</td>\n",
       "      <td>0.087774</td>\n",
       "      <td>0.031796</td>\n",
       "      <td>0.029109</td>\n",
       "      <td>0.054187</td>\n",
       "      <td>0.105240</td>\n",
       "      <td>0.727273</td>\n",
       "      <td>0.118227</td>\n",
       "      <td>0.128527</td>\n",
       "      <td>0.026422</td>\n",
       "    </tr>\n",
       "    <tr>\n",
       "      <th>std</th>\n",
       "      <td>0.157990</td>\n",
       "      <td>0.098790</td>\n",
       "      <td>0.038053</td>\n",
       "      <td>0.498279</td>\n",
       "      <td>0.339656</td>\n",
       "      <td>0.499425</td>\n",
       "      <td>0.365738</td>\n",
       "      <td>0.176686</td>\n",
       "      <td>0.156398</td>\n",
       "      <td>0.418726</td>\n",
       "      <td>0.260188</td>\n",
       "      <td>0.199828</td>\n",
       "      <td>0.290077</td>\n",
       "      <td>0.175495</td>\n",
       "      <td>0.361080</td>\n",
       "      <td>0.173086</td>\n",
       "      <td>0.081702</td>\n",
       "      <td>0.496737</td>\n",
       "      <td>0.464549</td>\n",
       "      <td>0.500112</td>\n",
       "      <td>0.468859</td>\n",
       "      <td>0.205884</td>\n",
       "      <td>0.249603</td>\n",
       "      <td>0.394054</td>\n",
       "      <td>0.344434</td>\n",
       "      <td>0.096541</td>\n",
       "      <td>0.250380</td>\n",
       "      <td>0.179040</td>\n",
       "      <td>0.347241</td>\n",
       "      <td>0.314832</td>\n",
       "      <td>0.152256</td>\n",
       "      <td>0.428016</td>\n",
       "      <td>0.283030</td>\n",
       "      <td>0.175495</td>\n",
       "      <td>0.168149</td>\n",
       "      <td>0.226437</td>\n",
       "      <td>0.306931</td>\n",
       "      <td>0.445462</td>\n",
       "      <td>0.322949</td>\n",
       "      <td>0.334750</td>\n",
       "      <td>0.160422</td>\n",
       "    </tr>\n",
       "    <tr>\n",
       "      <th>min</th>\n",
       "      <td>0.000000</td>\n",
       "      <td>0.000000</td>\n",
       "      <td>0.051845</td>\n",
       "      <td>0.000000</td>\n",
       "      <td>0.000000</td>\n",
       "      <td>0.000000</td>\n",
       "      <td>0.000000</td>\n",
       "      <td>0.000000</td>\n",
       "      <td>0.000000</td>\n",
       "      <td>0.000000</td>\n",
       "      <td>0.000000</td>\n",
       "      <td>0.000000</td>\n",
       "      <td>0.000000</td>\n",
       "      <td>0.000000</td>\n",
       "      <td>0.000000</td>\n",
       "      <td>0.000000</td>\n",
       "      <td>0.000000</td>\n",
       "      <td>0.000000</td>\n",
       "      <td>0.000000</td>\n",
       "      <td>0.000000</td>\n",
       "      <td>0.000000</td>\n",
       "      <td>0.000000</td>\n",
       "      <td>0.000000</td>\n",
       "      <td>0.000000</td>\n",
       "      <td>0.000000</td>\n",
       "      <td>0.000000</td>\n",
       "      <td>0.000000</td>\n",
       "      <td>0.000000</td>\n",
       "      <td>0.000000</td>\n",
       "      <td>0.000000</td>\n",
       "      <td>0.000000</td>\n",
       "      <td>0.000000</td>\n",
       "      <td>0.000000</td>\n",
       "      <td>0.000000</td>\n",
       "      <td>0.000000</td>\n",
       "      <td>0.000000</td>\n",
       "      <td>0.000000</td>\n",
       "      <td>0.000000</td>\n",
       "      <td>0.000000</td>\n",
       "      <td>0.000000</td>\n",
       "      <td>0.000000</td>\n",
       "    </tr>\n",
       "    <tr>\n",
       "      <th>25%</th>\n",
       "      <td>0.181818</td>\n",
       "      <td>0.000000</td>\n",
       "      <td>0.079306</td>\n",
       "      <td>0.000000</td>\n",
       "      <td>0.000000</td>\n",
       "      <td>0.000000</td>\n",
       "      <td>0.000000</td>\n",
       "      <td>0.000000</td>\n",
       "      <td>0.000000</td>\n",
       "      <td>0.000000</td>\n",
       "      <td>0.000000</td>\n",
       "      <td>0.000000</td>\n",
       "      <td>0.000000</td>\n",
       "      <td>0.000000</td>\n",
       "      <td>0.000000</td>\n",
       "      <td>0.000000</td>\n",
       "      <td>0.000000</td>\n",
       "      <td>0.000000</td>\n",
       "      <td>0.000000</td>\n",
       "      <td>0.000000</td>\n",
       "      <td>0.000000</td>\n",
       "      <td>0.000000</td>\n",
       "      <td>0.000000</td>\n",
       "      <td>0.000000</td>\n",
       "      <td>0.000000</td>\n",
       "      <td>0.000000</td>\n",
       "      <td>0.000000</td>\n",
       "      <td>0.000000</td>\n",
       "      <td>0.000000</td>\n",
       "      <td>0.000000</td>\n",
       "      <td>0.000000</td>\n",
       "      <td>0.000000</td>\n",
       "      <td>0.000000</td>\n",
       "      <td>0.000000</td>\n",
       "      <td>0.000000</td>\n",
       "      <td>0.000000</td>\n",
       "      <td>0.000000</td>\n",
       "      <td>0.000000</td>\n",
       "      <td>0.000000</td>\n",
       "      <td>0.000000</td>\n",
       "      <td>0.000000</td>\n",
       "    </tr>\n",
       "    <tr>\n",
       "      <th>50%</th>\n",
       "      <td>0.272727</td>\n",
       "      <td>0.000000</td>\n",
       "      <td>0.084428</td>\n",
       "      <td>0.000000</td>\n",
       "      <td>0.000000</td>\n",
       "      <td>0.000000</td>\n",
       "      <td>0.000000</td>\n",
       "      <td>0.000000</td>\n",
       "      <td>0.000000</td>\n",
       "      <td>0.000000</td>\n",
       "      <td>0.000000</td>\n",
       "      <td>0.000000</td>\n",
       "      <td>0.000000</td>\n",
       "      <td>0.000000</td>\n",
       "      <td>0.000000</td>\n",
       "      <td>0.000000</td>\n",
       "      <td>0.000000</td>\n",
       "      <td>1.000000</td>\n",
       "      <td>0.000000</td>\n",
       "      <td>1.000000</td>\n",
       "      <td>0.000000</td>\n",
       "      <td>0.000000</td>\n",
       "      <td>0.000000</td>\n",
       "      <td>0.000000</td>\n",
       "      <td>0.000000</td>\n",
       "      <td>0.000000</td>\n",
       "      <td>0.000000</td>\n",
       "      <td>0.000000</td>\n",
       "      <td>0.000000</td>\n",
       "      <td>0.000000</td>\n",
       "      <td>0.000000</td>\n",
       "      <td>0.000000</td>\n",
       "      <td>0.000000</td>\n",
       "      <td>0.000000</td>\n",
       "      <td>0.000000</td>\n",
       "      <td>0.000000</td>\n",
       "      <td>0.000000</td>\n",
       "      <td>1.000000</td>\n",
       "      <td>0.000000</td>\n",
       "      <td>0.000000</td>\n",
       "      <td>0.000000</td>\n",
       "    </tr>\n",
       "    <tr>\n",
       "      <th>75%</th>\n",
       "      <td>0.402597</td>\n",
       "      <td>0.000000</td>\n",
       "      <td>0.097989</td>\n",
       "      <td>1.000000</td>\n",
       "      <td>0.000000</td>\n",
       "      <td>1.000000</td>\n",
       "      <td>0.000000</td>\n",
       "      <td>0.000000</td>\n",
       "      <td>0.000000</td>\n",
       "      <td>0.000000</td>\n",
       "      <td>0.000000</td>\n",
       "      <td>0.000000</td>\n",
       "      <td>0.000000</td>\n",
       "      <td>0.000000</td>\n",
       "      <td>0.000000</td>\n",
       "      <td>0.000000</td>\n",
       "      <td>0.000000</td>\n",
       "      <td>1.000000</td>\n",
       "      <td>1.000000</td>\n",
       "      <td>1.000000</td>\n",
       "      <td>1.000000</td>\n",
       "      <td>0.000000</td>\n",
       "      <td>0.000000</td>\n",
       "      <td>0.000000</td>\n",
       "      <td>0.000000</td>\n",
       "      <td>0.000000</td>\n",
       "      <td>0.000000</td>\n",
       "      <td>0.000000</td>\n",
       "      <td>0.000000</td>\n",
       "      <td>0.000000</td>\n",
       "      <td>0.000000</td>\n",
       "      <td>0.000000</td>\n",
       "      <td>0.000000</td>\n",
       "      <td>0.000000</td>\n",
       "      <td>0.000000</td>\n",
       "      <td>0.000000</td>\n",
       "      <td>0.000000</td>\n",
       "      <td>1.000000</td>\n",
       "      <td>0.000000</td>\n",
       "      <td>0.000000</td>\n",
       "      <td>0.000000</td>\n",
       "    </tr>\n",
       "    <tr>\n",
       "      <th>max</th>\n",
       "      <td>0.974026</td>\n",
       "      <td>1.000000</td>\n",
       "      <td>1.000000</td>\n",
       "      <td>1.000000</td>\n",
       "      <td>1.000000</td>\n",
       "      <td>1.000000</td>\n",
       "      <td>1.000000</td>\n",
       "      <td>1.000000</td>\n",
       "      <td>1.000000</td>\n",
       "      <td>1.000000</td>\n",
       "      <td>1.000000</td>\n",
       "      <td>1.000000</td>\n",
       "      <td>1.000000</td>\n",
       "      <td>1.000000</td>\n",
       "      <td>1.000000</td>\n",
       "      <td>1.000000</td>\n",
       "      <td>1.000000</td>\n",
       "      <td>1.000000</td>\n",
       "      <td>1.000000</td>\n",
       "      <td>1.000000</td>\n",
       "      <td>1.000000</td>\n",
       "      <td>1.000000</td>\n",
       "      <td>1.000000</td>\n",
       "      <td>1.000000</td>\n",
       "      <td>1.000000</td>\n",
       "      <td>1.000000</td>\n",
       "      <td>1.000000</td>\n",
       "      <td>1.000000</td>\n",
       "      <td>1.000000</td>\n",
       "      <td>1.000000</td>\n",
       "      <td>1.000000</td>\n",
       "      <td>1.000000</td>\n",
       "      <td>1.000000</td>\n",
       "      <td>1.000000</td>\n",
       "      <td>1.000000</td>\n",
       "      <td>1.000000</td>\n",
       "      <td>1.000000</td>\n",
       "      <td>1.000000</td>\n",
       "      <td>1.000000</td>\n",
       "      <td>1.000000</td>\n",
       "      <td>1.000000</td>\n",
       "    </tr>\n",
       "  </tbody>\n",
       "</table>\n",
       "</div>"
      ],
      "text/plain": [
       "               age      default      balance      housing         loan  \\\n",
       "count  2233.000000  2233.000000  2233.000000  2233.000000  2233.000000   \n",
       "mean      0.306076     0.009852     0.095991     0.457232     0.133005   \n",
       "std       0.157990     0.098790     0.038053     0.498279     0.339656   \n",
       "min       0.000000     0.000000     0.051845     0.000000     0.000000   \n",
       "25%       0.181818     0.000000     0.079306     0.000000     0.000000   \n",
       "50%       0.272727     0.000000     0.084428     0.000000     0.000000   \n",
       "75%       0.402597     0.000000     0.097989     1.000000     0.000000   \n",
       "max       0.974026     1.000000     1.000000     1.000000     1.000000   \n",
       "\n",
       "           deposit  job_blue-collar  job_entrepreneur  job_housemaid  \\\n",
       "count  2233.000000      2233.000000       2233.000000    2233.000000   \n",
       "mean      0.473802         0.158979          0.032244       0.025078   \n",
       "std       0.499425         0.365738          0.176686       0.156398   \n",
       "min       0.000000         0.000000          0.000000       0.000000   \n",
       "25%       0.000000         0.000000          0.000000       0.000000   \n",
       "50%       0.000000         0.000000          0.000000       0.000000   \n",
       "75%       1.000000         0.000000          0.000000       0.000000   \n",
       "max       1.000000         1.000000          1.000000       1.000000   \n",
       "\n",
       "       job_management  job_retired  job_self-employed  job_services  \\\n",
       "count     2233.000000  2233.000000        2233.000000   2233.000000   \n",
       "mean         0.226601     0.072996           0.041648      0.092700   \n",
       "std          0.418726     0.260188           0.199828      0.290077   \n",
       "min          0.000000     0.000000           0.000000      0.000000   \n",
       "25%          0.000000     0.000000           0.000000      0.000000   \n",
       "50%          0.000000     0.000000           0.000000      0.000000   \n",
       "75%          0.000000     0.000000           0.000000      0.000000   \n",
       "max          1.000000     1.000000           1.000000      1.000000   \n",
       "\n",
       "       job_student  job_technician  job_unemployed  job_unknown  \\\n",
       "count  2233.000000     2233.000000     2233.000000  2233.000000   \n",
       "mean      0.031796        0.154053        0.030900     0.006717   \n",
       "std       0.175495        0.361080        0.173086     0.081702   \n",
       "min       0.000000        0.000000        0.000000     0.000000   \n",
       "25%       0.000000        0.000000        0.000000     0.000000   \n",
       "50%       0.000000        0.000000        0.000000     0.000000   \n",
       "75%       0.000000        0.000000        0.000000     0.000000   \n",
       "max       1.000000        1.000000        1.000000     1.000000   \n",
       "\n",
       "       marital_married  marital_single  education_secondary  \\\n",
       "count      2233.000000     2233.000000          2233.000000   \n",
       "mean          0.557994        0.314823             0.500672   \n",
       "std           0.496737        0.464549             0.500112   \n",
       "min           0.000000        0.000000             0.000000   \n",
       "25%           0.000000        0.000000             0.000000   \n",
       "50%           1.000000        0.000000             1.000000   \n",
       "75%           1.000000        1.000000             1.000000   \n",
       "max           1.000000        1.000000             1.000000   \n",
       "\n",
       "       education_tertiary  education_unknown  contact_telephone  \\\n",
       "count         2233.000000        2233.000000        2233.000000   \n",
       "mean             0.326019           0.044335           0.066726   \n",
       "std              0.468859           0.205884           0.249603   \n",
       "min              0.000000           0.000000           0.000000   \n",
       "25%              0.000000           0.000000           0.000000   \n",
       "50%              0.000000           0.000000           0.000000   \n",
       "75%              1.000000           0.000000           0.000000   \n",
       "max              1.000000           1.000000           1.000000   \n",
       "\n",
       "       contact_unknown    month_aug    month_dec    month_feb    month_jan  \\\n",
       "count      2233.000000  2233.000000  2233.000000  2233.000000  2233.000000   \n",
       "mean          0.192118     0.137483     0.009404     0.067174     0.033139   \n",
       "std           0.394054     0.344434     0.096541     0.250380     0.179040   \n",
       "min           0.000000     0.000000     0.000000     0.000000     0.000000   \n",
       "25%           0.000000     0.000000     0.000000     0.000000     0.000000   \n",
       "50%           0.000000     0.000000     0.000000     0.000000     0.000000   \n",
       "75%           0.000000     0.000000     0.000000     0.000000     0.000000   \n",
       "max           1.000000     1.000000     1.000000     1.000000     1.000000   \n",
       "\n",
       "         month_jul    month_jun    month_mar    month_may    month_nov  \\\n",
       "count  2233.000000  2233.000000  2233.000000  2233.000000  2233.000000   \n",
       "mean      0.140170     0.111509     0.023735     0.241379     0.087774   \n",
       "std       0.347241     0.314832     0.152256     0.428016     0.283030   \n",
       "min       0.000000     0.000000     0.000000     0.000000     0.000000   \n",
       "25%       0.000000     0.000000     0.000000     0.000000     0.000000   \n",
       "50%       0.000000     0.000000     0.000000     0.000000     0.000000   \n",
       "75%       0.000000     0.000000     0.000000     0.000000     0.000000   \n",
       "max       1.000000     1.000000     1.000000     1.000000     1.000000   \n",
       "\n",
       "         month_oct    month_sep  poutcome_other  poutcome_success  \\\n",
       "count  2233.000000  2233.000000     2233.000000       2233.000000   \n",
       "mean      0.031796     0.029109        0.054187          0.105240   \n",
       "std       0.175495     0.168149        0.226437          0.306931   \n",
       "min       0.000000     0.000000        0.000000          0.000000   \n",
       "25%       0.000000     0.000000        0.000000          0.000000   \n",
       "50%       0.000000     0.000000        0.000000          0.000000   \n",
       "75%       0.000000     0.000000        0.000000          0.000000   \n",
       "max       1.000000     1.000000        1.000000          1.000000   \n",
       "\n",
       "       poutcome_unknown  p_recency_a_6m  p_recency_b_1yr  p_recency_c_1yr+  \n",
       "count       2233.000000     2233.000000      2233.000000       2233.000000  \n",
       "mean           0.727273        0.118227         0.128527          0.026422  \n",
       "std            0.445462        0.322949         0.334750          0.160422  \n",
       "min            0.000000        0.000000         0.000000          0.000000  \n",
       "25%            0.000000        0.000000         0.000000          0.000000  \n",
       "50%            1.000000        0.000000         0.000000          0.000000  \n",
       "75%            1.000000        0.000000         0.000000          0.000000  \n",
       "max            1.000000        1.000000         1.000000          1.000000  "
      ]
     },
     "execution_count": 455,
     "metadata": {},
     "output_type": "execute_result"
    }
   ],
   "source": [
    "df_test.describe()"
   ]
  },
  {
   "cell_type": "markdown",
   "id": "2a3de4ac",
   "metadata": {},
   "source": [
    "#### 8. Model Building:"
   ]
  },
  {
   "cell_type": "code",
   "execution_count": 456,
   "id": "068b40ba",
   "metadata": {},
   "outputs": [],
   "source": [
    "x_train = df_train.drop(\"deposit\", axis=1)\n",
    "y_train = df_train[\"deposit\"]\n",
    "x_test = df_test.drop(\"deposit\", axis=1)\n",
    "y_test = df_test[\"deposit\"]"
   ]
  },
  {
   "cell_type": "code",
   "execution_count": 457,
   "id": "fd140e1b",
   "metadata": {},
   "outputs": [
    {
     "name": "stdout",
     "output_type": "stream",
     "text": [
      "(8929, 40)\n",
      "--------------------\n",
      "(2233, 40)\n"
     ]
    }
   ],
   "source": [
    "print(x_train.shape)\n",
    "print(\"-\"*20)\n",
    "print(x_test.shape)"
   ]
  },
  {
   "cell_type": "markdown",
   "id": "2145f2c8",
   "metadata": {},
   "source": [
    "* Model Building - Logistic Regression:"
   ]
  },
  {
   "cell_type": "code",
   "execution_count": 458,
   "id": "c07d6a33",
   "metadata": {},
   "outputs": [],
   "source": [
    "from sklearn.linear_model import LogisticRegression"
   ]
  },
  {
   "cell_type": "code",
   "execution_count": 459,
   "id": "e3d2aaf0",
   "metadata": {},
   "outputs": [],
   "source": [
    "logreg = LogisticRegression(random_state=100)"
   ]
  },
  {
   "cell_type": "code",
   "execution_count": 460,
   "id": "9e466cb2",
   "metadata": {},
   "outputs": [
    {
     "data": {
      "text/plain": [
       "LogisticRegression(random_state=100)"
      ]
     },
     "execution_count": 460,
     "metadata": {},
     "output_type": "execute_result"
    }
   ],
   "source": [
    "logreg.fit(x_train,y_train)"
   ]
  },
  {
   "cell_type": "markdown",
   "id": "e691721b",
   "metadata": {},
   "source": [
    "* Model Evaluation on Train set:"
   ]
  },
  {
   "cell_type": "code",
   "execution_count": 461,
   "id": "07ec81cc",
   "metadata": {},
   "outputs": [],
   "source": [
    "y_train_pred = logreg.predict(x_train)"
   ]
  },
  {
   "cell_type": "code",
   "execution_count": 462,
   "id": "6da5a95e",
   "metadata": {},
   "outputs": [],
   "source": [
    "from sklearn.metrics import accuracy_score, confusion_matrix, classification_report"
   ]
  },
  {
   "cell_type": "code",
   "execution_count": 463,
   "id": "7eadd907",
   "metadata": {},
   "outputs": [
    {
     "name": "stdout",
     "output_type": "stream",
     "text": [
      "0.7034382349647217\n"
     ]
    }
   ],
   "source": [
    "print(accuracy_score(y_train,y_train_pred))"
   ]
  },
  {
   "cell_type": "code",
   "execution_count": 464,
   "id": "32b2a4f1",
   "metadata": {},
   "outputs": [
    {
     "name": "stdout",
     "output_type": "stream",
     "text": [
      "[[3837  861]\n",
      " [1787 2444]]\n"
     ]
    }
   ],
   "source": [
    "print(confusion_matrix(y_train,y_train_pred))"
   ]
  },
  {
   "cell_type": "code",
   "execution_count": 465,
   "id": "3f5141a6",
   "metadata": {},
   "outputs": [
    {
     "name": "stdout",
     "output_type": "stream",
     "text": [
      "              precision    recall  f1-score   support\n",
      "\n",
      "           0       0.68      0.82      0.74      4698\n",
      "           1       0.74      0.58      0.65      4231\n",
      "\n",
      "    accuracy                           0.70      8929\n",
      "   macro avg       0.71      0.70      0.70      8929\n",
      "weighted avg       0.71      0.70      0.70      8929\n",
      "\n"
     ]
    }
   ],
   "source": [
    "print(classification_report(y_train,y_train_pred))"
   ]
  },
  {
   "cell_type": "markdown",
   "id": "ff4f85d3",
   "metadata": {},
   "source": [
    "* Model Evaluation on Test Set:"
   ]
  },
  {
   "cell_type": "code",
   "execution_count": 466,
   "id": "5486ddd1",
   "metadata": {},
   "outputs": [],
   "source": [
    "y_test_pred = logreg.predict(x_test)"
   ]
  },
  {
   "cell_type": "code",
   "execution_count": 467,
   "id": "f6eee467",
   "metadata": {},
   "outputs": [
    {
     "name": "stdout",
     "output_type": "stream",
     "text": [
      "0.7093596059113301\n"
     ]
    }
   ],
   "source": [
    "print(accuracy_score(y_test,y_test_pred))"
   ]
  },
  {
   "cell_type": "markdown",
   "id": "2f56d9f0",
   "metadata": {},
   "source": [
    "* Model Building - Random Forest"
   ]
  },
  {
   "cell_type": "code",
   "execution_count": 468,
   "id": "53a2a4eb",
   "metadata": {},
   "outputs": [],
   "source": [
    "from sklearn.ensemble import RandomForestClassifier"
   ]
  },
  {
   "cell_type": "code",
   "execution_count": 469,
   "id": "d1091790",
   "metadata": {},
   "outputs": [],
   "source": [
    "rf = RandomForestClassifier(random_state=100,n_estimators = 50, oob_score = True)"
   ]
  },
  {
   "cell_type": "code",
   "execution_count": 470,
   "id": "c3a7fe2f",
   "metadata": {},
   "outputs": [
    {
     "data": {
      "text/plain": [
       "RandomForestClassifier(n_estimators=50, oob_score=True, random_state=100)"
      ]
     },
     "execution_count": 470,
     "metadata": {},
     "output_type": "execute_result"
    }
   ],
   "source": [
    "rf.fit(x_train,y_train)"
   ]
  },
  {
   "cell_type": "markdown",
   "id": "400615b4",
   "metadata": {},
   "source": [
    "* Model Evaluation on Train set:"
   ]
  },
  {
   "cell_type": "code",
   "execution_count": 471,
   "id": "028a851d",
   "metadata": {},
   "outputs": [],
   "source": [
    "y_train_pred = rf.predict(x_train)\n"
   ]
  },
  {
   "cell_type": "code",
   "execution_count": 472,
   "id": "197b763c",
   "metadata": {},
   "outputs": [
    {
     "name": "stdout",
     "output_type": "stream",
     "text": [
      "0.9985440698846455\n"
     ]
    }
   ],
   "source": [
    "print(accuracy_score(y_train, y_train_pred))"
   ]
  },
  {
   "cell_type": "markdown",
   "id": "5c26a8cc",
   "metadata": {},
   "source": [
    "* Model Evaluation on Test Set:"
   ]
  },
  {
   "cell_type": "code",
   "execution_count": 473,
   "id": "9b2e7fb0",
   "metadata": {},
   "outputs": [],
   "source": [
    "y_test_pred = rf.predict(x_test)"
   ]
  },
  {
   "cell_type": "code",
   "execution_count": 474,
   "id": "3aaf1612",
   "metadata": {},
   "outputs": [
    {
     "name": "stdout",
     "output_type": "stream",
     "text": [
      "0.7008508732646663\n"
     ]
    }
   ],
   "source": [
    "print(accuracy_score(y_test,y_test_pred))"
   ]
  },
  {
   "cell_type": "markdown",
   "id": "75500dbb",
   "metadata": {},
   "source": [
    "#### 9. Cross Validation:"
   ]
  },
  {
   "cell_type": "code",
   "execution_count": 475,
   "id": "4504e2fd",
   "metadata": {},
   "outputs": [],
   "source": [
    "from sklearn.model_selection import cross_val_score"
   ]
  },
  {
   "cell_type": "code",
   "execution_count": 476,
   "id": "1a23e457",
   "metadata": {},
   "outputs": [
    {
     "data": {
      "text/plain": [
       "array([0.6825308 , 0.69988802, 0.6987682 , 0.70828667, 0.70140056])"
      ]
     },
     "execution_count": 476,
     "metadata": {},
     "output_type": "execute_result"
    }
   ],
   "source": [
    "# Crosss Validation - Logistic Regression (Accuracy metric):\n",
    "\n",
    "cross_val_score(logreg,x_train, y_train, cv = 5, n_jobs=-1)"
   ]
  },
  {
   "cell_type": "code",
   "execution_count": 477,
   "id": "3d7e5e6d",
   "metadata": {},
   "outputs": [
    {
     "data": {
      "text/plain": [
       "0.698174848886923"
      ]
     },
     "execution_count": 477,
     "metadata": {},
     "output_type": "execute_result"
    }
   ],
   "source": [
    "cross_val_score(logreg,x_train, y_train, cv = 5, n_jobs=-1).mean()"
   ]
  },
  {
   "cell_type": "code",
   "execution_count": 478,
   "id": "543a3769",
   "metadata": {},
   "outputs": [
    {
     "data": {
      "text/plain": [
       "array([0.68868981, 0.6881299 , 0.69708847, 0.693729  , 0.69467787])"
      ]
     },
     "execution_count": 478,
     "metadata": {},
     "output_type": "execute_result"
    }
   ],
   "source": [
    "# Cross Validation - Random Forest(Accuracy metric):\n",
    "cross_val_score(rf,x_train, y_train, cv = 5, n_jobs=-1)\n"
   ]
  },
  {
   "cell_type": "code",
   "execution_count": 479,
   "id": "caed241b",
   "metadata": {},
   "outputs": [
    {
     "data": {
      "text/plain": [
       "0.6924630098399943"
      ]
     },
     "execution_count": 479,
     "metadata": {},
     "output_type": "execute_result"
    }
   ],
   "source": [
    "cross_val_score(rf,x_train, y_train, cv = 5, n_jobs=-1).mean()"
   ]
  },
  {
   "cell_type": "markdown",
   "id": "3ae73386",
   "metadata": {},
   "source": [
    "NOTE:Logistic Regression Algorithm  is slightly doing better compared to the Random Forest Algorithm "
   ]
  },
  {
   "cell_type": "markdown",
   "id": "b7537cf8",
   "metadata": {},
   "source": [
    "* OOB Score in Random Forest Model:"
   ]
  },
  {
   "cell_type": "code",
   "execution_count": 480,
   "id": "5ac91ad9",
   "metadata": {},
   "outputs": [
    {
     "data": {
      "text/plain": [
       "0.6820472617314369"
      ]
     },
     "execution_count": 480,
     "metadata": {},
     "output_type": "execute_result"
    }
   ],
   "source": [
    "rf.oob_score_     # >>> OOB in RF is somewhat similar to cross Validation score"
   ]
  },
  {
   "cell_type": "code",
   "execution_count": 481,
   "id": "737985f1",
   "metadata": {},
   "outputs": [],
   "source": [
    "import sklearn"
   ]
  },
  {
   "cell_type": "code",
   "execution_count": 482,
   "id": "d2ef3860",
   "metadata": {},
   "outputs": [
    {
     "data": {
      "text/plain": [
       "dict_keys(['explained_variance', 'r2', 'max_error', 'neg_median_absolute_error', 'neg_mean_absolute_error', 'neg_mean_absolute_percentage_error', 'neg_mean_squared_error', 'neg_mean_squared_log_error', 'neg_root_mean_squared_error', 'neg_mean_poisson_deviance', 'neg_mean_gamma_deviance', 'accuracy', 'top_k_accuracy', 'roc_auc', 'roc_auc_ovr', 'roc_auc_ovo', 'roc_auc_ovr_weighted', 'roc_auc_ovo_weighted', 'balanced_accuracy', 'average_precision', 'neg_log_loss', 'neg_brier_score', 'adjusted_rand_score', 'rand_score', 'homogeneity_score', 'completeness_score', 'v_measure_score', 'mutual_info_score', 'adjusted_mutual_info_score', 'normalized_mutual_info_score', 'fowlkes_mallows_score', 'precision', 'precision_macro', 'precision_micro', 'precision_samples', 'precision_weighted', 'recall', 'recall_macro', 'recall_micro', 'recall_samples', 'recall_weighted', 'f1', 'f1_macro', 'f1_micro', 'f1_samples', 'f1_weighted', 'jaccard', 'jaccard_macro', 'jaccard_micro', 'jaccard_samples', 'jaccard_weighted'])"
      ]
     },
     "execution_count": 482,
     "metadata": {},
     "output_type": "execute_result"
    }
   ],
   "source": [
    "# Choosing Other metrics to check cross validation score:\n",
    "sklearn.metrics.SCORERS.keys()"
   ]
  },
  {
   "cell_type": "code",
   "execution_count": 483,
   "id": "1715d299",
   "metadata": {},
   "outputs": [
    {
     "data": {
      "text/plain": [
       "array([0.61465721, 0.62529551, 0.63829787, 0.6068477 , 0.64184397])"
      ]
     },
     "execution_count": 483,
     "metadata": {},
     "output_type": "execute_result"
    }
   ],
   "source": [
    "# Cross Validation - Random Forest (recall metric)\n",
    "cross_val_score(rf,x_train,y_train, cv = 5, n_jobs=-1,scoring=\"recall\")"
   ]
  },
  {
   "cell_type": "markdown",
   "id": "e81174c1",
   "metadata": {},
   "source": [
    "#### 10. Feature Selection:"
   ]
  },
  {
   "cell_type": "markdown",
   "id": "6b280d90",
   "metadata": {},
   "source": [
    "* Recursive Feature Selection:"
   ]
  },
  {
   "cell_type": "code",
   "execution_count": 484,
   "id": "4c68f833",
   "metadata": {},
   "outputs": [],
   "source": [
    "from sklearn.feature_selection import RFE"
   ]
  },
  {
   "cell_type": "code",
   "execution_count": 485,
   "id": "4ada371f",
   "metadata": {},
   "outputs": [],
   "source": [
    "logreg = LogisticRegression(random_state=100)"
   ]
  },
  {
   "cell_type": "code",
   "execution_count": 486,
   "id": "fc76a445",
   "metadata": {},
   "outputs": [],
   "source": [
    "rfe = RFE(estimator=logreg, n_features_to_select=10)"
   ]
  },
  {
   "cell_type": "code",
   "execution_count": 487,
   "id": "f84e1c21",
   "metadata": {},
   "outputs": [],
   "source": [
    "rfe = rfe.fit(x_train,y_train)"
   ]
  },
  {
   "cell_type": "code",
   "execution_count": 488,
   "id": "bd516bdf",
   "metadata": {},
   "outputs": [
    {
     "data": {
      "text/plain": [
       "RFE(estimator=LogisticRegression(random_state=100), n_features_to_select=10)"
      ]
     },
     "execution_count": 488,
     "metadata": {},
     "output_type": "execute_result"
    }
   ],
   "source": [
    "rfe"
   ]
  },
  {
   "cell_type": "code",
   "execution_count": 489,
   "id": "71b16457",
   "metadata": {},
   "outputs": [
    {
     "data": {
      "text/plain": [
       "array([False, False,  True,  True, False, False, False, False, False,\n",
       "       False, False, False,  True, False, False, False, False, False,\n",
       "       False, False, False, False,  True, False,  True, False, False,\n",
       "       False, False,  True, False, False,  True,  True, False,  True,\n",
       "       False, False, False,  True])"
      ]
     },
     "execution_count": 489,
     "metadata": {},
     "output_type": "execute_result"
    }
   ],
   "source": [
    "rfe.support_"
   ]
  },
  {
   "cell_type": "code",
   "execution_count": 490,
   "id": "84dc9574",
   "metadata": {},
   "outputs": [
    {
     "data": {
      "text/plain": [
       "array([17, 26,  1,  1, 11, 30, 21, 12, 22,  9, 20, 27,  1, 31, 15, 25, 10,\n",
       "       24, 18, 16, 19,  8,  1,  3,  1,  7,  2,  4, 29,  1,  6,  5,  1,  1,\n",
       "       13,  1, 28, 23, 14,  1])"
      ]
     },
     "execution_count": 490,
     "metadata": {},
     "output_type": "execute_result"
    }
   ],
   "source": [
    "rfe.ranking_"
   ]
  },
  {
   "cell_type": "code",
   "execution_count": 491,
   "id": "84dcf3e6",
   "metadata": {},
   "outputs": [
    {
     "data": {
      "text/plain": [
       "Index(['balance', 'housing', 'job_student', 'contact_unknown', 'month_dec',\n",
       "       'month_mar', 'month_oct', 'month_sep', 'poutcome_success',\n",
       "       'p_recency_c_1yr+'],\n",
       "      dtype='object')"
      ]
     },
     "execution_count": 491,
     "metadata": {},
     "output_type": "execute_result"
    }
   ],
   "source": [
    "x_train.columns[rfe.support_]"
   ]
  },
  {
   "cell_type": "code",
   "execution_count": 492,
   "id": "bf60eef5",
   "metadata": {},
   "outputs": [
    {
     "data": {
      "text/plain": [
       "Index(['balance', 'housing', 'job_student', 'contact_unknown', 'month_dec',\n",
       "       'month_mar', 'month_oct', 'month_sep', 'poutcome_success',\n",
       "       'p_recency_c_1yr+'],\n",
       "      dtype='object')"
      ]
     },
     "execution_count": 492,
     "metadata": {},
     "output_type": "execute_result"
    }
   ],
   "source": [
    "featuress = x_train.columns[rfe.support_]\n",
    "featuress"
   ]
  },
  {
   "cell_type": "code",
   "execution_count": 495,
   "id": "92491a9c",
   "metadata": {},
   "outputs": [],
   "source": [
    "x_train2 = x_train[featuress]"
   ]
  },
  {
   "cell_type": "markdown",
   "id": "4657c1f3",
   "metadata": {},
   "source": [
    "* Evaluation - Cross valuation Score"
   ]
  },
  {
   "cell_type": "code",
   "execution_count": 496,
   "id": "991e6c5b",
   "metadata": {},
   "outputs": [
    {
     "data": {
      "text/plain": [
       "array([0.67805151, 0.68421053, 0.68085106, 0.66797312, 0.69915966])"
      ]
     },
     "execution_count": 496,
     "metadata": {},
     "output_type": "execute_result"
    }
   ],
   "source": [
    "# Cross Valuation Score for Logistic Regression:\n",
    "\n",
    "cross_val_score(logreg,x_train2, y_train, n_jobs=-1)"
   ]
  },
  {
   "cell_type": "markdown",
   "id": "a7bea271",
   "metadata": {},
   "source": [
    "#### Cross Validation for Feature Selection:"
   ]
  },
  {
   "cell_type": "code",
   "execution_count": 497,
   "id": "93dca2a3",
   "metadata": {},
   "outputs": [
    {
     "data": {
      "text/plain": [
       "40"
      ]
     },
     "execution_count": 497,
     "metadata": {},
     "output_type": "execute_result"
    }
   ],
   "source": [
    "num_features = x_train.shape\n",
    "num_features[1]"
   ]
  },
  {
   "cell_type": "code",
   "execution_count": 498,
   "id": "daecb086",
   "metadata": {},
   "outputs": [],
   "source": [
    "cv_scores = []"
   ]
  },
  {
   "cell_type": "code",
   "execution_count": 499,
   "id": "18c62d74",
   "metadata": {},
   "outputs": [],
   "source": [
    "logreg = LogisticRegression(random_state=100)"
   ]
  },
  {
   "cell_type": "code",
   "execution_count": 500,
   "id": "5c1a2598",
   "metadata": {},
   "outputs": [],
   "source": [
    "for features in range(1,num_features[1]+1):\n",
    "    rfe = RFE(logreg, n_features_to_select=features)\n",
    "    scores = cross_val_score(rfe,x_train,y_train, cv=4)\n",
    "    cv_scores.append(scores.mean())"
   ]
  },
  {
   "cell_type": "code",
   "execution_count": 501,
   "id": "4231dc89",
   "metadata": {},
   "outputs": [
    {
     "name": "stdout",
     "output_type": "stream",
     "text": [
      "[0.568488445956466, 0.6067873234169119, 0.6180988937523977, 0.6228023922684657, 0.6326581703736877, 0.6486731890652915, 0.6506890672977993, 0.6580806375369779, 0.6608803653088969, 0.6817115919243283, 0.6789109111133582, 0.6777919931076215, 0.6873109973082164, 0.6950389903323719, 0.6931347681486725, 0.6950388398525218, 0.692351721168462, 0.6945917140577874, 0.6955995779341163, 0.6968318574269631, 0.6970558717638807, 0.6991837571648472, 0.6967203016980548, 0.6960483088472522, 0.6966081942096958, 0.6968322587065634, 0.696048007887552, 0.6959357499193427, 0.6976157571263245, 0.6981758431285684, 0.699183456205147, 0.6995196281903735, 0.700191621041176, 0.7000797643525675, 0.7001918216809763, 0.7004158360178938, 0.6991837571648472, 0.6991837070048972, 0.6991837571648473, 0.6995197786702236]\n"
     ]
    }
   ],
   "source": [
    "print(cv_scores)"
   ]
  },
  {
   "cell_type": "code",
   "execution_count": 502,
   "id": "da711160",
   "metadata": {},
   "outputs": [
    {
     "data": {
      "text/plain": [
       "[<matplotlib.lines.Line2D at 0x13e759b5430>]"
      ]
     },
     "execution_count": 502,
     "metadata": {},
     "output_type": "execute_result"
    },
    {
     "data": {
      "image/png": "[encoded data removed]",
      "text/plain": [
       "<Figure size 1080x504 with 1 Axes>"
      ]
     },
     "metadata": {},
     "output_type": "display_data"
    }
   ],
   "source": [
    "plt.figure(figsize=(15,7))\n",
    "plt.plot(range(1,num_features[1]+1), cv_scores)"
   ]
  },
  {
   "cell_type": "markdown",
   "id": "692277b8",
   "metadata": {},
   "source": [
    "#### Using RFECV:"
   ]
  },
  {
   "cell_type": "code",
   "execution_count": 503,
   "id": "8889b107",
   "metadata": {},
   "outputs": [],
   "source": [
    "from sklearn.feature_selection import RFECV"
   ]
  },
  {
   "cell_type": "code",
   "execution_count": 504,
   "id": "010079aa",
   "metadata": {},
   "outputs": [],
   "source": [
    "rfecv = RFECV(estimator=logreg, cv = 4)"
   ]
  },
  {
   "cell_type": "code",
   "execution_count": 505,
   "id": "0823885f",
   "metadata": {},
   "outputs": [
    {
     "name": "stdout",
     "output_type": "stream",
     "text": [
      "Wall time: 9.6 s\n"
     ]
    },
    {
     "data": {
      "text/plain": [
       "RFECV(cv=4, estimator=LogisticRegression(random_state=100))"
      ]
     },
     "execution_count": 505,
     "metadata": {},
     "output_type": "execute_result"
    }
   ],
   "source": [
    "%%time\n",
    "rfecv.fit(x_train,y_train)"
   ]
  },
  {
   "cell_type": "code",
   "execution_count": 506,
   "id": "26b1180a",
   "metadata": {},
   "outputs": [
    {
     "data": {
      "text/plain": [
       "array([0.56848845, 0.60678732, 0.61809889, 0.62280239, 0.63265817,\n",
       "       0.64867319, 0.65068907, 0.65808064, 0.66088037, 0.68171159,\n",
       "       0.67891091, 0.67779199, 0.687311  , 0.69503899, 0.69313477,\n",
       "       0.69503884, 0.69235172, 0.69459171, 0.69559958, 0.69683186,\n",
       "       0.69705587, 0.69918376, 0.6967203 , 0.69604831, 0.69660819,\n",
       "       0.69683226, 0.69604801, 0.69593575, 0.69761576, 0.69817584,\n",
       "       0.69918346, 0.69951963, 0.70019162, 0.70007976, 0.70019182,\n",
       "       0.70041584, 0.69918376, 0.69918371, 0.69918376, 0.69951978])"
      ]
     },
     "execution_count": 506,
     "metadata": {},
     "output_type": "execute_result"
    }
   ],
   "source": [
    "rfecv.grid_scores_"
   ]
  },
  {
   "cell_type": "code",
   "execution_count": 507,
   "id": "acf20a6a",
   "metadata": {},
   "outputs": [
    {
     "data": {
      "text/plain": [
       "[<matplotlib.lines.Line2D at 0x13e75f16ca0>]"
      ]
     },
     "execution_count": 507,
     "metadata": {},
     "output_type": "execute_result"
    },
    {
     "data": {
      "image/png": "[encoded data removed]",
      "text/plain": [
       "<Figure size 1080x504 with 1 Axes>"
      ]
     },
     "metadata": {},
     "output_type": "display_data"
    }
   ],
   "source": [
    "plt.figure(figsize=(15,7))\n",
    "plt.plot(range(1,num_features[1]+1), rfecv.grid_scores_)"
   ]
  },
  {
   "cell_type": "code",
   "execution_count": 508,
   "id": "18b950ed",
   "metadata": {},
   "outputs": [
    {
     "data": {
      "text/plain": [
       "36"
      ]
     },
     "execution_count": 508,
     "metadata": {},
     "output_type": "execute_result"
    }
   ],
   "source": [
    "rfecv.n_features_"
   ]
  },
  {
   "cell_type": "markdown",
   "id": "aeaa2489",
   "metadata": {},
   "source": [
    "#### 11. Hyper Tuning - Cross Validation: "
   ]
  },
  {
   "cell_type": "code",
   "execution_count": 509,
   "id": "5a6bfc71",
   "metadata": {},
   "outputs": [],
   "source": [
    "from sklearn.ensemble import RandomForestClassifier"
   ]
  },
  {
   "cell_type": "code",
   "execution_count": 510,
   "id": "03f7e7ae",
   "metadata": {},
   "outputs": [],
   "source": [
    "rf = RandomForestClassifier(random_state=100, n_jobs=-1)"
   ]
  },
  {
   "cell_type": "code",
   "execution_count": 511,
   "id": "1a4303e1",
   "metadata": {},
   "outputs": [],
   "source": [
    "from sklearn.model_selection import GridSearchCV"
   ]
  },
  {
   "cell_type": "code",
   "execution_count": 512,
   "id": "ce4dd8df",
   "metadata": {},
   "outputs": [],
   "source": [
    "params = {\"max_depth\": [3, 5, 10, 15, 20],\n",
    "         \"max_features\": [3,5,7,11,15],\n",
    "         \"min_samples_leaf\":[20,50,100,200,400],\n",
    "         \"n_estimators\": [10,25,50,80,100]}"
   ]
  },
  {
   "cell_type": "code",
   "execution_count": 513,
   "id": "a1ebb0d3",
   "metadata": {},
   "outputs": [],
   "source": [
    "Grid_search = GridSearchCV(estimator=rf, param_grid=params, n_jobs=-1, verbose=1,cv = 5, return_train_score=True )"
   ]
  },
  {
   "cell_type": "code",
   "execution_count": 514,
   "id": "cff9730f",
   "metadata": {},
   "outputs": [
    {
     "name": "stdout",
     "output_type": "stream",
     "text": [
      "Fitting 5 folds for each of 625 candidates, totalling 3125 fits\n"
     ]
    },
    {
     "data": {
      "text/plain": [
       "GridSearchCV(cv=5,\n",
       "             estimator=RandomForestClassifier(n_jobs=-1, random_state=100),\n",
       "             n_jobs=-1,\n",
       "             param_grid={'max_depth': [3, 5, 10, 15, 20],\n",
       "                         'max_features': [3, 5, 7, 11, 15],\n",
       "                         'min_samples_leaf': [20, 50, 100, 200, 400],\n",
       "                         'n_estimators': [10, 25, 50, 80, 100]},\n",
       "             return_train_score=True, verbose=1)"
      ]
     },
     "execution_count": 514,
     "metadata": {},
     "output_type": "execute_result"
    }
   ],
   "source": [
    "Grid_search.fit(x_train,y_train)"
   ]
  },
  {
   "cell_type": "code",
   "execution_count": 515,
   "id": "1f94eddf",
   "metadata": {},
   "outputs": [
    {
     "data": {
      "text/plain": [
       "0.7126220432181831"
      ]
     },
     "execution_count": 515,
     "metadata": {},
     "output_type": "execute_result"
    }
   ],
   "source": [
    "Grid_search.best_score_"
   ]
  },
  {
   "cell_type": "code",
   "execution_count": 516,
   "id": "b0debb27",
   "metadata": {},
   "outputs": [
    {
     "data": {
      "text/plain": [
       "RandomForestClassifier(max_depth=20, max_features=5, min_samples_leaf=20,\n",
       "                       n_jobs=-1, random_state=100)"
      ]
     },
     "execution_count": 516,
     "metadata": {},
     "output_type": "execute_result"
    }
   ],
   "source": [
    "Grid_search.best_estimator_"
   ]
  },
  {
   "cell_type": "code",
   "execution_count": 517,
   "id": "45f75fe4",
   "metadata": {},
   "outputs": [
    {
     "data": {
      "text/html": [
       "<div>\n",
       "<style scoped>\n",
       "    .dataframe tbody tr th:only-of-type {\n",
       "        vertical-align: middle;\n",
       "    }\n",
       "\n",
       "    .dataframe tbody tr th {\n",
       "        vertical-align: top;\n",
       "    }\n",
       "\n",
       "    .dataframe thead th {\n",
       "        text-align: right;\n",
       "    }\n",
       "</style>\n",
       "<table border=\"1\" class=\"dataframe\">\n",
       "  <thead>\n",
       "    <tr style=\"text-align: right;\">\n",
       "      <th></th>\n",
       "      <th>mean_fit_time</th>\n",
       "      <th>std_fit_time</th>\n",
       "      <th>mean_score_time</th>\n",
       "      <th>std_score_time</th>\n",
       "      <th>param_max_depth</th>\n",
       "      <th>param_max_features</th>\n",
       "      <th>param_min_samples_leaf</th>\n",
       "      <th>param_n_estimators</th>\n",
       "      <th>params</th>\n",
       "      <th>split0_test_score</th>\n",
       "      <th>split1_test_score</th>\n",
       "      <th>split2_test_score</th>\n",
       "      <th>split3_test_score</th>\n",
       "      <th>split4_test_score</th>\n",
       "      <th>mean_test_score</th>\n",
       "      <th>std_test_score</th>\n",
       "      <th>rank_test_score</th>\n",
       "      <th>split0_train_score</th>\n",
       "      <th>split1_train_score</th>\n",
       "      <th>split2_train_score</th>\n",
       "      <th>split3_train_score</th>\n",
       "      <th>split4_train_score</th>\n",
       "      <th>mean_train_score</th>\n",
       "      <th>std_train_score</th>\n",
       "    </tr>\n",
       "  </thead>\n",
       "  <tbody>\n",
       "    <tr>\n",
       "      <th>0</th>\n",
       "      <td>0.145459</td>\n",
       "      <td>0.007614</td>\n",
       "      <td>0.047424</td>\n",
       "      <td>0.013688</td>\n",
       "      <td>3</td>\n",
       "      <td>3</td>\n",
       "      <td>20</td>\n",
       "      <td>10</td>\n",
       "      <td>{'max_depth': 3, 'max_features': 3, 'min_sampl...</td>\n",
       "      <td>0.669093</td>\n",
       "      <td>0.681411</td>\n",
       "      <td>0.679731</td>\n",
       "      <td>0.678611</td>\n",
       "      <td>0.683473</td>\n",
       "      <td>0.678464</td>\n",
       "      <td>0.004964</td>\n",
       "      <td>420</td>\n",
       "      <td>0.679686</td>\n",
       "      <td>0.680386</td>\n",
       "      <td>0.679266</td>\n",
       "      <td>0.685986</td>\n",
       "      <td>0.684071</td>\n",
       "      <td>0.681879</td>\n",
       "      <td>0.002666</td>\n",
       "    </tr>\n",
       "    <tr>\n",
       "      <th>1</th>\n",
       "      <td>0.253358</td>\n",
       "      <td>0.033343</td>\n",
       "      <td>0.144128</td>\n",
       "      <td>0.041028</td>\n",
       "      <td>3</td>\n",
       "      <td>3</td>\n",
       "      <td>20</td>\n",
       "      <td>25</td>\n",
       "      <td>{'max_depth': 3, 'max_features': 3, 'min_sampl...</td>\n",
       "      <td>0.681971</td>\n",
       "      <td>0.692609</td>\n",
       "      <td>0.689250</td>\n",
       "      <td>0.680851</td>\n",
       "      <td>0.675070</td>\n",
       "      <td>0.683950</td>\n",
       "      <td>0.006252</td>\n",
       "      <td>373</td>\n",
       "      <td>0.695926</td>\n",
       "      <td>0.687386</td>\n",
       "      <td>0.684446</td>\n",
       "      <td>0.688506</td>\n",
       "      <td>0.686030</td>\n",
       "      <td>0.688459</td>\n",
       "      <td>0.003973</td>\n",
       "    </tr>\n",
       "    <tr>\n",
       "      <th>2</th>\n",
       "      <td>0.478714</td>\n",
       "      <td>0.051285</td>\n",
       "      <td>0.104104</td>\n",
       "      <td>0.023726</td>\n",
       "      <td>3</td>\n",
       "      <td>3</td>\n",
       "      <td>20</td>\n",
       "      <td>50</td>\n",
       "      <td>{'max_depth': 3, 'max_features': 3, 'min_sampl...</td>\n",
       "      <td>0.686450</td>\n",
       "      <td>0.698768</td>\n",
       "      <td>0.688690</td>\n",
       "      <td>0.686450</td>\n",
       "      <td>0.690756</td>\n",
       "      <td>0.690223</td>\n",
       "      <td>0.004563</td>\n",
       "      <td>288</td>\n",
       "      <td>0.702646</td>\n",
       "      <td>0.695926</td>\n",
       "      <td>0.696486</td>\n",
       "      <td>0.694666</td>\n",
       "      <td>0.693029</td>\n",
       "      <td>0.696551</td>\n",
       "      <td>0.003271</td>\n",
       "    </tr>\n",
       "    <tr>\n",
       "      <th>3</th>\n",
       "      <td>0.831894</td>\n",
       "      <td>0.082943</td>\n",
       "      <td>0.159304</td>\n",
       "      <td>0.055154</td>\n",
       "      <td>3</td>\n",
       "      <td>3</td>\n",
       "      <td>20</td>\n",
       "      <td>80</td>\n",
       "      <td>{'max_depth': 3, 'max_features': 3, 'min_sampl...</td>\n",
       "      <td>0.681971</td>\n",
       "      <td>0.699328</td>\n",
       "      <td>0.689250</td>\n",
       "      <td>0.687010</td>\n",
       "      <td>0.689636</td>\n",
       "      <td>0.689439</td>\n",
       "      <td>0.005649</td>\n",
       "      <td>300</td>\n",
       "      <td>0.696626</td>\n",
       "      <td>0.695926</td>\n",
       "      <td>0.693546</td>\n",
       "      <td>0.692426</td>\n",
       "      <td>0.692609</td>\n",
       "      <td>0.694227</td>\n",
       "      <td>0.001730</td>\n",
       "    </tr>\n",
       "    <tr>\n",
       "      <th>4</th>\n",
       "      <td>1.193332</td>\n",
       "      <td>0.051706</td>\n",
       "      <td>0.160804</td>\n",
       "      <td>0.030328</td>\n",
       "      <td>3</td>\n",
       "      <td>3</td>\n",
       "      <td>20</td>\n",
       "      <td>100</td>\n",
       "      <td>{'max_depth': 3, 'max_features': 3, 'min_sampl...</td>\n",
       "      <td>0.680851</td>\n",
       "      <td>0.698208</td>\n",
       "      <td>0.686450</td>\n",
       "      <td>0.687570</td>\n",
       "      <td>0.682913</td>\n",
       "      <td>0.687199</td>\n",
       "      <td>0.006009</td>\n",
       "      <td>332</td>\n",
       "      <td>0.695086</td>\n",
       "      <td>0.694246</td>\n",
       "      <td>0.689906</td>\n",
       "      <td>0.690746</td>\n",
       "      <td>0.689810</td>\n",
       "      <td>0.691959</td>\n",
       "      <td>0.002250</td>\n",
       "    </tr>\n",
       "    <tr>\n",
       "      <th>...</th>\n",
       "      <td>...</td>\n",
       "      <td>...</td>\n",
       "      <td>...</td>\n",
       "      <td>...</td>\n",
       "      <td>...</td>\n",
       "      <td>...</td>\n",
       "      <td>...</td>\n",
       "      <td>...</td>\n",
       "      <td>...</td>\n",
       "      <td>...</td>\n",
       "      <td>...</td>\n",
       "      <td>...</td>\n",
       "      <td>...</td>\n",
       "      <td>...</td>\n",
       "      <td>...</td>\n",
       "      <td>...</td>\n",
       "      <td>...</td>\n",
       "      <td>...</td>\n",
       "      <td>...</td>\n",
       "      <td>...</td>\n",
       "      <td>...</td>\n",
       "      <td>...</td>\n",
       "      <td>...</td>\n",
       "      <td>...</td>\n",
       "    </tr>\n",
       "    <tr>\n",
       "      <th>620</th>\n",
       "      <td>0.376438</td>\n",
       "      <td>0.190787</td>\n",
       "      <td>0.241471</td>\n",
       "      <td>0.188566</td>\n",
       "      <td>20</td>\n",
       "      <td>15</td>\n",
       "      <td>400</td>\n",
       "      <td>10</td>\n",
       "      <td>{'max_depth': 20, 'max_features': 15, 'min_sam...</td>\n",
       "      <td>0.659574</td>\n",
       "      <td>0.693169</td>\n",
       "      <td>0.669653</td>\n",
       "      <td>0.674132</td>\n",
       "      <td>0.688515</td>\n",
       "      <td>0.677009</td>\n",
       "      <td>0.012328</td>\n",
       "      <td>447</td>\n",
       "      <td>0.683046</td>\n",
       "      <td>0.682206</td>\n",
       "      <td>0.671147</td>\n",
       "      <td>0.686266</td>\n",
       "      <td>0.679171</td>\n",
       "      <td>0.680367</td>\n",
       "      <td>0.005134</td>\n",
       "    </tr>\n",
       "    <tr>\n",
       "      <th>621</th>\n",
       "      <td>0.391153</td>\n",
       "      <td>0.053283</td>\n",
       "      <td>0.169566</td>\n",
       "      <td>0.098149</td>\n",
       "      <td>20</td>\n",
       "      <td>15</td>\n",
       "      <td>400</td>\n",
       "      <td>25</td>\n",
       "      <td>{'max_depth': 20, 'max_features': 15, 'min_sam...</td>\n",
       "      <td>0.663494</td>\n",
       "      <td>0.680291</td>\n",
       "      <td>0.667973</td>\n",
       "      <td>0.659015</td>\n",
       "      <td>0.672269</td>\n",
       "      <td>0.668608</td>\n",
       "      <td>0.007328</td>\n",
       "      <td>580</td>\n",
       "      <td>0.678846</td>\n",
       "      <td>0.676886</td>\n",
       "      <td>0.665687</td>\n",
       "      <td>0.679406</td>\n",
       "      <td>0.677632</td>\n",
       "      <td>0.675692</td>\n",
       "      <td>0.005080</td>\n",
       "    </tr>\n",
       "    <tr>\n",
       "      <th>622</th>\n",
       "      <td>0.627933</td>\n",
       "      <td>0.074006</td>\n",
       "      <td>0.171864</td>\n",
       "      <td>0.072934</td>\n",
       "      <td>20</td>\n",
       "      <td>15</td>\n",
       "      <td>400</td>\n",
       "      <td>50</td>\n",
       "      <td>{'max_depth': 20, 'max_features': 15, 'min_sam...</td>\n",
       "      <td>0.667413</td>\n",
       "      <td>0.689810</td>\n",
       "      <td>0.683651</td>\n",
       "      <td>0.667973</td>\n",
       "      <td>0.676751</td>\n",
       "      <td>0.677119</td>\n",
       "      <td>0.008737</td>\n",
       "      <td>444</td>\n",
       "      <td>0.684726</td>\n",
       "      <td>0.680386</td>\n",
       "      <td>0.675766</td>\n",
       "      <td>0.682766</td>\n",
       "      <td>0.676512</td>\n",
       "      <td>0.680031</td>\n",
       "      <td>0.003471</td>\n",
       "    </tr>\n",
       "    <tr>\n",
       "      <th>623</th>\n",
       "      <td>1.010517</td>\n",
       "      <td>0.108977</td>\n",
       "      <td>0.424112</td>\n",
       "      <td>0.184221</td>\n",
       "      <td>20</td>\n",
       "      <td>15</td>\n",
       "      <td>400</td>\n",
       "      <td>80</td>\n",
       "      <td>{'max_depth': 20, 'max_features': 15, 'min_sam...</td>\n",
       "      <td>0.668533</td>\n",
       "      <td>0.687010</td>\n",
       "      <td>0.680291</td>\n",
       "      <td>0.669093</td>\n",
       "      <td>0.679552</td>\n",
       "      <td>0.676896</td>\n",
       "      <td>0.007095</td>\n",
       "      <td>455</td>\n",
       "      <td>0.686966</td>\n",
       "      <td>0.681366</td>\n",
       "      <td>0.677306</td>\n",
       "      <td>0.683746</td>\n",
       "      <td>0.678331</td>\n",
       "      <td>0.681543</td>\n",
       "      <td>0.003537</td>\n",
       "    </tr>\n",
       "    <tr>\n",
       "      <th>624</th>\n",
       "      <td>1.209111</td>\n",
       "      <td>0.143366</td>\n",
       "      <td>0.124860</td>\n",
       "      <td>0.040749</td>\n",
       "      <td>20</td>\n",
       "      <td>15</td>\n",
       "      <td>400</td>\n",
       "      <td>100</td>\n",
       "      <td>{'max_depth': 20, 'max_features': 15, 'min_sam...</td>\n",
       "      <td>0.669093</td>\n",
       "      <td>0.681411</td>\n",
       "      <td>0.686450</td>\n",
       "      <td>0.670213</td>\n",
       "      <td>0.676751</td>\n",
       "      <td>0.676784</td>\n",
       "      <td>0.006591</td>\n",
       "      <td>459</td>\n",
       "      <td>0.686406</td>\n",
       "      <td>0.680946</td>\n",
       "      <td>0.678426</td>\n",
       "      <td>0.684306</td>\n",
       "      <td>0.678751</td>\n",
       "      <td>0.681767</td>\n",
       "      <td>0.003127</td>\n",
       "    </tr>\n",
       "  </tbody>\n",
       "</table>\n",
       "<p>625 rows × 24 columns</p>\n",
       "</div>"
      ],
      "text/plain": [
       "     mean_fit_time  std_fit_time  mean_score_time  std_score_time  \\\n",
       "0         0.145459      0.007614         0.047424        0.013688   \n",
       "1         0.253358      0.033343         0.144128        0.041028   \n",
       "2         0.478714      0.051285         0.104104        0.023726   \n",
       "3         0.831894      0.082943         0.159304        0.055154   \n",
       "4         1.193332      0.051706         0.160804        0.030328   \n",
       "..             ...           ...              ...             ...   \n",
       "620       0.376438      0.190787         0.241471        0.188566   \n",
       "621       0.391153      0.053283         0.169566        0.098149   \n",
       "622       0.627933      0.074006         0.171864        0.072934   \n",
       "623       1.010517      0.108977         0.424112        0.184221   \n",
       "624       1.209111      0.143366         0.124860        0.040749   \n",
       "\n",
       "    param_max_depth param_max_features param_min_samples_leaf  \\\n",
       "0                 3                  3                     20   \n",
       "1                 3                  3                     20   \n",
       "2                 3                  3                     20   \n",
       "3                 3                  3                     20   \n",
       "4                 3                  3                     20   \n",
       "..              ...                ...                    ...   \n",
       "620              20                 15                    400   \n",
       "621              20                 15                    400   \n",
       "622              20                 15                    400   \n",
       "623              20                 15                    400   \n",
       "624              20                 15                    400   \n",
       "\n",
       "    param_n_estimators                                             params  \\\n",
       "0                   10  {'max_depth': 3, 'max_features': 3, 'min_sampl...   \n",
       "1                   25  {'max_depth': 3, 'max_features': 3, 'min_sampl...   \n",
       "2                   50  {'max_depth': 3, 'max_features': 3, 'min_sampl...   \n",
       "3                   80  {'max_depth': 3, 'max_features': 3, 'min_sampl...   \n",
       "4                  100  {'max_depth': 3, 'max_features': 3, 'min_sampl...   \n",
       "..                 ...                                                ...   \n",
       "620                 10  {'max_depth': 20, 'max_features': 15, 'min_sam...   \n",
       "621                 25  {'max_depth': 20, 'max_features': 15, 'min_sam...   \n",
       "622                 50  {'max_depth': 20, 'max_features': 15, 'min_sam...   \n",
       "623                 80  {'max_depth': 20, 'max_features': 15, 'min_sam...   \n",
       "624                100  {'max_depth': 20, 'max_features': 15, 'min_sam...   \n",
       "\n",
       "     split0_test_score  split1_test_score  split2_test_score  \\\n",
       "0             0.669093           0.681411           0.679731   \n",
       "1             0.681971           0.692609           0.689250   \n",
       "2             0.686450           0.698768           0.688690   \n",
       "3             0.681971           0.699328           0.689250   \n",
       "4             0.680851           0.698208           0.686450   \n",
       "..                 ...                ...                ...   \n",
       "620           0.659574           0.693169           0.669653   \n",
       "621           0.663494           0.680291           0.667973   \n",
       "622           0.667413           0.689810           0.683651   \n",
       "623           0.668533           0.687010           0.680291   \n",
       "624           0.669093           0.681411           0.686450   \n",
       "\n",
       "     split3_test_score  split4_test_score  mean_test_score  std_test_score  \\\n",
       "0             0.678611           0.683473         0.678464        0.004964   \n",
       "1             0.680851           0.675070         0.683950        0.006252   \n",
       "2             0.686450           0.690756         0.690223        0.004563   \n",
       "3             0.687010           0.689636         0.689439        0.005649   \n",
       "4             0.687570           0.682913         0.687199        0.006009   \n",
       "..                 ...                ...              ...             ...   \n",
       "620           0.674132           0.688515         0.677009        0.012328   \n",
       "621           0.659015           0.672269         0.668608        0.007328   \n",
       "622           0.667973           0.676751         0.677119        0.008737   \n",
       "623           0.669093           0.679552         0.676896        0.007095   \n",
       "624           0.670213           0.676751         0.676784        0.006591   \n",
       "\n",
       "     rank_test_score  split0_train_score  split1_train_score  \\\n",
       "0                420            0.679686            0.680386   \n",
       "1                373            0.695926            0.687386   \n",
       "2                288            0.702646            0.695926   \n",
       "3                300            0.696626            0.695926   \n",
       "4                332            0.695086            0.694246   \n",
       "..               ...                 ...                 ...   \n",
       "620              447            0.683046            0.682206   \n",
       "621              580            0.678846            0.676886   \n",
       "622              444            0.684726            0.680386   \n",
       "623              455            0.686966            0.681366   \n",
       "624              459            0.686406            0.680946   \n",
       "\n",
       "     split2_train_score  split3_train_score  split4_train_score  \\\n",
       "0              0.679266            0.685986            0.684071   \n",
       "1              0.684446            0.688506            0.686030   \n",
       "2              0.696486            0.694666            0.693029   \n",
       "3              0.693546            0.692426            0.692609   \n",
       "4              0.689906            0.690746            0.689810   \n",
       "..                  ...                 ...                 ...   \n",
       "620            0.671147            0.686266            0.679171   \n",
       "621            0.665687            0.679406            0.677632   \n",
       "622            0.675766            0.682766            0.676512   \n",
       "623            0.677306            0.683746            0.678331   \n",
       "624            0.678426            0.684306            0.678751   \n",
       "\n",
       "     mean_train_score  std_train_score  \n",
       "0            0.681879         0.002666  \n",
       "1            0.688459         0.003973  \n",
       "2            0.696551         0.003271  \n",
       "3            0.694227         0.001730  \n",
       "4            0.691959         0.002250  \n",
       "..                ...              ...  \n",
       "620          0.680367         0.005134  \n",
       "621          0.675692         0.005080  \n",
       "622          0.680031         0.003471  \n",
       "623          0.681543         0.003537  \n",
       "624          0.681767         0.003127  \n",
       "\n",
       "[625 rows x 24 columns]"
      ]
     },
     "execution_count": 517,
     "metadata": {},
     "output_type": "execute_result"
    }
   ],
   "source": [
    "cv_df = pd.DataFrame(Grid_search.cv_results_)\n",
    "cv_df"
   ]
  },
  {
   "cell_type": "code",
   "execution_count": 518,
   "id": "0a1a1d47",
   "metadata": {},
   "outputs": [
    {
     "data": {
      "text/html": [
       "<div>\n",
       "<style scoped>\n",
       "    .dataframe tbody tr th:only-of-type {\n",
       "        vertical-align: middle;\n",
       "    }\n",
       "\n",
       "    .dataframe tbody tr th {\n",
       "        vertical-align: top;\n",
       "    }\n",
       "\n",
       "    .dataframe thead th {\n",
       "        text-align: right;\n",
       "    }\n",
       "</style>\n",
       "<table border=\"1\" class=\"dataframe\">\n",
       "  <thead>\n",
       "    <tr style=\"text-align: right;\">\n",
       "      <th></th>\n",
       "      <th>mean_fit_time</th>\n",
       "      <th>std_fit_time</th>\n",
       "      <th>mean_score_time</th>\n",
       "      <th>std_score_time</th>\n",
       "      <th>param_max_depth</th>\n",
       "      <th>param_max_features</th>\n",
       "      <th>param_min_samples_leaf</th>\n",
       "      <th>param_n_estimators</th>\n",
       "      <th>params</th>\n",
       "      <th>split0_test_score</th>\n",
       "      <th>split1_test_score</th>\n",
       "      <th>split2_test_score</th>\n",
       "      <th>split3_test_score</th>\n",
       "      <th>split4_test_score</th>\n",
       "      <th>mean_test_score</th>\n",
       "      <th>std_test_score</th>\n",
       "      <th>rank_test_score</th>\n",
       "      <th>split0_train_score</th>\n",
       "      <th>split1_train_score</th>\n",
       "      <th>split2_train_score</th>\n",
       "      <th>split3_train_score</th>\n",
       "      <th>split4_train_score</th>\n",
       "      <th>mean_train_score</th>\n",
       "      <th>std_train_score</th>\n",
       "    </tr>\n",
       "  </thead>\n",
       "  <tbody>\n",
       "    <tr>\n",
       "      <th>529</th>\n",
       "      <td>1.224921</td>\n",
       "      <td>0.074319</td>\n",
       "      <td>0.222548</td>\n",
       "      <td>0.071012</td>\n",
       "      <td>20</td>\n",
       "      <td>5</td>\n",
       "      <td>20</td>\n",
       "      <td>100</td>\n",
       "      <td>{'max_depth': 20, 'max_features': 5, 'min_samp...</td>\n",
       "      <td>0.708847</td>\n",
       "      <td>0.716125</td>\n",
       "      <td>0.714446</td>\n",
       "      <td>0.708847</td>\n",
       "      <td>0.714846</td>\n",
       "      <td>0.712622</td>\n",
       "      <td>0.003132</td>\n",
       "      <td>1</td>\n",
       "      <td>0.727845</td>\n",
       "      <td>0.729245</td>\n",
       "      <td>0.729105</td>\n",
       "      <td>0.733305</td>\n",
       "      <td>0.731523</td>\n",
       "      <td>0.730205</td>\n",
       "      <td>0.001952</td>\n",
       "    </tr>\n",
       "    <tr>\n",
       "      <th>527</th>\n",
       "      <td>0.738486</td>\n",
       "      <td>0.111438</td>\n",
       "      <td>0.242092</td>\n",
       "      <td>0.102166</td>\n",
       "      <td>20</td>\n",
       "      <td>5</td>\n",
       "      <td>20</td>\n",
       "      <td>50</td>\n",
       "      <td>{'max_depth': 20, 'max_features': 5, 'min_samp...</td>\n",
       "      <td>0.704367</td>\n",
       "      <td>0.715006</td>\n",
       "      <td>0.718365</td>\n",
       "      <td>0.710526</td>\n",
       "      <td>0.713725</td>\n",
       "      <td>0.712398</td>\n",
       "      <td>0.004736</td>\n",
       "      <td>2</td>\n",
       "      <td>0.727425</td>\n",
       "      <td>0.729945</td>\n",
       "      <td>0.727985</td>\n",
       "      <td>0.732045</td>\n",
       "      <td>0.731243</td>\n",
       "      <td>0.729729</td>\n",
       "      <td>0.001792</td>\n",
       "    </tr>\n",
       "    <tr>\n",
       "      <th>402</th>\n",
       "      <td>0.429065</td>\n",
       "      <td>0.050311</td>\n",
       "      <td>0.121760</td>\n",
       "      <td>0.038481</td>\n",
       "      <td>15</td>\n",
       "      <td>5</td>\n",
       "      <td>20</td>\n",
       "      <td>50</td>\n",
       "      <td>{'max_depth': 15, 'max_features': 5, 'min_samp...</td>\n",
       "      <td>0.707727</td>\n",
       "      <td>0.708847</td>\n",
       "      <td>0.712206</td>\n",
       "      <td>0.712206</td>\n",
       "      <td>0.718207</td>\n",
       "      <td>0.711839</td>\n",
       "      <td>0.003652</td>\n",
       "      <td>3</td>\n",
       "      <td>0.728125</td>\n",
       "      <td>0.728405</td>\n",
       "      <td>0.727985</td>\n",
       "      <td>0.730785</td>\n",
       "      <td>0.728303</td>\n",
       "      <td>0.728721</td>\n",
       "      <td>0.001042</td>\n",
       "    </tr>\n",
       "    <tr>\n",
       "      <th>404</th>\n",
       "      <td>0.968691</td>\n",
       "      <td>0.084603</td>\n",
       "      <td>0.133920</td>\n",
       "      <td>0.024499</td>\n",
       "      <td>15</td>\n",
       "      <td>5</td>\n",
       "      <td>20</td>\n",
       "      <td>100</td>\n",
       "      <td>{'max_depth': 15, 'max_features': 5, 'min_samp...</td>\n",
       "      <td>0.707167</td>\n",
       "      <td>0.712766</td>\n",
       "      <td>0.713326</td>\n",
       "      <td>0.711646</td>\n",
       "      <td>0.714286</td>\n",
       "      <td>0.711838</td>\n",
       "      <td>0.002487</td>\n",
       "      <td>4</td>\n",
       "      <td>0.727425</td>\n",
       "      <td>0.726025</td>\n",
       "      <td>0.729105</td>\n",
       "      <td>0.731065</td>\n",
       "      <td>0.730823</td>\n",
       "      <td>0.728889</td>\n",
       "      <td>0.001942</td>\n",
       "    </tr>\n",
       "    <tr>\n",
       "      <th>528</th>\n",
       "      <td>0.961480</td>\n",
       "      <td>0.161496</td>\n",
       "      <td>0.393377</td>\n",
       "      <td>0.106302</td>\n",
       "      <td>20</td>\n",
       "      <td>5</td>\n",
       "      <td>20</td>\n",
       "      <td>80</td>\n",
       "      <td>{'max_depth': 20, 'max_features': 5, 'min_samp...</td>\n",
       "      <td>0.707727</td>\n",
       "      <td>0.711086</td>\n",
       "      <td>0.715006</td>\n",
       "      <td>0.709966</td>\n",
       "      <td>0.713725</td>\n",
       "      <td>0.711502</td>\n",
       "      <td>0.002608</td>\n",
       "      <td>5</td>\n",
       "      <td>0.727285</td>\n",
       "      <td>0.728685</td>\n",
       "      <td>0.728825</td>\n",
       "      <td>0.731065</td>\n",
       "      <td>0.730543</td>\n",
       "      <td>0.729281</td>\n",
       "      <td>0.001365</td>\n",
       "    </tr>\n",
       "  </tbody>\n",
       "</table>\n",
       "</div>"
      ],
      "text/plain": [
       "     mean_fit_time  std_fit_time  mean_score_time  std_score_time  \\\n",
       "529       1.224921      0.074319         0.222548        0.071012   \n",
       "527       0.738486      0.111438         0.242092        0.102166   \n",
       "402       0.429065      0.050311         0.121760        0.038481   \n",
       "404       0.968691      0.084603         0.133920        0.024499   \n",
       "528       0.961480      0.161496         0.393377        0.106302   \n",
       "\n",
       "    param_max_depth param_max_features param_min_samples_leaf  \\\n",
       "529              20                  5                     20   \n",
       "527              20                  5                     20   \n",
       "402              15                  5                     20   \n",
       "404              15                  5                     20   \n",
       "528              20                  5                     20   \n",
       "\n",
       "    param_n_estimators                                             params  \\\n",
       "529                100  {'max_depth': 20, 'max_features': 5, 'min_samp...   \n",
       "527                 50  {'max_depth': 20, 'max_features': 5, 'min_samp...   \n",
       "402                 50  {'max_depth': 15, 'max_features': 5, 'min_samp...   \n",
       "404                100  {'max_depth': 15, 'max_features': 5, 'min_samp...   \n",
       "528                 80  {'max_depth': 20, 'max_features': 5, 'min_samp...   \n",
       "\n",
       "     split0_test_score  split1_test_score  split2_test_score  \\\n",
       "529           0.708847           0.716125           0.714446   \n",
       "527           0.704367           0.715006           0.718365   \n",
       "402           0.707727           0.708847           0.712206   \n",
       "404           0.707167           0.712766           0.713326   \n",
       "528           0.707727           0.711086           0.715006   \n",
       "\n",
       "     split3_test_score  split4_test_score  mean_test_score  std_test_score  \\\n",
       "529           0.708847           0.714846         0.712622        0.003132   \n",
       "527           0.710526           0.713725         0.712398        0.004736   \n",
       "402           0.712206           0.718207         0.711839        0.003652   \n",
       "404           0.711646           0.714286         0.711838        0.002487   \n",
       "528           0.709966           0.713725         0.711502        0.002608   \n",
       "\n",
       "     rank_test_score  split0_train_score  split1_train_score  \\\n",
       "529                1            0.727845            0.729245   \n",
       "527                2            0.727425            0.729945   \n",
       "402                3            0.728125            0.728405   \n",
       "404                4            0.727425            0.726025   \n",
       "528                5            0.727285            0.728685   \n",
       "\n",
       "     split2_train_score  split3_train_score  split4_train_score  \\\n",
       "529            0.729105            0.733305            0.731523   \n",
       "527            0.727985            0.732045            0.731243   \n",
       "402            0.727985            0.730785            0.728303   \n",
       "404            0.729105            0.731065            0.730823   \n",
       "528            0.728825            0.731065            0.730543   \n",
       "\n",
       "     mean_train_score  std_train_score  \n",
       "529          0.730205         0.001952  \n",
       "527          0.729729         0.001792  \n",
       "402          0.728721         0.001042  \n",
       "404          0.728889         0.001942  \n",
       "528          0.729281         0.001365  "
      ]
     },
     "execution_count": 518,
     "metadata": {},
     "output_type": "execute_result"
    }
   ],
   "source": [
    "cv_df = cv_df.sort_values(by = [\"rank_test_score\"])\n",
    "cv_df.head()"
   ]
  },
  {
   "cell_type": "code",
   "execution_count": 519,
   "id": "0709d074",
   "metadata": {},
   "outputs": [],
   "source": [
    "sel_cols = [\"param_max_depth\",\"param_max_features\",\"param_min_samples_leaf\",\"param_n_estimators\",\n",
    "            \"rank_test_score\", \"mean_train_score\",\"mean_test_score\"]"
   ]
  },
  {
   "cell_type": "code",
   "execution_count": 520,
   "id": "22d057ad",
   "metadata": {},
   "outputs": [
    {
     "data": {
      "text/html": [
       "<div>\n",
       "<style scoped>\n",
       "    .dataframe tbody tr th:only-of-type {\n",
       "        vertical-align: middle;\n",
       "    }\n",
       "\n",
       "    .dataframe tbody tr th {\n",
       "        vertical-align: top;\n",
       "    }\n",
       "\n",
       "    .dataframe thead th {\n",
       "        text-align: right;\n",
       "    }\n",
       "</style>\n",
       "<table border=\"1\" class=\"dataframe\">\n",
       "  <thead>\n",
       "    <tr style=\"text-align: right;\">\n",
       "      <th></th>\n",
       "      <th>param_max_depth</th>\n",
       "      <th>param_max_features</th>\n",
       "      <th>param_min_samples_leaf</th>\n",
       "      <th>param_n_estimators</th>\n",
       "      <th>rank_test_score</th>\n",
       "      <th>mean_train_score</th>\n",
       "      <th>mean_test_score</th>\n",
       "    </tr>\n",
       "  </thead>\n",
       "  <tbody>\n",
       "    <tr>\n",
       "      <th>529</th>\n",
       "      <td>20</td>\n",
       "      <td>5</td>\n",
       "      <td>20</td>\n",
       "      <td>100</td>\n",
       "      <td>1</td>\n",
       "      <td>0.730205</td>\n",
       "      <td>0.712622</td>\n",
       "    </tr>\n",
       "    <tr>\n",
       "      <th>527</th>\n",
       "      <td>20</td>\n",
       "      <td>5</td>\n",
       "      <td>20</td>\n",
       "      <td>50</td>\n",
       "      <td>2</td>\n",
       "      <td>0.729729</td>\n",
       "      <td>0.712398</td>\n",
       "    </tr>\n",
       "    <tr>\n",
       "      <th>402</th>\n",
       "      <td>15</td>\n",
       "      <td>5</td>\n",
       "      <td>20</td>\n",
       "      <td>50</td>\n",
       "      <td>3</td>\n",
       "      <td>0.728721</td>\n",
       "      <td>0.711839</td>\n",
       "    </tr>\n",
       "    <tr>\n",
       "      <th>404</th>\n",
       "      <td>15</td>\n",
       "      <td>5</td>\n",
       "      <td>20</td>\n",
       "      <td>100</td>\n",
       "      <td>4</td>\n",
       "      <td>0.728889</td>\n",
       "      <td>0.711838</td>\n",
       "    </tr>\n",
       "    <tr>\n",
       "      <th>528</th>\n",
       "      <td>20</td>\n",
       "      <td>5</td>\n",
       "      <td>20</td>\n",
       "      <td>80</td>\n",
       "      <td>5</td>\n",
       "      <td>0.729281</td>\n",
       "      <td>0.711502</td>\n",
       "    </tr>\n",
       "    <tr>\n",
       "      <th>403</th>\n",
       "      <td>15</td>\n",
       "      <td>5</td>\n",
       "      <td>20</td>\n",
       "      <td>80</td>\n",
       "      <td>6</td>\n",
       "      <td>0.728693</td>\n",
       "      <td>0.710718</td>\n",
       "    </tr>\n",
       "    <tr>\n",
       "      <th>278</th>\n",
       "      <td>10</td>\n",
       "      <td>5</td>\n",
       "      <td>20</td>\n",
       "      <td>80</td>\n",
       "      <td>7</td>\n",
       "      <td>0.723009</td>\n",
       "      <td>0.710606</td>\n",
       "    </tr>\n",
       "    <tr>\n",
       "      <th>376</th>\n",
       "      <td>15</td>\n",
       "      <td>3</td>\n",
       "      <td>20</td>\n",
       "      <td>25</td>\n",
       "      <td>8</td>\n",
       "      <td>0.719565</td>\n",
       "      <td>0.710381</td>\n",
       "    </tr>\n",
       "    <tr>\n",
       "      <th>428</th>\n",
       "      <td>15</td>\n",
       "      <td>7</td>\n",
       "      <td>20</td>\n",
       "      <td>80</td>\n",
       "      <td>9</td>\n",
       "      <td>0.733425</td>\n",
       "      <td>0.710271</td>\n",
       "    </tr>\n",
       "    <tr>\n",
       "      <th>279</th>\n",
       "      <td>10</td>\n",
       "      <td>5</td>\n",
       "      <td>20</td>\n",
       "      <td>100</td>\n",
       "      <td>10</td>\n",
       "      <td>0.723485</td>\n",
       "      <td>0.709822</td>\n",
       "    </tr>\n",
       "    <tr>\n",
       "      <th>377</th>\n",
       "      <td>15</td>\n",
       "      <td>3</td>\n",
       "      <td>20</td>\n",
       "      <td>50</td>\n",
       "      <td>11</td>\n",
       "      <td>0.723177</td>\n",
       "      <td>0.709822</td>\n",
       "    </tr>\n",
       "    <tr>\n",
       "      <th>429</th>\n",
       "      <td>15</td>\n",
       "      <td>7</td>\n",
       "      <td>20</td>\n",
       "      <td>100</td>\n",
       "      <td>12</td>\n",
       "      <td>0.733229</td>\n",
       "      <td>0.709599</td>\n",
       "    </tr>\n",
       "    <tr>\n",
       "      <th>378</th>\n",
       "      <td>15</td>\n",
       "      <td>3</td>\n",
       "      <td>20</td>\n",
       "      <td>80</td>\n",
       "      <td>13</td>\n",
       "      <td>0.723065</td>\n",
       "      <td>0.709598</td>\n",
       "    </tr>\n",
       "    <tr>\n",
       "      <th>526</th>\n",
       "      <td>20</td>\n",
       "      <td>5</td>\n",
       "      <td>20</td>\n",
       "      <td>25</td>\n",
       "      <td>14</td>\n",
       "      <td>0.727237</td>\n",
       "      <td>0.709598</td>\n",
       "    </tr>\n",
       "    <tr>\n",
       "      <th>579</th>\n",
       "      <td>20</td>\n",
       "      <td>11</td>\n",
       "      <td>20</td>\n",
       "      <td>100</td>\n",
       "      <td>15</td>\n",
       "      <td>0.741152</td>\n",
       "      <td>0.709486</td>\n",
       "    </tr>\n",
       "    <tr>\n",
       "      <th>400</th>\n",
       "      <td>15</td>\n",
       "      <td>5</td>\n",
       "      <td>20</td>\n",
       "      <td>10</td>\n",
       "      <td>16</td>\n",
       "      <td>0.722393</td>\n",
       "      <td>0.709375</td>\n",
       "    </tr>\n",
       "    <tr>\n",
       "      <th>401</th>\n",
       "      <td>15</td>\n",
       "      <td>5</td>\n",
       "      <td>20</td>\n",
       "      <td>25</td>\n",
       "      <td>17</td>\n",
       "      <td>0.727097</td>\n",
       "      <td>0.709374</td>\n",
       "    </tr>\n",
       "    <tr>\n",
       "      <th>504</th>\n",
       "      <td>20</td>\n",
       "      <td>3</td>\n",
       "      <td>20</td>\n",
       "      <td>100</td>\n",
       "      <td>18</td>\n",
       "      <td>0.723961</td>\n",
       "      <td>0.709262</td>\n",
       "    </tr>\n",
       "    <tr>\n",
       "      <th>277</th>\n",
       "      <td>10</td>\n",
       "      <td>5</td>\n",
       "      <td>20</td>\n",
       "      <td>50</td>\n",
       "      <td>19</td>\n",
       "      <td>0.722337</td>\n",
       "      <td>0.709262</td>\n",
       "    </tr>\n",
       "    <tr>\n",
       "      <th>503</th>\n",
       "      <td>20</td>\n",
       "      <td>3</td>\n",
       "      <td>20</td>\n",
       "      <td>80</td>\n",
       "      <td>20</td>\n",
       "      <td>0.723877</td>\n",
       "      <td>0.709150</td>\n",
       "    </tr>\n",
       "  </tbody>\n",
       "</table>\n",
       "</div>"
      ],
      "text/plain": [
       "    param_max_depth param_max_features param_min_samples_leaf  \\\n",
       "529              20                  5                     20   \n",
       "527              20                  5                     20   \n",
       "402              15                  5                     20   \n",
       "404              15                  5                     20   \n",
       "528              20                  5                     20   \n",
       "403              15                  5                     20   \n",
       "278              10                  5                     20   \n",
       "376              15                  3                     20   \n",
       "428              15                  7                     20   \n",
       "279              10                  5                     20   \n",
       "377              15                  3                     20   \n",
       "429              15                  7                     20   \n",
       "378              15                  3                     20   \n",
       "526              20                  5                     20   \n",
       "579              20                 11                     20   \n",
       "400              15                  5                     20   \n",
       "401              15                  5                     20   \n",
       "504              20                  3                     20   \n",
       "277              10                  5                     20   \n",
       "503              20                  3                     20   \n",
       "\n",
       "    param_n_estimators  rank_test_score  mean_train_score  mean_test_score  \n",
       "529                100                1          0.730205         0.712622  \n",
       "527                 50                2          0.729729         0.712398  \n",
       "402                 50                3          0.728721         0.711839  \n",
       "404                100                4          0.728889         0.711838  \n",
       "528                 80                5          0.729281         0.711502  \n",
       "403                 80                6          0.728693         0.710718  \n",
       "278                 80                7          0.723009         0.710606  \n",
       "376                 25                8          0.719565         0.710381  \n",
       "428                 80                9          0.733425         0.710271  \n",
       "279                100               10          0.723485         0.709822  \n",
       "377                 50               11          0.723177         0.709822  \n",
       "429                100               12          0.733229         0.709599  \n",
       "378                 80               13          0.723065         0.709598  \n",
       "526                 25               14          0.727237         0.709598  \n",
       "579                100               15          0.741152         0.709486  \n",
       "400                 10               16          0.722393         0.709375  \n",
       "401                 25               17          0.727097         0.709374  \n",
       "504                100               18          0.723961         0.709262  \n",
       "277                 50               19          0.722337         0.709262  \n",
       "503                 80               20          0.723877         0.709150  "
      ]
     },
     "execution_count": 520,
     "metadata": {},
     "output_type": "execute_result"
    }
   ],
   "source": [
    "cv_df.sort_values(by = \"rank_test_score\")[sel_cols].head(20)"
   ]
  },
  {
   "cell_type": "code",
   "execution_count": 521,
   "id": "4a215fc8",
   "metadata": {},
   "outputs": [
    {
     "data": {
      "text/plain": [
       "Index(['mean_fit_time', 'std_fit_time', 'mean_score_time', 'std_score_time',\n",
       "       'param_max_depth', 'param_max_features', 'param_min_samples_leaf',\n",
       "       'param_n_estimators', 'params', 'split0_test_score',\n",
       "       'split1_test_score', 'split2_test_score', 'split3_test_score',\n",
       "       'split4_test_score', 'mean_test_score', 'std_test_score',\n",
       "       'rank_test_score', 'split0_train_score', 'split1_train_score',\n",
       "       'split2_train_score', 'split3_train_score', 'split4_train_score',\n",
       "       'mean_train_score', 'std_train_score'],\n",
       "      dtype='object')"
      ]
     },
     "execution_count": 521,
     "metadata": {},
     "output_type": "execute_result"
    }
   ],
   "source": [
    "# Understanding the better: Effect of Hyper Parameter:\n",
    "\n",
    "cv_df.columns"
   ]
  },
  {
   "cell_type": "code",
   "execution_count": 522,
   "id": "5dbb374c",
   "metadata": {},
   "outputs": [
    {
     "data": {
      "text/html": [
       "<div>\n",
       "<style scoped>\n",
       "    .dataframe tbody tr th:only-of-type {\n",
       "        vertical-align: middle;\n",
       "    }\n",
       "\n",
       "    .dataframe tbody tr th {\n",
       "        vertical-align: top;\n",
       "    }\n",
       "\n",
       "    .dataframe thead th {\n",
       "        text-align: right;\n",
       "    }\n",
       "</style>\n",
       "<table border=\"1\" class=\"dataframe\">\n",
       "  <thead>\n",
       "    <tr style=\"text-align: right;\">\n",
       "      <th></th>\n",
       "      <th>mean_train_score</th>\n",
       "      <th>mean_test_score</th>\n",
       "    </tr>\n",
       "    <tr>\n",
       "      <th>param_max_depth</th>\n",
       "      <th></th>\n",
       "      <th></th>\n",
       "    </tr>\n",
       "  </thead>\n",
       "  <tbody>\n",
       "    <tr>\n",
       "      <th>3</th>\n",
       "      <td>0.679182</td>\n",
       "      <td>0.674851</td>\n",
       "    </tr>\n",
       "    <tr>\n",
       "      <th>5</th>\n",
       "      <td>0.692787</td>\n",
       "      <td>0.687117</td>\n",
       "    </tr>\n",
       "    <tr>\n",
       "      <th>10</th>\n",
       "      <td>0.701377</td>\n",
       "      <td>0.691649</td>\n",
       "    </tr>\n",
       "    <tr>\n",
       "      <th>15</th>\n",
       "      <td>0.703504</td>\n",
       "      <td>0.691942</td>\n",
       "    </tr>\n",
       "    <tr>\n",
       "      <th>20</th>\n",
       "      <td>0.703756</td>\n",
       "      <td>0.692096</td>\n",
       "    </tr>\n",
       "  </tbody>\n",
       "</table>\n",
       "</div>"
      ],
      "text/plain": [
       "                 mean_train_score  mean_test_score\n",
       "param_max_depth                                   \n",
       "3                        0.679182         0.674851\n",
       "5                        0.692787         0.687117\n",
       "10                       0.701377         0.691649\n",
       "15                       0.703504         0.691942\n",
       "20                       0.703756         0.692096"
      ]
     },
     "execution_count": 522,
     "metadata": {},
     "output_type": "execute_result"
    }
   ],
   "source": [
    "cv_df.groupby(\"param_max_depth\")[\"mean_train_score\", \"mean_test_score\"].mean()"
   ]
  },
  {
   "cell_type": "code",
   "execution_count": 523,
   "id": "d5224144",
   "metadata": {},
   "outputs": [
    {
     "data": {
      "image/png": "[encoded data removed]",
      "text/plain": [
       "<Figure size 720x360 with 1 Axes>"
      ]
     },
     "metadata": {},
     "output_type": "display_data"
    }
   ],
   "source": [
    "cv_df.groupby(\"param_max_depth\")[\"mean_train_score\", \"mean_test_score\"].mean().plot(figsize = [10,5])\n",
    "plt.show()"
   ]
  },
  {
   "cell_type": "code",
   "execution_count": 524,
   "id": "7e9090ac",
   "metadata": {},
   "outputs": [
    {
     "data": {
      "image/png": "[encoded data removed]",
      "text/plain": [
       "<Figure size 720x360 with 1 Axes>"
      ]
     },
     "metadata": {},
     "output_type": "display_data"
    }
   ],
   "source": [
    "cv_df.groupby(\"param_max_depth\")[\"mean_train_score\", \"mean_test_score\"].agg(np.median).plot(figsize = [10,5])\n",
    "plt.show()"
   ]
  },
  {
   "cell_type": "code",
   "execution_count": 525,
   "id": "b70f173b",
   "metadata": {},
   "outputs": [
    {
     "data": {
      "image/png": "[encoded data removed]",
      "text/plain": [
       "<Figure size 720x360 with 1 Axes>"
      ]
     },
     "metadata": {},
     "output_type": "display_data"
    }
   ],
   "source": [
    "cv_df.groupby(\"param_n_estimators\")[\"mean_train_score\", \"mean_test_score\"].agg(np.mean).plot(figsize = [10,5])\n",
    "plt.show()"
   ]
  },
  {
   "cell_type": "code",
   "execution_count": 526,
   "id": "5c5e2d2f",
   "metadata": {},
   "outputs": [
    {
     "data": {
      "image/png": "[encoded data removed]",
      "text/plain": [
       "<Figure size 720x360 with 1 Axes>"
      ]
     },
     "metadata": {},
     "output_type": "display_data"
    }
   ],
   "source": [
    "cv_df.groupby(\"param_max_features\")[\"mean_train_score\", \"mean_test_score\"].agg(np.median).plot(figsize = [10,5])\n",
    "plt.show()"
   ]
  },
  {
   "cell_type": "code",
   "execution_count": 527,
   "id": "efd17f95",
   "metadata": {},
   "outputs": [
    {
     "data": {
      "image/png": "[encoded data removed]",
      "text/plain": [
       "<Figure size 720x360 with 1 Axes>"
      ]
     },
     "metadata": {},
     "output_type": "display_data"
    }
   ],
   "source": [
    "cv_df.groupby(\"param_max_features\")[\"mean_train_score\", \"mean_test_score\"].agg(np.mean).plot(figsize = [10,5])\n",
    "plt.show()"
   ]
  },
  {
   "cell_type": "code",
   "execution_count": 528,
   "id": "edc1745e",
   "metadata": {},
   "outputs": [
    {
     "data": {
      "image/png": "[encoded data removed]",
      "text/plain": [
       "<Figure size 720x360 with 1 Axes>"
      ]
     },
     "metadata": {},
     "output_type": "display_data"
    }
   ],
   "source": [
    "cv_df.groupby(\"param_min_samples_leaf\")[\"mean_train_score\", \"mean_test_score\"].agg(np.median).plot(figsize = [10,5])\n",
    "plt.show()"
   ]
  },
  {
   "cell_type": "markdown",
   "id": "b83b5d42",
   "metadata": {},
   "source": [
    "* Fine Tuning using Grid Search:"
   ]
  },
  {
   "cell_type": "code",
   "execution_count": 529,
   "id": "adc21870",
   "metadata": {},
   "outputs": [],
   "source": [
    "params  = {\"min_samples_leaf\" : [5,10,20,50],\n",
    "          \"n_estimators\": [50,60,70],\n",
    "          \"max_features\": [10,12,14,16]}"
   ]
  },
  {
   "cell_type": "code",
   "execution_count": 530,
   "id": "0c6ab425",
   "metadata": {},
   "outputs": [],
   "source": [
    "rf = RandomForestClassifier(max_depth=12, random_state=100, n_jobs=-1)"
   ]
  },
  {
   "cell_type": "code",
   "execution_count": 531,
   "id": "b2865f98",
   "metadata": {},
   "outputs": [],
   "source": [
    "Grid_search2 = GridSearchCV(estimator=rf, \n",
    "                           param_grid=params,\n",
    "                           verbose=1,\n",
    "                           cv = 5,\n",
    "                           return_train_score=True,\n",
    "                           n_jobs=-1)"
   ]
  },
  {
   "cell_type": "code",
   "execution_count": 532,
   "id": "b48f785b",
   "metadata": {},
   "outputs": [
    {
     "name": "stdout",
     "output_type": "stream",
     "text": [
      "Fitting 5 folds for each of 48 candidates, totalling 240 fits\n"
     ]
    },
    {
     "data": {
      "text/plain": [
       "GridSearchCV(cv=5,\n",
       "             estimator=RandomForestClassifier(max_depth=12, n_jobs=-1,\n",
       "                                              random_state=100),\n",
       "             n_jobs=-1,\n",
       "             param_grid={'max_features': [10, 12, 14, 16],\n",
       "                         'min_samples_leaf': [5, 10, 20, 50],\n",
       "                         'n_estimators': [50, 60, 70]},\n",
       "             return_train_score=True, verbose=1)"
      ]
     },
     "execution_count": 532,
     "metadata": {},
     "output_type": "execute_result"
    }
   ],
   "source": [
    "Grid_search2.fit(x_train,y_train)"
   ]
  },
  {
   "cell_type": "code",
   "execution_count": 533,
   "id": "672504e4",
   "metadata": {},
   "outputs": [
    {
     "data": {
      "text/plain": [
       "0.7129580522018438"
      ]
     },
     "execution_count": 533,
     "metadata": {},
     "output_type": "execute_result"
    }
   ],
   "source": [
    "Grid_search2.best_score_"
   ]
  },
  {
   "cell_type": "code",
   "execution_count": 534,
   "id": "0366f2b1",
   "metadata": {},
   "outputs": [
    {
     "data": {
      "text/plain": [
       "RandomForestClassifier(max_depth=12, max_features=12, min_samples_leaf=5,\n",
       "                       n_estimators=70, n_jobs=-1, random_state=100)"
      ]
     },
     "execution_count": 534,
     "metadata": {},
     "output_type": "execute_result"
    }
   ],
   "source": [
    "Grid_search2.best_estimator_"
   ]
  },
  {
   "cell_type": "markdown",
   "id": "5a413972",
   "metadata": {},
   "source": [
    "* Hyper Tuning - RandomizedSearchCV:"
   ]
  },
  {
   "cell_type": "code",
   "execution_count": 540,
   "id": "14913831",
   "metadata": {},
   "outputs": [],
   "source": [
    "from sklearn.model_selection import RandomizedSearchCV"
   ]
  },
  {
   "cell_type": "code",
   "execution_count": 541,
   "id": "53305b10",
   "metadata": {},
   "outputs": [],
   "source": [
    "params = {\"max_depth\":range(3,20),\n",
    "         \"max_features\":range(3,17),\n",
    "         \"min_samples_leaf\":range(20,400,50),\n",
    "         \"n_estimators\":range(10,101,10)}"
   ]
  },
  {
   "cell_type": "code",
   "execution_count": 542,
   "id": "a2eea877",
   "metadata": {},
   "outputs": [],
   "source": [
    "rscv = RandomizedSearchCV(estimator=rf, param_distributions=params,\n",
    "                         verbose=1, cv=5,\n",
    "                         return_train_score=True, n_jobs=-1,\n",
    "                         n_iter=50)"
   ]
  },
  {
   "cell_type": "code",
   "execution_count": 543,
   "id": "747bb986",
   "metadata": {},
   "outputs": [
    {
     "name": "stdout",
     "output_type": "stream",
     "text": [
      "Fitting 5 folds for each of 50 candidates, totalling 250 fits\n"
     ]
    },
    {
     "data": {
      "text/plain": [
       "RandomizedSearchCV(cv=5,\n",
       "                   estimator=RandomForestClassifier(max_depth=12, n_jobs=-1,\n",
       "                                                    random_state=100),\n",
       "                   n_iter=50, n_jobs=-1,\n",
       "                   param_distributions={'max_depth': range(3, 20),\n",
       "                                        'max_features': range(3, 17),\n",
       "                                        'min_samples_leaf': range(20, 400, 50)},\n",
       "                   return_train_score=True, verbose=1)"
      ]
     },
     "execution_count": 543,
     "metadata": {},
     "output_type": "execute_result"
    }
   ],
   "source": [
    "rscv.fit(x_train,y_train)"
   ]
  },
  {
   "cell_type": "code",
   "execution_count": 544,
   "id": "e24643b4",
   "metadata": {},
   "outputs": [
    {
     "data": {
      "text/plain": [
       "0.7091493439481056"
      ]
     },
     "execution_count": 544,
     "metadata": {},
     "output_type": "execute_result"
    }
   ],
   "source": [
    "rscv.best_score_"
   ]
  },
  {
   "cell_type": "code",
   "execution_count": 545,
   "id": "a32aa0f5",
   "metadata": {},
   "outputs": [
    {
     "data": {
      "text/plain": [
       "0.7126220432181831"
      ]
     },
     "execution_count": 545,
     "metadata": {},
     "output_type": "execute_result"
    }
   ],
   "source": [
    "Grid_search.best_score_"
   ]
  },
  {
   "cell_type": "code",
   "execution_count": 546,
   "id": "5400c755",
   "metadata": {},
   "outputs": [
    {
     "data": {
      "text/plain": [
       "0.7129580522018438"
      ]
     },
     "execution_count": 546,
     "metadata": {},
     "output_type": "execute_result"
    }
   ],
   "source": [
    "Grid_search2.best_score_"
   ]
  },
  {
   "cell_type": "markdown",
   "id": "d91c3642",
   "metadata": {},
   "source": [
    "#### 12. Exrtacting the Best Model:"
   ]
  },
  {
   "cell_type": "code",
   "execution_count": 547,
   "id": "4068456e",
   "metadata": {},
   "outputs": [
    {
     "data": {
      "text/plain": [
       "RandomForestClassifier(max_depth=12, max_features=12, min_samples_leaf=5,\n",
       "                       n_estimators=70, n_jobs=-1, random_state=100)"
      ]
     },
     "execution_count": 547,
     "metadata": {},
     "output_type": "execute_result"
    }
   ],
   "source": [
    "rf_best = Grid_search2.best_estimator_\n",
    "rf_best"
   ]
  },
  {
   "cell_type": "code",
   "execution_count": 548,
   "id": "8388d720",
   "metadata": {},
   "outputs": [],
   "source": [
    "y_test_pred = rf_best.predict(x_test)"
   ]
  },
  {
   "cell_type": "code",
   "execution_count": 549,
   "id": "d9be75e5",
   "metadata": {},
   "outputs": [
    {
     "data": {
      "text/plain": [
       "array([0, 1, 0, ..., 1, 1, 0], dtype=int64)"
      ]
     },
     "execution_count": 549,
     "metadata": {},
     "output_type": "execute_result"
    }
   ],
   "source": [
    "y_test_pred"
   ]
  },
  {
   "cell_type": "code",
   "execution_count": 550,
   "id": "df6a28f7",
   "metadata": {},
   "outputs": [
    {
     "data": {
      "text/plain": [
       "0.7299596954769368"
      ]
     },
     "execution_count": 550,
     "metadata": {},
     "output_type": "execute_result"
    }
   ],
   "source": [
    "accuracy_score(y_test, y_test_pred)"
   ]
  },
  {
   "cell_type": "code",
   "execution_count": 551,
   "id": "9f012799",
   "metadata": {},
   "outputs": [
    {
     "name": "stdout",
     "output_type": "stream",
     "text": [
      "              precision    recall  f1-score   support\n",
      "\n",
      "           0       0.71      0.82      0.76      1175\n",
      "           1       0.76      0.63      0.69      1058\n",
      "\n",
      "    accuracy                           0.73      2233\n",
      "   macro avg       0.74      0.72      0.72      2233\n",
      "weighted avg       0.73      0.73      0.73      2233\n",
      "\n"
     ]
    }
   ],
   "source": [
    "print(classification_report(y_test, y_test_pred))"
   ]
  },
  {
   "cell_type": "markdown",
   "id": "090f55d6",
   "metadata": {},
   "source": [
    "##### Final Model is having accuracy of 72%"
   ]
  }
 ],
 "metadata": {
  "kernelspec": {
   "display_name": "Python 3 (ipykernel)",
   "language": "python",
   "name": "python3"
  },
  "language_info": {
   "codemirror_mode": {
    "name": "ipython",
    "version": 3
   },
   "file_extension": ".py",
   "mimetype": "text/x-python",
   "name": "python",
   "nbconvert_exporter": "python",
   "pygments_lexer": "ipython3",
   "version": "3.9.7"
  }
 },
 "nbformat": 4,
 "nbformat_minor": 5
}
